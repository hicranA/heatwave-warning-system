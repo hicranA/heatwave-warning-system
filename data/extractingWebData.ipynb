{
 "cells": [
  {
   "cell_type": "markdown",
   "metadata": {},
   "source": [
    "# Extracting Data From the WMO app"
   ]
  },
  {
   "cell_type": "markdown",
   "metadata": {},
   "source": [
    "## 1 Insturactions of the WMO\n",
    "\n",
    "Use the following steps to carry out the project\n",
    "- Use this link (https://community.wmo.int/en/members/profiles to extract data on\n",
    "heatwaves warning system/services, see example below, if heatwave is in the list of\n",
    "warnings provided, then indicate a yes in the provided excel sheet (for the corresponding\n",
    "country in column B in the excel sheet called “Heatwaves Warning Systems (WMO data)”).\n",
    "\n",
    "\n",
    "full screenmode : https://app.powerbi.com/view?r=eyJrIjoiZjNhNzIzM2YtMjRkYS00ZjJjLWEzZmMtNmQzMGQzMDdiODU3IiwidCI6ImVhYTZiZTU0LTQ2ODctNDBjNC05ODI3LWMwNDRiZDhlOGQzYyIsImMiOjl9\n"
   ]
  },
  {
   "cell_type": "markdown",
   "metadata": {},
   "source": [
    "## 2  Required Libraries"
   ]
  },
  {
   "cell_type": "code",
   "execution_count": 406,
   "metadata": {},
   "outputs": [],
   "source": [
    "#The webdriver module in Selenium allows for automated control of web browsers.\n",
    "\n",
    "\n",
    "from selenium import webdriver\n",
    "from selenium.webdriver.chrome.service import Service\n",
    "from selenium.webdriver.chrome.options import Options\n",
    "from webdriver_manager.chrome import ChromeDriverManager\n",
    "\n",
    "from selenium.webdriver.common.by import By\n",
    "from selenium.webdriver.support.ui import WebDriverWait\n",
    "from selenium.webdriver.support import expected_conditions as EC\n",
    "from selenium.webdriver.common.action_chains import ActionChains\n",
    "\n",
    "\n"
   ]
  },
  {
   "cell_type": "markdown",
   "metadata": {},
   "source": [
    "## 3 Opening up the web browser and printing a sample text"
   ]
  },
  {
   "cell_type": "markdown",
   "metadata": {},
   "source": [
    "The function below opens up chrome browser and waits for 60 minutes to load the data \n",
    "\n",
    "input: The website link\n",
    "\n",
    "Output : the driver and wabdriverwait instance"
   ]
  },
  {
   "cell_type": "code",
   "execution_count": 442,
   "metadata": {},
   "outputs": [],
   "source": [
    "\n",
    "def openChrome(link):\n",
    "    # Options customize Chrome WebDriver behavior\n",
    "    options = Options()\n",
    "\n",
    "    # Initialize the WebDriver (e.g., Chrome)\n",
    "    driver = webdriver.Chrome(service=Service(ChromeDriverManager().install()), options=options)\n",
    "    \n",
    "    # Navigate to the desired URL\n",
    "    driver.get(link)\n",
    "\n",
    "    # wait for page to load\n",
    "    wait = WebDriverWait(driver, 60)\n",
    "\n",
    "    return driver, wait"
   ]
  },
  {
   "cell_type": "code",
   "execution_count": 443,
   "metadata": {},
   "outputs": [],
   "source": [
    "link = \"https://app.powerbi.com/view?r=eyJrIjoiZjNhNzIzM2YtMjRkYS00ZjJjLWEzZmMtNmQzMGQzMDdiODU3IiwidCI6ImVhYTZiZTU0LTQ2ODctNDBjNC05ODI3LWMwNDRiZDhlOGQzYyIsImMiOjl9\"\n",
    "driver_instance, wait  = openChrome(link)"
   ]
  },
  {
   "cell_type": "markdown",
   "metadata": {},
   "source": [
    "Using the driver instance that we created print an sample text"
   ]
  },
  {
   "cell_type": "code",
   "execution_count": 444,
   "metadata": {},
   "outputs": [
    {
     "name": "stdout",
     "output_type": "stream",
     "text": [
      "Member Profiles\n",
      "-----\n",
      "The information contained in these profiles have been provided by WMO Members. The information is based on a self-assessment exercise. The date displayed in each section corresponds with the date in which the information was provided to WMO. \n",
      "\n",
      "If you find any issue or inconsistency with the information displayed, please contact community@wmo.int.\n",
      "-----\n",
      "Permanent Representative:\n",
      "-----\n",
      "Hydrological Adviser:\n",
      "-----\n",
      "National Meteorological Service:\n",
      "-----\n",
      "Responsible Ministry:\n",
      "-----\n"
     ]
    }
   ],
   "source": [
    "# Locate all div elements with class \"textbox\"\n",
    "div_elements = wait.until(EC.presence_of_all_elements_located((By.XPATH, '//div[@class=\"textbox\"]')))\n",
    "\n",
    "# Iterate over the list of elements and print the text content of each\n",
    "for div_element in div_elements:\n",
    "    print(div_element.text)\n",
    "    print(\"-----\")  # Just a separator for clarity\n",
    "\n",
    "# driver_instance.quit()"
   ]
  },
  {
   "cell_type": "markdown",
   "metadata": {},
   "source": [
    "## 4. Clicking on the Early Warning Services "
   ]
  },
  {
   "cell_type": "code",
   "execution_count": 445,
   "metadata": {},
   "outputs": [],
   "source": [
    "#EC stands for \"Expected Conditions.\" It is a set of predefined conditions that the Selenium WebDriver uses.\n",
    "#presence_of_element_located is one of many expected conditions (EC). It checks if an element is present on the DOM of a page.\n",
    "def wait_and_click(driver, wait, css_selector):\n",
    "    element = wait.until(EC.presence_of_element_located((By.CSS_SELECTOR, css_selector)))\n",
    "    driver.execute_script(\"arguments[0].click();\", element)"
   ]
  },
  {
   "cell_type": "code",
   "execution_count": 446,
   "metadata": {},
   "outputs": [],
   "source": [
    "css_selector = 'a[title=\" Early Warning Services\"]'\n",
    "wait_and_click(driver_instance, wait, css_selector)"
   ]
  },
  {
   "cell_type": "markdown",
   "metadata": {},
   "source": [
    "## 5 - Get Warnings List"
   ]
  },
  {
   "cell_type": "code",
   "execution_count": 447,
   "metadata": {},
   "outputs": [],
   "source": [
    "def saveWarnings(driver, css_selector):\n",
    "    #'.title' is the class name of the element that contains the warning text\n",
    "    warnings= driver_instance.find_elements(By.CSS_SELECTOR, css_selector)\n",
    "    return warnings\n",
    "\n",
    "warnings = saveWarnings(driver_instance, '.title')\n"
   ]
  },
  {
   "cell_type": "code",
   "execution_count": 448,
   "metadata": {},
   "outputs": [
    {
     "name": "stdout",
     "output_type": "stream",
     "text": [
      "Dust storm/Sandstorm\n",
      "Fog\n",
      "Freezing rain\n",
      "Frost\n",
      "Hail\n",
      "Heat wave\n",
      "Icing\n",
      "Lightning\n",
      "Rain/Wet Spell\n",
      "Snow\n",
      "Snowstorm\n",
      "Thunderstorms/Squall lines\n",
      "Wild land fire/Forest fire\n",
      "Wind\n",
      "Yes\n",
      "Yes\n",
      "Yes\n",
      "2 jours\n",
      "Yes\n",
      "Yes\n",
      "No\n",
      "Yes\n",
      "Yes\n"
     ]
    }
   ],
   "source": [
    "\n",
    "for warning in warnings:\n",
    "    print(warning.text)"
   ]
  },
  {
   "cell_type": "markdown",
   "metadata": {},
   "source": [
    "## 6 selecting the next country"
   ]
  },
  {
   "cell_type": "code",
   "execution_count": 414,
   "metadata": {},
   "outputs": [
    {
     "name": "stdout",
     "output_type": "stream",
     "text": [
      "['', '', '', '', '', '', '', '', '', '', '', '', 'Ground movement', 'Riverine flood', 'Flash flood', 'General flood', '', '', '', '', 'Ground moveme…', 'Riverine flood', 'General flood', 'Flash flood', 'Heat wave', 'Forest fire', 'General storm', 'General landslide', 'Coastal flood', 'Cold wave', 'Drought', 'Locust', '', '', '', '', '', '', '', '', '', '', '', '', 'Afghanistan', 'Albania', 'Algeria', 'Andorra', 'Angola']\n"
     ]
    }
   ],
   "source": [
    "\n",
    "dropdown = wait.until(\n",
    "    EC.presence_of_element_located((By.CSS_SELECTOR, '.slicer-dropdown-menu'))\n",
    ")\n",
    "dropdown.click()\n",
    "\n",
    "# Wait for the dropdown options to be visible\n",
    "dropdown_options = wait.until(\n",
    "    EC.presence_of_all_elements_located((By.CSS_SELECTOR, '[role=\"option\"]'))  # Assuming each dropdown option has a role of \"option\"\n",
    ")\n",
    "\n",
    "country_names = []\n",
    "for option in dropdown_options:\n",
    "    country_name = option.text\n",
    "    country_names.append(country_name)\n",
    "\n",
    "    # Uncomment the following lines if you want to click on a specific country\n",
    "   \n",
    "    if country_name == \"Angola\":  \n",
    "        option.click()\n",
    "        break\n",
    "    \n",
    "\n",
    "print(country_names)"
   ]
  },
  {
   "cell_type": "markdown",
   "metadata": {},
   "source": [
    "## 6 Get all the country names "
   ]
  },
  {
   "cell_type": "code",
   "execution_count": 415,
   "metadata": {},
   "outputs": [],
   "source": [
    "\n",
    "def getCountryNames(driver, wait):\n",
    "    # Open the dropdown menu\n",
    "    dropdown = wait.until(\n",
    "        EC.presence_of_element_located((By.CSS_SELECTOR, '.slicer-dropdown-menu'))\n",
    "    )\n",
    "    dropdown.click()\n",
    "\n",
    "    loaded_countries = set()\n",
    "    while True:\n",
    "        # Re-fetch the dropdown options in every iteration to avoid StaleElementReferenceException\n",
    "        current_countries_elements = wait.until(\n",
    "            EC.presence_of_all_elements_located((By.CSS_SELECTOR, '.slicerText'))\n",
    "        )\n",
    "        \n",
    "        # Extract country names from the current elements\n",
    "        current_countries = {element.text for element in current_countries_elements}\n",
    "\n",
    "        # Check if no new countries are found\n",
    "        if not current_countries - loaded_countries:\n",
    "            break\n",
    "        \n",
    "        loaded_countries.update(current_countries)\n",
    "\n",
    "        # Scroll to the last element to load more countries\n",
    "        ActionChains(driver).move_to_element(current_countries_elements[-1]).perform()\n",
    "    print(loaded_countries)\n",
    "    # Close the dropdown menu by clicking the dropdown button again\n",
    "    dropdown.click()\n",
    "    return loaded_countries"
   ]
  },
  {
   "cell_type": "code",
   "execution_count": 416,
   "metadata": {},
   "outputs": [
    {
     "name": "stdout",
     "output_type": "stream",
     "text": [
      "{'Solomon Islands', 'Ireland', 'Romania', 'Guyana', 'Turkmenistan', 'British Caribbean Territories', 'Monaco', 'United States of America', 'Cyprus', 'Andorra', 'Italy', 'Lithuania', 'Guatemala', 'Thailand', 'Fiji', 'Venezuela, Bolivarian Republic of', 'Eswatini', \"Lao People's Democratic Republic\", 'Belarus', 'Guinea', 'Latvia', 'India', 'Portugal', 'Qatar', 'Republic of Korea', 'Bulgaria', 'North Macedonia', 'Slovakia', 'United Republic of Tanzania', 'Iceland', 'Montenegro', 'Uganda', 'Austria', 'Mali', 'Armenia', 'Cameroon', 'Greece', 'Costa Rica', 'Israel', 'Bahrain', 'Sweden', 'Liberia', 'Afghanistan', 'Myanmar', 'Nicaragua', 'Tuvalu', 'Saudi Arabia', 'Lebanon', 'Cambodia', 'Ghana', 'Botswana', 'British Caribbean Territories - Anguilla', 'Congo', 'Germany', 'Antigua and Barbuda', 'British Caribbean Territories - Montserrat', 'Brazil', 'New Zealand', 'Czechia', 'Cabo Verde', 'Micronesia (Federated States of)', 'Central African Republic', 'French Polynesia', 'Angola', 'Cuba', 'Honduras', 'Samoa', 'Sao Tome and Principe', 'Maldives', 'Kenya', 'British Caribbean Territories - Turks and Caicos Islands', 'Papua New Guinea', 'Trinidad and Tobago', 'Brunei Darussalam', 'El Salvador', 'Uzbekistan', 'Malaysia', 'Comoros', 'Kazakhstan', 'British Caribbean Territories - British Virgin Islands', 'Singapore', 'Algeria', 'Barbados', 'Canada', 'Finland', 'Philippines', 'Mozambique', 'France', 'Panama', 'Mauritius', 'Colombia', 'Sri Lanka', 'Malawi', 'Azerbaijan', 'Haiti', 'Bolivia (Plurinational State of)', 'Estonia', 'United Kingdom of Great Britain and Northern Ireland', 'Bosnia and Herzegovina', 'Libya (State of)', 'Netherlands', 'British Caribbean Territories - Cayman Islands', 'Oman', 'Seychelles', 'Viet Nam', 'Namibia', 'Suriname', 'Burundi', 'Georgia', 'Eritrea', 'Bahamas', 'Hong Kong, China', 'Switzerland', 'Slovenia', 'Albania', 'Denmark', 'Gabon', 'South Sudan', 'Bangladesh', 'Djibouti', 'Paraguay', 'Syrian Arab Republic', 'Lesotho', 'New Caledonia', 'Serbia', 'Curaçao and Sint Maarten', 'Benin', 'Uruguay', 'Vanuatu', 'Zimbabwe', 'Norway', 'Poland', 'Ethiopia', 'Peru', 'Republic of Moldova', 'Rwanda', 'Croatia', 'Nauru', 'Indonesia', 'Mongolia', 'Kuwait', 'Hungary', 'Saint Lucia', 'Chad', 'Dominica', 'Malta', 'Russian Federation', 'Somalia', 'Jamaica', 'Iraq', \"Côte d'Ivoire\", 'Burkina Faso', 'Cook Islands', 'Japan', 'Ecuador', 'Spain', 'South Africa', 'Sudan', 'Belgium', 'Argentina', 'Chile', 'Kyrgyzstan', 'Bhutan', 'Togo', 'United Arab Emirates', 'Mexico', 'Iran (Islamic Republic of)', 'Tunisia', 'Niue', 'Pakistan', 'Madagascar', 'Macao, China', 'Australia', 'Democratic Republic of the Congo', 'Türkiye', 'Ukraine', 'Niger', 'Tajikistan', 'Gambia (The)', 'Dominican Republic', 'China', 'Mauritania', 'Luxembourg', 'Morocco', 'Guinea-Bissau', \"Democratic People's Republic of Korea\", 'Nigeria', 'Senegal', 'Jordan', 'Belize', 'Kiribati', 'Nepal', 'Tonga', 'Egypt', 'Zambia', 'Sierra Leone', 'Yemen', 'Timor-Leste'}\n"
     ]
    }
   ],
   "source": [
    "loaded_countries = getCountryNames(driver_instance, wait)"
   ]
  },
  {
   "cell_type": "code",
   "execution_count": 423,
   "metadata": {},
   "outputs": [
    {
     "name": "stdout",
     "output_type": "stream",
     "text": [
      "198\n"
     ]
    }
   ],
   "source": [
    "print(len(loaded_countries ))"
   ]
  },
  {
   "cell_type": "markdown",
   "metadata": {},
   "source": [
    "## 7 Selecting A country"
   ]
  },
  {
   "cell_type": "code",
   "execution_count": 449,
   "metadata": {},
   "outputs": [],
   "source": [
    "def select_country_from_dropdown(driver, wait, target_country):\n",
    "    # Open the dropdown menu\n",
    "    dropdown = wait.until(\n",
    "        EC.presence_of_element_located((By.CSS_SELECTOR, '.slicer-dropdown-menu'))\n",
    "    )\n",
    "    dropdown.click()\n",
    "\n",
    "    # Clear the search input\n",
    "    search_input = wait.until(\n",
    "        EC.presence_of_element_located((By.CSS_SELECTOR, '.searchInput'))\n",
    "    )\n",
    "    search_input.clear()\n",
    "\n",
    "    loaded_countries = set()\n",
    "    country_selected = False\n",
    "\n",
    "    while True:\n",
    "        # Re-fetch the dropdown options in every iteration to avoid StaleElementReferenceException\n",
    "        current_countries_elements = wait.until(\n",
    "            EC.presence_of_all_elements_located((By.CSS_SELECTOR, '.slicerText'))\n",
    "        )\n",
    "        \n",
    "        # Extract country names from the current elements\n",
    "        current_countries = {element.text for element in current_countries_elements}\n",
    "\n",
    "        # Check if target country is in the current batch of loaded countries\n",
    "        if target_country in current_countries:\n",
    "            for option in current_countries_elements:\n",
    "                if option.text == target_country:\n",
    "                    option.click()\n",
    "                    country_selected = True\n",
    "                    break\n",
    "\n",
    "        # If the country has been selected, break out of the loop\n",
    "        if country_selected:\n",
    "            break\n",
    "        \n",
    "        # Check if no new countries are found\n",
    "        if not current_countries - loaded_countries:\n",
    "            break\n",
    "        \n",
    "        loaded_countries.update(current_countries)\n",
    "\n",
    "        # Scroll to the last element to load more countries\n",
    "        ActionChains(driver).move_to_element(current_countries_elements[-1]).perform()\n",
    "\n",
    "    return country_selected\n"
   ]
  },
  {
   "cell_type": "code",
   "execution_count": 425,
   "metadata": {},
   "outputs": [
    {
     "name": "stdout",
     "output_type": "stream",
     "text": [
      "has been selected successfully!\n"
     ]
    }
   ],
   "source": [
    "success = select_country_from_dropdown(driver_instance, wait, \"Australia\")\n",
    "if success:\n",
    "    print(\"has been selected successfully!\")\n",
    "else:\n",
    "    print(\"Failed to select!\")"
   ]
  },
  {
   "cell_type": "markdown",
   "metadata": {},
   "source": [
    "## selecting 8 country and getting the information"
   ]
  },
  {
   "cell_type": "markdown",
   "metadata": {},
   "source": [
    "1- Initiate global variables\n",
    "\n",
    "    - initiate a dictinary\n",
    "\n",
    "    - driver, wait\n",
    "\n",
    "2- Load all the country names\n",
    "\n",
    "3 -Click on Early warning systems\n",
    "\n",
    "----- repeat this 8 times ----\n",
    "\n",
    "4- Click on the desired country name\n",
    "\n",
    "5- extract warning systems in a list\n",
    "\n",
    "   (if the list is empty)\n",
    "   \n",
    "6- save country name and the list in the map"
   ]
  },
  {
   "cell_type": "code",
   "execution_count": 426,
   "metadata": {},
   "outputs": [
    {
     "name": "stdout",
     "output_type": "stream",
     "text": [
      "['Afghanistan', 'Albania', 'Algeria', 'Andorra', 'Angola', 'Antigua and Barbuda', 'Argentina', 'Armenia', 'Australia', 'Austria', 'Azerbaijan', 'Bahamas', 'Bahrain', 'Bangladesh', 'Barbados', 'Belarus', 'Belgium', 'Belize', 'Benin', 'Bhutan', 'Bolivia (Plurinational State of)', 'Bosnia and Herzegovina', 'Botswana', 'Brazil', 'British Caribbean Territories', 'British Caribbean Territories - Anguilla', 'British Caribbean Territories - British Virgin Islands', 'British Caribbean Territories - Cayman Islands', 'British Caribbean Territories - Montserrat', 'British Caribbean Territories - Turks and Caicos Islands', 'Brunei Darussalam', 'Bulgaria', 'Burkina Faso', 'Burundi', 'Cabo Verde', 'Cambodia', 'Cameroon', 'Canada', 'Central African Republic', 'Chad', 'Chile', 'China', 'Colombia', 'Comoros', 'Congo', 'Cook Islands', 'Costa Rica', 'Croatia', 'Cuba', 'Curaçao and Sint Maarten', 'Cyprus', 'Czechia', \"Côte d'Ivoire\", \"Democratic People's Republic of Korea\", 'Democratic Republic of the Congo', 'Denmark', 'Djibouti', 'Dominica', 'Dominican Republic', 'Ecuador', 'Egypt', 'El Salvador', 'Eritrea', 'Estonia', 'Eswatini', 'Ethiopia', 'Fiji', 'Finland', 'France', 'French Polynesia', 'Gabon', 'Gambia (The)', 'Georgia', 'Germany', 'Ghana', 'Greece', 'Guatemala', 'Guinea', 'Guinea-Bissau', 'Guyana', 'Haiti', 'Honduras', 'Hong Kong, China', 'Hungary', 'Iceland', 'India', 'Indonesia', 'Iran (Islamic Republic of)', 'Iraq', 'Ireland', 'Israel', 'Italy', 'Jamaica', 'Japan', 'Jordan', 'Kazakhstan', 'Kenya', 'Kiribati', 'Kuwait', 'Kyrgyzstan', \"Lao People's Democratic Republic\", 'Latvia', 'Lebanon', 'Lesotho', 'Liberia', 'Libya (State of)', 'Lithuania', 'Luxembourg', 'Macao, China', 'Madagascar', 'Malawi', 'Malaysia', 'Maldives', 'Mali', 'Malta', 'Mauritania', 'Mauritius', 'Mexico', 'Micronesia (Federated States of)', 'Monaco', 'Mongolia', 'Montenegro', 'Morocco', 'Mozambique', 'Myanmar', 'Namibia', 'Nauru', 'Nepal', 'Netherlands', 'New Caledonia', 'New Zealand', 'Nicaragua', 'Niger', 'Nigeria', 'Niue', 'North Macedonia', 'Norway', 'Oman', 'Pakistan', 'Panama', 'Papua New Guinea', 'Paraguay', 'Peru', 'Philippines', 'Poland', 'Portugal', 'Qatar', 'Republic of Korea', 'Republic of Moldova', 'Romania', 'Russian Federation', 'Rwanda', 'Saint Lucia', 'Samoa', 'Sao Tome and Principe', 'Saudi Arabia', 'Senegal', 'Serbia', 'Seychelles', 'Sierra Leone', 'Singapore', 'Slovakia', 'Slovenia', 'Solomon Islands', 'Somalia', 'South Africa', 'South Sudan', 'Spain', 'Sri Lanka', 'Sudan', 'Suriname', 'Sweden', 'Switzerland', 'Syrian Arab Republic', 'Tajikistan', 'Thailand', 'Timor-Leste', 'Togo', 'Tonga', 'Trinidad and Tobago', 'Tunisia', 'Turkmenistan', 'Tuvalu', 'Türkiye', 'Uganda', 'Ukraine', 'United Arab Emirates', 'United Kingdom of Great Britain and Northern Ireland', 'United Republic of Tanzania', 'United States of America', 'Uruguay', 'Uzbekistan', 'Vanuatu', 'Venezuela, Bolivarian Republic of', 'Viet Nam', 'Yemen', 'Zambia', 'Zimbabwe']\n"
     ]
    }
   ],
   "source": [
    "# Convert the set to a list\n",
    "countries_list = list(loaded_countries)\n",
    "\n",
    "# Sort the list\n",
    "countries_list.sort()\n",
    "\n",
    "print(countries_list)\n",
    "test= countries_list[0:8]"
   ]
  },
  {
   "cell_type": "code",
   "execution_count": 427,
   "metadata": {},
   "outputs": [
    {
     "name": "stdout",
     "output_type": "stream",
     "text": [
      "8\n"
     ]
    }
   ],
   "source": [
    "test_list = ['Afghanistan', 'Albania', 'Algeria', 'Andorra', 'Angola', 'Antigua and Barbuda', 'Argentina', 'Armenia']\n",
    "print(len(test_list))\n",
    "my_dict = {}"
   ]
  },
  {
   "cell_type": "code",
   "execution_count": 430,
   "metadata": {},
   "outputs": [
    {
     "name": "stdout",
     "output_type": "stream",
     "text": [
      "Afghanistan\n",
      "country been selected successfully!\n",
      "No warnings found for this country.\n",
      "Albania\n",
      "country been selected successfully!\n",
      "No warnings found for this country.\n",
      "Algeria\n",
      "country been selected successfully!\n",
      "Dust storm/Sandstorm\n",
      "Fog\n",
      "Freezing rain\n",
      "Frost\n",
      "Hail\n",
      "Heat wave\n",
      "Icing\n",
      "Lightning\n",
      "Rain/Wet Spell\n",
      "Snow\n",
      "Snowstorm\n",
      "Thunderstorms/Squall lines\n",
      "Wild land fire/Forest fire\n",
      "Wind\n",
      "Yes\n",
      "Yes\n",
      "Yes\n",
      "2 jours\n",
      "Yes\n",
      "Yes\n",
      "No\n",
      "Yes\n",
      "Yes\n",
      "Dust storm/Sandstorm\n",
      "Fog\n",
      "Freezing rain\n",
      "Frost\n",
      "Hail\n",
      "Heat wave\n",
      "Icing\n",
      "Lightning\n",
      "Rain/Wet Spell\n",
      "Snow\n",
      "Snowstorm\n",
      "Thunderstorms/Squall lines\n",
      "Wild land fire/Forest fire\n",
      "Wind\n",
      "Yes\n",
      "Yes\n",
      "Yes\n",
      "2 jours\n",
      "Yes\n",
      "Yes\n",
      "No\n",
      "Yes\n",
      "Yes\n",
      "Andorra\n",
      "country been selected successfully!\n",
      "Dust storm/Sandstorm\n",
      "Fog\n",
      "Freezing rain\n",
      "Frost\n",
      "Hail\n",
      "Heat wave\n",
      "Icing\n",
      "Lightning\n",
      "Rain/Wet Spell\n",
      "Snow\n",
      "Snowstorm\n",
      "Thunderstorms/Squall lines\n",
      "Wild land fire/Forest fire\n",
      "Wind\n",
      "Yes\n",
      "Yes\n",
      "Yes\n",
      "2 jours\n",
      "Yes\n",
      "Yes\n",
      "No\n",
      "Yes\n",
      "Yes\n",
      "Dust storm/Sandstorm\n",
      "Fog\n",
      "Freezing rain\n",
      "Frost\n",
      "Hail\n",
      "Heat wave\n",
      "Icing\n",
      "Lightning\n",
      "Rain/Wet Spell\n",
      "Snow\n",
      "Snowstorm\n",
      "Thunderstorms/Squall lines\n",
      "Wild land fire/Forest fire\n",
      "Wind\n",
      "Yes\n",
      "Yes\n",
      "Yes\n",
      "2 jours\n",
      "Yes\n",
      "Yes\n",
      "No\n",
      "Yes\n",
      "Yes\n",
      "Angola\n",
      "country been selected successfully!\n",
      "Drought/Dry spell\n",
      "Flood\n",
      "Fog\n",
      "Lightning\n",
      "Rain/Wet Spell\n",
      "Wind\n",
      "Yes\n",
      "Yes\n",
      "No\n",
      "Yes\n",
      "Yes\n",
      "No\n",
      "No\n",
      "Drought/Dry spell\n",
      "Flood\n",
      "Fog\n",
      "Lightning\n",
      "Rain/Wet Spell\n",
      "Wind\n",
      "Yes\n",
      "Yes\n",
      "No\n",
      "Yes\n",
      "Yes\n",
      "No\n",
      "No\n",
      "Antigua and Barbuda\n",
      "country been selected successfully!\n",
      "Drought/Dry spell\n",
      "Flood\n",
      "Fog\n",
      "Lightning\n",
      "Rain/Wet Spell\n",
      "Wind\n",
      "Yes\n",
      "Yes\n",
      "No\n",
      "Yes\n",
      "Yes\n",
      "No\n",
      "No\n",
      "Drought/Dry spell\n",
      "Flood\n",
      "Fog\n",
      "Lightning\n",
      "Rain/Wet Spell\n",
      "Wind\n",
      "Yes\n",
      "Yes\n",
      "No\n",
      "Yes\n",
      "Yes\n",
      "No\n",
      "No\n",
      "Argentina\n",
      "country been selected successfully!\n",
      "Yes\n",
      "Yes\n",
      "Yes\n",
      "Yes\n",
      "Armenia\n",
      "country been selected successfully!\n",
      "Cold wave\n",
      "Drought/Dry spell\n",
      "Fog\n",
      "Freezing rain\n",
      "Frost\n",
      "Hail\n",
      "Haze/Smoke\n",
      "Heat wave\n",
      "Rain/Wet Spell\n",
      "Snow\n",
      "Snowstorm\n",
      "Thunderstorms/Squall lines\n",
      "Volcanic ash\n",
      "Wind\n",
      "Yes\n",
      "Yes\n",
      "máximo 72 hs\n",
      "Yes\n",
      "No\n",
      "Yes\n",
      "Cold wave\n",
      "Drought/Dry spell\n",
      "Fog\n",
      "Freezing rain\n",
      "Frost\n",
      "Hail\n",
      "Haze/Smoke\n",
      "Heat wave\n",
      "Rain/Wet Spell\n",
      "Snow\n",
      "Snowstorm\n",
      "Thunderstorms/Squall lines\n",
      "Volcanic ash\n",
      "Wind\n",
      "Yes\n",
      "Yes\n",
      "máximo 72 hs\n",
      "Yes\n",
      "No\n",
      "Yes\n"
     ]
    }
   ],
   "source": [
    "for country in test_list:\n",
    "    print(country)\n",
    "    success = select_country_from_dropdown(driver_instance, wait, country)\n",
    "    if success:\n",
    "        print(\"country been selected successfully!\")\n",
    "        warnings = saveWarnings(driver_instance, '.title')\n",
    "        \n",
    "        # Check if there are any warnings\n",
    "        if warnings:\n",
    "            for warning in warnings:\n",
    "                print(warning.text)\n",
    "        \n",
    "            # Fetch the warnings\n",
    "            warnings_elements = saveWarnings(driver_instance, '.title')\n",
    "            \n",
    "            # Extract the text from each warning element and store it in a list\n",
    "            warnings_texts = [warning.text for warning in warnings_elements]\n",
    "            \n",
    "            # Print each warning's text\n",
    "            for warning_text in warnings_texts:\n",
    "                print(warning_text)\n",
    "\n",
    "            # Save the list of warning texts to the dictionary with country as the key\n",
    "            my_dict[country] = warnings_texts\n",
    "\n",
    "        else:\n",
    "            print(\"No warnings found for this country.\")\n",
    "            my_dict[country] = [0] \n",
    "    else:\n",
    "        print(\"Failed to select the country!\")\n",
    "        \n"
   ]
  },
  {
   "cell_type": "code",
   "execution_count": 431,
   "metadata": {},
   "outputs": [
    {
     "data": {
      "text/plain": [
       "{'Afghanistan': [0],\n",
       " 'Albania': [0],\n",
       " 'Algeria': ['Dust storm/Sandstorm',\n",
       "  'Fog',\n",
       "  'Freezing rain',\n",
       "  'Frost',\n",
       "  'Hail',\n",
       "  'Heat wave',\n",
       "  'Icing',\n",
       "  'Lightning',\n",
       "  'Rain/Wet Spell',\n",
       "  'Snow',\n",
       "  'Snowstorm',\n",
       "  'Thunderstorms/Squall lines',\n",
       "  'Wild land fire/Forest fire',\n",
       "  'Wind',\n",
       "  'Yes',\n",
       "  'Yes',\n",
       "  'Yes',\n",
       "  '2 jours',\n",
       "  'Yes',\n",
       "  'Yes',\n",
       "  'No',\n",
       "  'Yes',\n",
       "  'Yes'],\n",
       " 'Andorra': ['Dust storm/Sandstorm',\n",
       "  'Fog',\n",
       "  'Freezing rain',\n",
       "  'Frost',\n",
       "  'Hail',\n",
       "  'Heat wave',\n",
       "  'Icing',\n",
       "  'Lightning',\n",
       "  'Rain/Wet Spell',\n",
       "  'Snow',\n",
       "  'Snowstorm',\n",
       "  'Thunderstorms/Squall lines',\n",
       "  'Wild land fire/Forest fire',\n",
       "  'Wind',\n",
       "  'Yes',\n",
       "  'Yes',\n",
       "  'Yes',\n",
       "  '2 jours',\n",
       "  'Yes',\n",
       "  'Yes',\n",
       "  'No',\n",
       "  'Yes',\n",
       "  'Yes'],\n",
       " 'Angola': ['Drought/Dry spell',\n",
       "  'Flood',\n",
       "  'Fog',\n",
       "  'Lightning',\n",
       "  'Rain/Wet Spell',\n",
       "  'Wind',\n",
       "  'Yes',\n",
       "  'Yes',\n",
       "  'No',\n",
       "  'Yes',\n",
       "  'Yes',\n",
       "  'No',\n",
       "  'No'],\n",
       " 'Antigua and Barbuda': ['Drought/Dry spell',\n",
       "  'Flood',\n",
       "  'Fog',\n",
       "  'Lightning',\n",
       "  'Rain/Wet Spell',\n",
       "  'Wind',\n",
       "  'Yes',\n",
       "  'Yes',\n",
       "  'No',\n",
       "  'Yes',\n",
       "  'Yes',\n",
       "  'No',\n",
       "  'No'],\n",
       " 'Argentina': ['Yes', 'Yes'],\n",
       " 'Armenia': ['Cold wave',\n",
       "  'Drought/Dry spell',\n",
       "  'Fog',\n",
       "  'Freezing rain',\n",
       "  'Frost',\n",
       "  'Hail',\n",
       "  'Haze/Smoke',\n",
       "  'Heat wave',\n",
       "  'Rain/Wet Spell',\n",
       "  'Snow',\n",
       "  'Snowstorm',\n",
       "  'Thunderstorms/Squall lines',\n",
       "  'Volcanic ash',\n",
       "  'Wind',\n",
       "  'Yes',\n",
       "  'Yes',\n",
       "  'máximo 72 hs',\n",
       "  'Yes',\n",
       "  'No',\n",
       "  'Yes']}"
      ]
     },
     "execution_count": 431,
     "metadata": {},
     "output_type": "execute_result"
    }
   ],
   "source": [
    "my_dict"
   ]
  },
  {
   "cell_type": "code",
   "execution_count": 458,
   "metadata": {},
   "outputs": [
    {
     "data": {
      "text/plain": [
       "{'Afghanistan': [0],\n",
       " 'Albania': [0],\n",
       " 'Algeria': ['Dust storm/Sandstorm',\n",
       "  'Fog',\n",
       "  'Freezing rain',\n",
       "  'Frost',\n",
       "  'Hail',\n",
       "  'Heat wave',\n",
       "  'Icing',\n",
       "  'Lightning',\n",
       "  'Rain/Wet Spell',\n",
       "  'Snow',\n",
       "  'Snowstorm',\n",
       "  'Thunderstorms/Squall lines',\n",
       "  'Wild land fire/Forest fire',\n",
       "  'Wind',\n",
       "  'Yes',\n",
       "  'Yes',\n",
       "  'Yes',\n",
       "  '2 jours',\n",
       "  'Yes',\n",
       "  'Yes',\n",
       "  'No',\n",
       "  'Yes',\n",
       "  'Yes'],\n",
       " 'Andorra': ['Dust storm/Sandstorm',\n",
       "  'Fog',\n",
       "  'Freezing rain',\n",
       "  'Frost',\n",
       "  'Hail',\n",
       "  'Heat wave',\n",
       "  'Icing',\n",
       "  'Lightning',\n",
       "  'Rain/Wet Spell',\n",
       "  'Snow',\n",
       "  'Snowstorm',\n",
       "  'Thunderstorms/Squall lines',\n",
       "  'Wild land fire/Forest fire',\n",
       "  'Wind',\n",
       "  'Yes',\n",
       "  'Yes',\n",
       "  'Yes',\n",
       "  '2 jours',\n",
       "  'Yes',\n",
       "  'Yes',\n",
       "  'No',\n",
       "  'Yes',\n",
       "  'Yes'],\n",
       " 'Angola': ['Drought/Dry spell',\n",
       "  'Flood',\n",
       "  'Fog',\n",
       "  'Lightning',\n",
       "  'Rain/Wet Spell',\n",
       "  'Wind',\n",
       "  'Yes',\n",
       "  'Yes',\n",
       "  'No',\n",
       "  'Yes',\n",
       "  'Yes',\n",
       "  'No',\n",
       "  'No'],\n",
       " 'Antigua and Barbuda': ['Drought/Dry spell',\n",
       "  'Flood',\n",
       "  'Fog',\n",
       "  'Lightning',\n",
       "  'Rain/Wet Spell',\n",
       "  'Wind',\n",
       "  'Yes',\n",
       "  'Yes',\n",
       "  'No',\n",
       "  'Yes',\n",
       "  'Yes',\n",
       "  'No',\n",
       "  'No'],\n",
       " 'Argentina': ['Yes', 'Yes'],\n",
       " 'Armenia': ['Cold wave',\n",
       "  'Drought/Dry spell',\n",
       "  'Fog',\n",
       "  'Freezing rain',\n",
       "  'Frost',\n",
       "  'Hail',\n",
       "  'Haze/Smoke',\n",
       "  'Heat wave',\n",
       "  'Rain/Wet Spell',\n",
       "  'Snow',\n",
       "  'Snowstorm',\n",
       "  'Thunderstorms/Squall lines',\n",
       "  'Volcanic ash',\n",
       "  'Wind',\n",
       "  'Yes',\n",
       "  'Yes',\n",
       "  'máximo 72 hs',\n",
       "  'Yes',\n",
       "  'No',\n",
       "  'Yes'],\n",
       " 'Bahrain': ['Dust storm/Sandstorm',\n",
       "  'Fog',\n",
       "  'Freezing rain',\n",
       "  'Frost',\n",
       "  'Hail',\n",
       "  'Heat wave',\n",
       "  'Icing',\n",
       "  'Lightning',\n",
       "  'Rain/Wet Spell',\n",
       "  'Snow',\n",
       "  'Snowstorm',\n",
       "  'Thunderstorms/Squall lines',\n",
       "  'Wild land fire/Forest fire',\n",
       "  'Wind',\n",
       "  'Yes',\n",
       "  'Yes',\n",
       "  'Yes',\n",
       "  '2 jours',\n",
       "  'Yes',\n",
       "  'Yes',\n",
       "  'No',\n",
       "  'Yes',\n",
       "  'Yes']}"
      ]
     },
     "execution_count": 458,
     "metadata": {},
     "output_type": "execute_result"
    }
   ],
   "source": [
    "my_dict"
   ]
  },
  {
   "cell_type": "markdown",
   "metadata": {},
   "source": [
    "## 9 adjusting so we can run the full loop"
   ]
  },
  {
   "cell_type": "code",
   "execution_count": 469,
   "metadata": {},
   "outputs": [],
   "source": [
    "import time\n",
    "\n",
    "def select_country_from_dropdown(driver, wait, target_country):\n",
    "    # Open the dropdown menu\n",
    "    dropdown = wait.until(\n",
    "        EC.presence_of_element_located((By.CSS_SELECTOR, '.slicer-dropdown-menu'))\n",
    "    )\n",
    "    dropdown.click()\n",
    "\n",
    "    # Clear the search input\n",
    "    search_input = wait.until(\n",
    "        EC.presence_of_element_located((By.CSS_SELECTOR, '.searchInput'))\n",
    "    )\n",
    "    search_input.clear()\n",
    "\n",
    "    loaded_countries = set()\n",
    "    country_selected = False\n",
    "\n",
    "    while True:\n",
    "        # Re-fetch the dropdown options in every iteration to avoid StaleElementReferenceException\n",
    "        current_countries_elements = wait.until(\n",
    "            EC.presence_of_all_elements_located((By.CSS_SELECTOR, '.slicerText'))\n",
    "        )\n",
    "        \n",
    "        # Extract country names from the current elements\n",
    "        current_countries = {element.text for element in current_countries_elements}\n",
    "\n",
    "        # Check if target country is in the current batch of loaded countries\n",
    "        if target_country in current_countries:\n",
    "            for option in current_countries_elements:\n",
    "                if option.text == target_country:\n",
    "                    option.click()\n",
    "                    country_selected = True\n",
    "                    break\n",
    "\n",
    "        # If the country has been selected, break out of the loop\n",
    "        if country_selected:\n",
    "            break\n",
    "        \n",
    "        # Check if no new countries are found\n",
    "        if not current_countries - loaded_countries:\n",
    "            break\n",
    "        \n",
    "        loaded_countries.update(current_countries)\n",
    "\n",
    "        # Forcefully scroll the dropdown using JavaScript\n",
    "        driver.execute_script('arguments[0].scrollIntoView(true);', current_countries_elements[-1])\n",
    "        time.sleep(2)  # wait for 2 seconds for potential loading\n",
    "\n",
    "    return country_selected\n"
   ]
  },
  {
   "cell_type": "code",
   "execution_count": 461,
   "metadata": {},
   "outputs": [],
   "source": [
    "test_list2= [\"Bahrain\", \"Bangladesh\", \"Barbados\", \"Belarus\", \"Belgium\", \"Belize\", \"Benin\", \"Bhutan\"]"
   ]
  },
  {
   "cell_type": "code",
   "execution_count": 472,
   "metadata": {},
   "outputs": [
    {
     "name": "stdout",
     "output_type": "stream",
     "text": [
      "has been selected successfully!\n"
     ]
    }
   ],
   "source": [
    "success = select_country_from_dropdown(driver_instance, wait, \"Benin\")\n",
    "if success:\n",
    "    print(\"has been selected successfully!\")\n",
    "else:\n",
    "    print(\"Failed to select!\")"
   ]
  },
  {
   "cell_type": "code",
   "execution_count": 475,
   "metadata": {},
   "outputs": [
    {
     "name": "stdout",
     "output_type": "stream",
     "text": [
      "Bahrain\n",
      "country been selected successfully!\n",
      "No warnings found for this country.\n",
      "Bangladesh\n",
      "country been selected successfully!\n",
      "No warnings found for this country.\n",
      "Barbados\n",
      "country been selected successfully!\n",
      "No warnings found for this country.\n",
      "Belarus\n",
      "country been selected successfully!\n",
      "Drought/Dry spell\n",
      "Flood\n",
      "Haze/Smoke\n",
      "High Seas/Rogue waves etc.\n",
      "Lightning\n",
      "Rain/Wet Spell\n",
      "Storm surge/Coastal flood\n",
      "Thunderstorms/Squall lines\n",
      "Tornado\n",
      "Tropical cyclone\n",
      "Tsunami\n",
      "Volcanic ash\n",
      "Wind\n",
      "Yes\n",
      "Yes\n",
      "Yes\n",
      "48 hours\n",
      "Yes\n",
      "Yes\n",
      "Yes\n",
      "Yes\n",
      "No\n",
      "This would need to be assessed\n"
     ]
    },
    {
     "ename": "StaleElementReferenceException",
     "evalue": "Message: stale element reference: stale element not found\n  (Session info: chrome=117.0.5938.88); For documentation on this error, please visit: https://www.selenium.dev/documentation/webdriver/troubleshooting/errors#stale-element-reference-exception\nStacktrace:\n0   chromedriver                        0x000000010692fe58 chromedriver + 5090904\n1   chromedriver                        0x0000000106926bc3 chromedriver + 5053379\n2   chromedriver                        0x00000001064c2527 chromedriver + 447783\n3   chromedriver                        0x00000001064c899d chromedriver + 473501\n4   chromedriver                        0x00000001064ca8d4 chromedriver + 481492\n5   chromedriver                        0x00000001064caa1c chromedriver + 481820\n6   chromedriver                        0x000000010650aea2 chromedriver + 745122\n7   chromedriver                        0x0000000106538662 chromedriver + 931426\n8   chromedriver                        0x0000000106504ba8 chromedriver + 719784\n9   chromedriver                        0x000000010653881e chromedriver + 931870\n10  chromedriver                        0x00000001065546e1 chromedriver + 1046241\n11  chromedriver                        0x0000000106538433 chromedriver + 930867\n12  chromedriver                        0x0000000106503042 chromedriver + 712770\n13  chromedriver                        0x000000010650426e chromedriver + 717422\n14  chromedriver                        0x00000001068f13b9 chromedriver + 4834233\n15  chromedriver                        0x00000001068f655d chromedriver + 4855133\n16  chromedriver                        0x00000001068fd4f2 chromedriver + 4883698\n17  chromedriver                        0x00000001068f728d chromedriver + 4858509\n18  chromedriver                        0x00000001068c90ec chromedriver + 4669676\n19  chromedriver                        0x0000000106915c58 chromedriver + 4983896\n20  chromedriver                        0x0000000106915e10 chromedriver + 4984336\n21  chromedriver                        0x00000001069267fe chromedriver + 5052414\n22  libsystem_pthread.dylib             0x00007ff805f701d3 _pthread_start + 125\n23  libsystem_pthread.dylib             0x00007ff805f6bbd3 thread_start + 15\n",
     "output_type": "error",
     "traceback": [
      "\u001b[0;31m---------------------------------------------------------------------------\u001b[0m",
      "\u001b[0;31mStaleElementReferenceException\u001b[0m            Traceback (most recent call last)",
      "\u001b[1;32m/Users/hicranarnold/Documents/githubRepos/heatwaves/heatwave-warning-system/data/extractingWebData.ipynb Cell 37\u001b[0m line \u001b[0;36m1\n\u001b[1;32m     <a href='vscode-notebook-cell:/Users/hicranarnold/Documents/githubRepos/heatwaves/heatwave-warning-system/data/extractingWebData.ipynb#Y146sZmlsZQ%3D%3D?line=13'>14</a>\u001b[0m warnings_elements \u001b[39m=\u001b[39m saveWarnings(driver_instance, \u001b[39m'\u001b[39m\u001b[39m.title\u001b[39m\u001b[39m'\u001b[39m)\n\u001b[1;32m     <a href='vscode-notebook-cell:/Users/hicranarnold/Documents/githubRepos/heatwaves/heatwave-warning-system/data/extractingWebData.ipynb#Y146sZmlsZQ%3D%3D?line=15'>16</a>\u001b[0m \u001b[39m# Extract the text from each warning element and store it in a list\u001b[39;00m\n\u001b[0;32m---> <a href='vscode-notebook-cell:/Users/hicranarnold/Documents/githubRepos/heatwaves/heatwave-warning-system/data/extractingWebData.ipynb#Y146sZmlsZQ%3D%3D?line=16'>17</a>\u001b[0m warnings_texts \u001b[39m=\u001b[39m [warning\u001b[39m.\u001b[39mtext \u001b[39mfor\u001b[39;00m warning \u001b[39min\u001b[39;00m warnings_elements]\n\u001b[1;32m     <a href='vscode-notebook-cell:/Users/hicranarnold/Documents/githubRepos/heatwaves/heatwave-warning-system/data/extractingWebData.ipynb#Y146sZmlsZQ%3D%3D?line=18'>19</a>\u001b[0m \u001b[39m# Print each warning's text\u001b[39;00m\n\u001b[1;32m     <a href='vscode-notebook-cell:/Users/hicranarnold/Documents/githubRepos/heatwaves/heatwave-warning-system/data/extractingWebData.ipynb#Y146sZmlsZQ%3D%3D?line=19'>20</a>\u001b[0m \u001b[39mfor\u001b[39;00m warning_text \u001b[39min\u001b[39;00m warnings_texts:\n",
      "\u001b[1;32m/Users/hicranarnold/Documents/githubRepos/heatwaves/heatwave-warning-system/data/extractingWebData.ipynb Cell 37\u001b[0m line \u001b[0;36m1\n\u001b[1;32m     <a href='vscode-notebook-cell:/Users/hicranarnold/Documents/githubRepos/heatwaves/heatwave-warning-system/data/extractingWebData.ipynb#Y146sZmlsZQ%3D%3D?line=13'>14</a>\u001b[0m warnings_elements \u001b[39m=\u001b[39m saveWarnings(driver_instance, \u001b[39m'\u001b[39m\u001b[39m.title\u001b[39m\u001b[39m'\u001b[39m)\n\u001b[1;32m     <a href='vscode-notebook-cell:/Users/hicranarnold/Documents/githubRepos/heatwaves/heatwave-warning-system/data/extractingWebData.ipynb#Y146sZmlsZQ%3D%3D?line=15'>16</a>\u001b[0m \u001b[39m# Extract the text from each warning element and store it in a list\u001b[39;00m\n\u001b[0;32m---> <a href='vscode-notebook-cell:/Users/hicranarnold/Documents/githubRepos/heatwaves/heatwave-warning-system/data/extractingWebData.ipynb#Y146sZmlsZQ%3D%3D?line=16'>17</a>\u001b[0m warnings_texts \u001b[39m=\u001b[39m [warning\u001b[39m.\u001b[39;49mtext \u001b[39mfor\u001b[39;00m warning \u001b[39min\u001b[39;00m warnings_elements]\n\u001b[1;32m     <a href='vscode-notebook-cell:/Users/hicranarnold/Documents/githubRepos/heatwaves/heatwave-warning-system/data/extractingWebData.ipynb#Y146sZmlsZQ%3D%3D?line=18'>19</a>\u001b[0m \u001b[39m# Print each warning's text\u001b[39;00m\n\u001b[1;32m     <a href='vscode-notebook-cell:/Users/hicranarnold/Documents/githubRepos/heatwaves/heatwave-warning-system/data/extractingWebData.ipynb#Y146sZmlsZQ%3D%3D?line=19'>20</a>\u001b[0m \u001b[39mfor\u001b[39;00m warning_text \u001b[39min\u001b[39;00m warnings_texts:\n",
      "File \u001b[0;32m~/Documents/githubRepos/heatwaves/heatwave-warning-system/.env/lib/python3.9/site-packages/selenium/webdriver/remote/webelement.py:89\u001b[0m, in \u001b[0;36mWebElement.text\u001b[0;34m(self)\u001b[0m\n\u001b[1;32m     86\u001b[0m \u001b[39m@property\u001b[39m\n\u001b[1;32m     87\u001b[0m \u001b[39mdef\u001b[39;00m \u001b[39mtext\u001b[39m(\u001b[39mself\u001b[39m) \u001b[39m-\u001b[39m\u001b[39m>\u001b[39m \u001b[39mstr\u001b[39m:\n\u001b[1;32m     88\u001b[0m \u001b[39m    \u001b[39m\u001b[39m\"\"\"The text of the element.\"\"\"\u001b[39;00m\n\u001b[0;32m---> 89\u001b[0m     \u001b[39mreturn\u001b[39;00m \u001b[39mself\u001b[39;49m\u001b[39m.\u001b[39;49m_execute(Command\u001b[39m.\u001b[39;49mGET_ELEMENT_TEXT)[\u001b[39m\"\u001b[39m\u001b[39mvalue\u001b[39m\u001b[39m\"\u001b[39m]\n",
      "File \u001b[0;32m~/Documents/githubRepos/heatwaves/heatwave-warning-system/.env/lib/python3.9/site-packages/selenium/webdriver/remote/webelement.py:394\u001b[0m, in \u001b[0;36mWebElement._execute\u001b[0;34m(self, command, params)\u001b[0m\n\u001b[1;32m    392\u001b[0m     params \u001b[39m=\u001b[39m {}\n\u001b[1;32m    393\u001b[0m params[\u001b[39m\"\u001b[39m\u001b[39mid\u001b[39m\u001b[39m\"\u001b[39m] \u001b[39m=\u001b[39m \u001b[39mself\u001b[39m\u001b[39m.\u001b[39m_id\n\u001b[0;32m--> 394\u001b[0m \u001b[39mreturn\u001b[39;00m \u001b[39mself\u001b[39;49m\u001b[39m.\u001b[39;49m_parent\u001b[39m.\u001b[39;49mexecute(command, params)\n",
      "File \u001b[0;32m~/Documents/githubRepos/heatwaves/heatwave-warning-system/.env/lib/python3.9/site-packages/selenium/webdriver/remote/webdriver.py:344\u001b[0m, in \u001b[0;36mWebDriver.execute\u001b[0;34m(self, driver_command, params)\u001b[0m\n\u001b[1;32m    342\u001b[0m response \u001b[39m=\u001b[39m \u001b[39mself\u001b[39m\u001b[39m.\u001b[39mcommand_executor\u001b[39m.\u001b[39mexecute(driver_command, params)\n\u001b[1;32m    343\u001b[0m \u001b[39mif\u001b[39;00m response:\n\u001b[0;32m--> 344\u001b[0m     \u001b[39mself\u001b[39;49m\u001b[39m.\u001b[39;49merror_handler\u001b[39m.\u001b[39;49mcheck_response(response)\n\u001b[1;32m    345\u001b[0m     response[\u001b[39m\"\u001b[39m\u001b[39mvalue\u001b[39m\u001b[39m\"\u001b[39m] \u001b[39m=\u001b[39m \u001b[39mself\u001b[39m\u001b[39m.\u001b[39m_unwrap_value(response\u001b[39m.\u001b[39mget(\u001b[39m\"\u001b[39m\u001b[39mvalue\u001b[39m\u001b[39m\"\u001b[39m, \u001b[39mNone\u001b[39;00m))\n\u001b[1;32m    346\u001b[0m     \u001b[39mreturn\u001b[39;00m response\n",
      "File \u001b[0;32m~/Documents/githubRepos/heatwaves/heatwave-warning-system/.env/lib/python3.9/site-packages/selenium/webdriver/remote/errorhandler.py:229\u001b[0m, in \u001b[0;36mErrorHandler.check_response\u001b[0;34m(self, response)\u001b[0m\n\u001b[1;32m    227\u001b[0m         alert_text \u001b[39m=\u001b[39m value[\u001b[39m\"\u001b[39m\u001b[39malert\u001b[39m\u001b[39m\"\u001b[39m]\u001b[39m.\u001b[39mget(\u001b[39m\"\u001b[39m\u001b[39mtext\u001b[39m\u001b[39m\"\u001b[39m)\n\u001b[1;32m    228\u001b[0m     \u001b[39mraise\u001b[39;00m exception_class(message, screen, stacktrace, alert_text)  \u001b[39m# type: ignore[call-arg]  # mypy is not smart enough here\u001b[39;00m\n\u001b[0;32m--> 229\u001b[0m \u001b[39mraise\u001b[39;00m exception_class(message, screen, stacktrace)\n",
      "\u001b[0;31mStaleElementReferenceException\u001b[0m: Message: stale element reference: stale element not found\n  (Session info: chrome=117.0.5938.88); For documentation on this error, please visit: https://www.selenium.dev/documentation/webdriver/troubleshooting/errors#stale-element-reference-exception\nStacktrace:\n0   chromedriver                        0x000000010692fe58 chromedriver + 5090904\n1   chromedriver                        0x0000000106926bc3 chromedriver + 5053379\n2   chromedriver                        0x00000001064c2527 chromedriver + 447783\n3   chromedriver                        0x00000001064c899d chromedriver + 473501\n4   chromedriver                        0x00000001064ca8d4 chromedriver + 481492\n5   chromedriver                        0x00000001064caa1c chromedriver + 481820\n6   chromedriver                        0x000000010650aea2 chromedriver + 745122\n7   chromedriver                        0x0000000106538662 chromedriver + 931426\n8   chromedriver                        0x0000000106504ba8 chromedriver + 719784\n9   chromedriver                        0x000000010653881e chromedriver + 931870\n10  chromedriver                        0x00000001065546e1 chromedriver + 1046241\n11  chromedriver                        0x0000000106538433 chromedriver + 930867\n12  chromedriver                        0x0000000106503042 chromedriver + 712770\n13  chromedriver                        0x000000010650426e chromedriver + 717422\n14  chromedriver                        0x00000001068f13b9 chromedriver + 4834233\n15  chromedriver                        0x00000001068f655d chromedriver + 4855133\n16  chromedriver                        0x00000001068fd4f2 chromedriver + 4883698\n17  chromedriver                        0x00000001068f728d chromedriver + 4858509\n18  chromedriver                        0x00000001068c90ec chromedriver + 4669676\n19  chromedriver                        0x0000000106915c58 chromedriver + 4983896\n20  chromedriver                        0x0000000106915e10 chromedriver + 4984336\n21  chromedriver                        0x00000001069267fe chromedriver + 5052414\n22  libsystem_pthread.dylib             0x00007ff805f701d3 _pthread_start + 125\n23  libsystem_pthread.dylib             0x00007ff805f6bbd3 thread_start + 15\n"
     ]
    }
   ],
   "source": [
    "for country in test_list2:\n",
    "    print(country)\n",
    "    success = select_country_from_dropdown(driver_instance, wait, country)\n",
    "    if success:\n",
    "        print(\"country been selected successfully!\")\n",
    "        warnings = saveWarnings(driver_instance, '.title')\n",
    "        \n",
    "        # Check if there are any warnings\n",
    "        if warnings:\n",
    "            for warning in warnings:\n",
    "                print(warning.text)\n",
    "        \n",
    "            # Fetch the warnings\n",
    "            warnings_elements = saveWarnings(driver_instance, '.title')\n",
    "            \n",
    "            # Extract the text from each warning element and store it in a list\n",
    "            warnings_texts = [warning.text for warning in warnings_elements]\n",
    "            \n",
    "            # Print each warning's text\n",
    "            for warning_text in warnings_texts:\n",
    "                print(warning_text)\n",
    "\n",
    "            # Save the list of warning texts to the dictionary with country as the key\n",
    "            my_dict[country] = warnings_texts\n",
    "\n",
    "        else:\n",
    "            print(\"No warnings found for this country.\")\n",
    "            my_dict[country] = [0] \n",
    "    else:\n",
    "        print(\"Failed to select the country!\")\n",
    "        \n"
   ]
  },
  {
   "cell_type": "code",
   "execution_count": null,
   "metadata": {},
   "outputs": [],
   "source": [
    "loaded_countries"
   ]
  },
  {
   "cell_type": "code",
   "execution_count": null,
   "metadata": {},
   "outputs": [],
   "source": [
    "len(loaded_countries)"
   ]
  },
  {
   "cell_type": "markdown",
   "metadata": {},
   "source": [
    "stop when you see Spain"
   ]
  },
  {
   "cell_type": "code",
   "execution_count": null,
   "metadata": {},
   "outputs": [],
   "source": [
    "# Convert the set to a list\n",
    "countries_list = list(loaded_countries)\n",
    "\n",
    "# Sort the list\n",
    "countries_list.sort()\n",
    "\n",
    "print(countries_list)\n",
    "test= countries_list[0:9]"
   ]
  },
  {
   "cell_type": "code",
   "execution_count": null,
   "metadata": {},
   "outputs": [],
   "source": [
    "success = select_country_from_dropdown(driver, \"Austria\")\n",
    "if success:\n",
    "    print(\"has been selected successfully!\")\n",
    "else:\n",
    "    print(\"Failed to select!\")\n"
   ]
  },
  {
   "cell_type": "code",
   "execution_count": null,
   "metadata": {},
   "outputs": [],
   "source": [
    "test= ['Afghanistan',\n",
    " 'Albania',\n",
    " 'Algeria',\n",
    " 'Andorra',\n",
    " 'Angola',\n",
    " 'Antigua and Barbuda',\n",
    " 'Argentina',\n",
    " 'Armenia',\n",
    " 'Bahrain']\n"
   ]
  },
  {
   "cell_type": "code",
   "execution_count": null,
   "metadata": {},
   "outputs": [],
   "source": [
    "import time\n",
    "count = 0\n",
    "\n",
    "for country in test:\n",
    "    print(country)\n",
    "    success = select_country_from_dropdown(driver, country)\n",
    "    if success:\n",
    "        print(\"country been selected successfully!\")\n",
    "    else:\n",
    "        print(\"Failed to select the country!\")\n",
    "    count += 1\n",
    "        # Brief sleep\n",
    "    time.sleep(5)\n",
    "    print(count)\n",
    "    \n",
    "\n",
    "# success = select_country_from_dropdown(driver, \"Iceland\")\n",
    "# if success:\n",
    "#     print(\"country been selected successfully!\")\n",
    "# else:\n",
    "#     print(\"Failed to select the country!\")\n"
   ]
  }
 ],
 "metadata": {
  "kernelspec": {
   "display_name": "env_interview",
   "language": "python",
   "name": "python3"
  },
  "language_info": {
   "codemirror_mode": {
    "name": "ipython",
    "version": 3
   },
   "file_extension": ".py",
   "mimetype": "text/x-python",
   "name": "python",
   "nbconvert_exporter": "python",
   "pygments_lexer": "ipython3",
   "version": "3.9.6"
  },
  "orig_nbformat": 4
 },
 "nbformat": 4,
 "nbformat_minor": 2
}
