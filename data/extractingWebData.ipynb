{
 "cells": [
  {
   "cell_type": "markdown",
   "metadata": {},
   "source": [
    "# Extracting Data From the WMO app"
   ]
  },
  {
   "cell_type": "markdown",
   "metadata": {},
   "source": [
    "## 1 Insturactions of the WMO\n",
    "\n",
    "Use the following steps to carry out the project\n",
    "- Use this link (https://community.wmo.int/en/members/profiles to extract data on\n",
    "heatwaves warning system/services, see example below, if heatwave is in the list of\n",
    "warnings provided, then indicate a yes in the provided excel sheet (for the corresponding\n",
    "country in column B in the excel sheet called “Heatwaves Warning Systems (WMO data)”).\n",
    "\n",
    "\n",
    "full screenmode : https://app.powerbi.com/view?r=eyJrIjoiZjNhNzIzM2YtMjRkYS00ZjJjLWEzZmMtNmQzMGQzMDdiODU3IiwidCI6ImVhYTZiZTU0LTQ2ODctNDBjNC05ODI3LWMwNDRiZDhlOGQzYyIsImMiOjl9\n"
   ]
  },
  {
   "cell_type": "markdown",
   "metadata": {},
   "source": [
    "## 2  Required Libraries"
   ]
  },
  {
   "cell_type": "code",
   "execution_count": 147,
   "metadata": {},
   "outputs": [],
   "source": [
    "#The webdriver module in Selenium allows for automated control of web browsers.\n",
    "\n",
    "\n",
    "from selenium import webdriver\n",
    "from selenium.webdriver.chrome.service import Service\n",
    "from selenium.webdriver.chrome.options import Options\n",
    "from webdriver_manager.chrome import ChromeDriverManager\n",
    "\n",
    "from selenium.webdriver.common.by import By\n",
    "from selenium.webdriver.support.ui import WebDriverWait\n",
    "from selenium.webdriver.support import expected_conditions as EC\n",
    "\n",
    "\n"
   ]
  },
  {
   "cell_type": "markdown",
   "metadata": {},
   "source": [
    "## 3 Opening up the web browser and printing a sample text"
   ]
  },
  {
   "cell_type": "code",
   "execution_count": 148,
   "metadata": {},
   "outputs": [
    {
     "name": "stdout",
     "output_type": "stream",
     "text": [
      "Member Profiles\n",
      "-----\n",
      "The information contained in these profiles have been provided by WMO Members. The information is based on a self-assessment exercise. The date displayed in each section corresponds with the date in which the information was provided to WMO. \n",
      "\n",
      "If you find any issue or inconsistency with the information displayed, please contact community@wmo.int.\n",
      "-----\n",
      "Permanent Representative:\n",
      "-----\n",
      "Hydrological Adviser:\n",
      "-----\n",
      "National Meteorological Service:\n",
      "-----\n",
      "Responsible Ministry:\n",
      "-----\n"
     ]
    }
   ],
   "source": [
    "options = Options()\n",
    "driver = webdriver.Chrome(service=Service(ChromeDriverManager().install()), options=options)\n",
    "\n",
    "# Navigate to the desired URL\n",
    "driver.get('https://app.powerbi.com/view?r=eyJrIjoiZjNhNzIzM2YtMjRkYS00ZjJjLWEzZmMtNmQzMGQzMDdiODU3IiwidCI6ImVhYTZiZTU0LTQ2ODctNDBjNC05ODI3LWMwNDRiZDhlOGQzYyIsImMiOjl9')\n",
    "\n",
    "# Wait for the content to load (adjust the wait time as needed)\n",
    "wait = WebDriverWait(driver, 60)\n",
    "\n",
    "\n",
    "# Locate all div elements with class \"textbox\"\n",
    "div_elements = wait.until(EC.presence_of_all_elements_located((By.XPATH, '//div[@class=\"textbox\"]')))\n",
    "\n",
    "# Iterate over the list of elements and print the text content of each\n",
    "for div_element in div_elements:\n",
    "    print(div_element.text)\n",
    "    print(\"-----\")  # Just a separator for clarity\n",
    "\n",
    "driver.quit()"
   ]
  },
  {
   "cell_type": "markdown",
   "metadata": {},
   "source": [
    "We need to save this as a function to use in our full python code"
   ]
  },
  {
   "cell_type": "code",
   "execution_count": 149,
   "metadata": {},
   "outputs": [],
   "source": [
    "\n",
    "def openChrome(link):\n",
    "    # Options customize Chrome WebDriver behavior\n",
    "    options = Options()\n",
    "\n",
    "    # Initialize the WebDriver (e.g., Chrome)\n",
    "    driver = webdriver.Chrome(service=Service(ChromeDriverManager().install()), options=options)\n",
    "    \n",
    "    # Navigate to the desired URL\n",
    "    driver.get(link)\n",
    "\n",
    "    # wait for page to load\n",
    "    wait = WebDriverWait(driver, 60)\n",
    "\n",
    "    return driver, wait"
   ]
  },
  {
   "cell_type": "code",
   "execution_count": 150,
   "metadata": {},
   "outputs": [],
   "source": [
    "link = \"https://app.powerbi.com/view?r=eyJrIjoiZjNhNzIzM2YtMjRkYS00ZjJjLWEzZmMtNmQzMGQzMDdiODU3IiwidCI6ImVhYTZiZTU0LTQ2ODctNDBjNC05ODI3LWMwNDRiZDhlOGQzYyIsImMiOjl9\"\n",
    "driver_instance, wait  = openChrome(link)"
   ]
  },
  {
   "cell_type": "markdown",
   "metadata": {},
   "source": [
    "Using the driver instance that we created print an sample text"
   ]
  },
  {
   "cell_type": "code",
   "execution_count": 151,
   "metadata": {},
   "outputs": [
    {
     "name": "stdout",
     "output_type": "stream",
     "text": [
      "Member Profiles\n",
      "-----\n",
      "The information contained in these profiles have been provided by WMO Members. The information is based on a self-assessment exercise. The date displayed in each section corresponds with the date in which the information was provided to WMO. \n",
      "\n",
      "If you find any issue or inconsistency with the information displayed, please contact community@wmo.int.\n",
      "-----\n",
      "Permanent Representative:\n",
      "-----\n",
      "Hydrological Adviser:\n",
      "-----\n",
      "National Meteorological Service:\n",
      "-----\n",
      "Responsible Ministry:\n",
      "-----\n"
     ]
    }
   ],
   "source": [
    "# Locate all div elements with class \"textbox\"\n",
    "div_elements = wait.until(EC.presence_of_all_elements_located((By.XPATH, '//div[@class=\"textbox\"]')))\n",
    "\n",
    "# Iterate over the list of elements and print the text content of each\n",
    "for div_element in div_elements:\n",
    "    print(div_element.text)\n",
    "    print(\"-----\")  # Just a separator for clarity\n",
    "\n",
    "# driver_instance.quit()"
   ]
  },
  {
   "cell_type": "markdown",
   "metadata": {},
   "source": [
    "## 4. Clicking on the Early Warning Services "
   ]
  },
  {
   "cell_type": "markdown",
   "metadata": {},
   "source": [
    "this is a way to check to which element you want to use"
   ]
  },
  {
   "cell_type": "code",
   "execution_count": 152,
   "metadata": {},
   "outputs": [],
   "source": [
    "#EC stands for \"Expected Conditions.\" It is a set of predefined conditions that the Selenium WebDriver uses.\n",
    "#presence_of_element_located is one of many expected conditions (EC). It checks if an element is present on the DOM of a page.\n",
    "def wait_and_click(driver, wait, css_selector):\n",
    "    element = wait.until(EC.presence_of_element_located((By.CSS_SELECTOR, css_selector)))\n",
    "    driver.execute_script(\"arguments[0].click();\", element)"
   ]
  },
  {
   "cell_type": "code",
   "execution_count": 153,
   "metadata": {},
   "outputs": [],
   "source": [
    "css_selector = 'a[title=\" Early Warning Services\"]'\n",
    "wait_and_click(driver_instance, wait, css_selector)"
   ]
  },
  {
   "cell_type": "markdown",
   "metadata": {},
   "source": [
    "## 5 - Search for the element "
   ]
  },
  {
   "cell_type": "code",
   "execution_count": 154,
   "metadata": {},
   "outputs": [
    {
     "name": "stdout",
     "output_type": "stream",
     "text": [
      "Found element using data-testid: Number of events per hazard\n",
      "Found element using title: Warnings provided\n",
      "Element not found using inner text.\n"
     ]
    }
   ],
   "source": [
    "def findElement(driver, wait, testId, title, text):\n",
    "    # Method 1: Using the `data-testid` attribute\n",
    "    try:\n",
    "        element_by_data_testid = WebDriverWait(driver, 10).until(\n",
    "            EC.presence_of_element_located((By.CSS_SELECTOR, f'div[data-testid=\"{testId}\"]'))\n",
    "        )\n",
    "        print(\"Found element using data-testid:\", element_by_data_testid.text)\n",
    "    except:\n",
    "        print(\"Element not found using data-testid.\")\n",
    "\n",
    "    # Method 2: Using the `title` attribute\n",
    "    try:\n",
    "        element_by_title = WebDriverWait(driver, 10).until(\n",
    "            EC.presence_of_element_located((By.CSS_SELECTOR, f'div[title=\"{title}\"]'))\n",
    "        )\n",
    "        print(\"Found element using title:\", element_by_title.text)\n",
    "    except:\n",
    "        print(\"Element not found using title.\")\n",
    "\n",
    "    # Method 3: Using the inner text\n",
    "    try:\n",
    "        element_by_text = WebDriverWait(driver, 10).until(\n",
    "            EC.presence_of_element_located((By.XPATH, f'//div[contains(text(), \"{text}\")]'))\n",
    "        )\n",
    "        print(\"Found element using inner text:\", element_by_text.text)\n",
    "    except:\n",
    "        print(\"Element not found using inner text.\")\n",
    "\n",
    "findElement(driver_instance, wait, \"visual-title\", \"Warnings provided\", \"Warnings provided\")\n"
   ]
  },
  {
   "cell_type": "code",
   "execution_count": 155,
   "metadata": {},
   "outputs": [],
   "source": [
    "def saveWarnings(driver, css_selector):\n",
    "    #'.title' is the class name of the element that contains the warning text\n",
    "    warnings= driver_instance.find_elements(By.CSS_SELECTOR, css_selector)\n",
    "    return warnings\n",
    "\n",
    "warnings = saveWarnings(driver_instance, '.title')\n"
   ]
  },
  {
   "cell_type": "code",
   "execution_count": 156,
   "metadata": {},
   "outputs": [
    {
     "name": "stdout",
     "output_type": "stream",
     "text": [
      "Dust storm/Sandstorm\n",
      "Fog\n",
      "Freezing rain\n",
      "Frost\n",
      "Hail\n",
      "Heat wave\n",
      "Icing\n",
      "Lightning\n",
      "Rain/Wet Spell\n",
      "Snow\n",
      "Snowstorm\n",
      "Thunderstorms/Squall lines\n",
      "Wild land fire/Forest fire\n",
      "Wind\n",
      "Yes\n",
      "Yes\n",
      "Yes\n",
      "2 jours\n",
      "Yes\n",
      "Yes\n",
      "No\n",
      "Yes\n",
      "Yes\n"
     ]
    }
   ],
   "source": [
    "\n",
    "for warning in warnings:\n",
    "    print(warning.text)"
   ]
  },
  {
   "cell_type": "markdown",
   "metadata": {},
   "source": [
    "## 6 selecting the next country"
   ]
  },
  {
   "cell_type": "code",
   "execution_count": 157,
   "metadata": {},
   "outputs": [],
   "source": [
    "count = 0\n",
    "max_countries = 5\n",
    "\n",
    "while count < max_countries:\n",
    "        \n",
    "    # Click on the dropdown menu to expand it\n",
    "    dropdown = wait.until(\n",
    "        EC.presence_of_element_located((By.CSS_SELECTOR, '.slicer-dropdown-menu'))\n",
    "    )\n",
    "    dropdown.click()\n",
    "\n",
    "    # Wait for the dropdown options to be visible\n",
    "    dropdown_options = wait.until(\n",
    "        EC.presence_of_all_elements_located((By.CSS_SELECTOR, '[role=\"option\"]'))  # Assuming each dropdown option has a role of \"option\"\n",
    "    )\n",
    "    # Select the next country\n",
    "    if dropdown_options:\n",
    "        dropdown_options[count].click()\n",
    "        count += 1"
   ]
  },
  {
   "cell_type": "code",
   "execution_count": 167,
   "metadata": {},
   "outputs": [
    {
     "name": "stdout",
     "output_type": "stream",
     "text": [
      "\n",
      "\n",
      "\n",
      "\n",
      "\n",
      "\n",
      "\n",
      "\n",
      "\n",
      "\n",
      "\n",
      "\n",
      "General storm\n",
      "\n",
      "Afghanistan\n",
      "Albania\n",
      "Algeria\n",
      "Andorra\n",
      "Angola\n"
     ]
    }
   ],
   "source": [
    "# Assuming you have already initialized 'wait' like:\n",
    "# wait = WebDriverWait(driver_instance, 60)\n",
    "\n",
    "# Click on the dropdown menu to expand it\n",
    "dropdown = wait.until(\n",
    "    EC.presence_of_element_located((By.CSS_SELECTOR, '.slicer-dropdown-menu'))\n",
    ")\n",
    "dropdown.click()\n",
    "\n",
    "# Wait for the dropdown options to be visible\n",
    "dropdown_options = wait.until(\n",
    "    EC.presence_of_all_elements_located((By.CSS_SELECTOR, '[role=\"option\"]'))  # Assuming each dropdown option has a role of \"option\"\n",
    ")\n",
    "\n",
    "# Click on the desired country name from the dropdown list\n",
    "for option in dropdown_options:\n",
    "    print(option.text)\n",
    "    if option.text == \"Angola\":  # Replace DesiredCountryName with the name of the country you want to select\n",
    "        option.click()\n",
    "        break\n"
   ]
  },
  {
   "cell_type": "markdown",
   "metadata": {},
   "source": [
    "## 6 select the next country"
   ]
  },
  {
   "cell_type": "markdown",
   "metadata": {},
   "source": [
    "from a manual country name entery, switch the tab, print the list "
   ]
  },
  {
   "cell_type": "code",
   "execution_count": null,
   "metadata": {},
   "outputs": [
    {
     "name": "stdout",
     "output_type": "stream",
     "text": [
      "Drought/Dry spell\n",
      "Flood\n",
      "Fog\n",
      "Lightning\n",
      "Rain/Wet Spell\n",
      "Wind\n",
      "Yes\n",
      "No\n",
      "Yes\n",
      "No\n",
      "No\n"
     ]
    }
   ],
   "source": [
    "\n",
    "\n",
    "options = Options()\n",
    "driver = webdriver.Chrome(service=Service(ChromeDriverManager().install()), options=options)\n",
    "\n",
    "# Navigate to the desired URL\n",
    "driver.get('https://app.powerbi.com/view?r=eyJrIjoiZjNhNzIzM2YtMjRkYS00ZjJjLWEzZmMtNmQzMGQzMDdiODU3IiwidCI6ImVhYTZiZTU0LTQ2ODctNDBjNC05ODI3LWMwNDRiZDhlOGQzYyIsImMiOjl9')\n",
    "\n",
    "# Click on the dropdown menu to expand it\n",
    "dropdown = WebDriverWait(driver, 60).until(\n",
    "    EC.presence_of_element_located((By.CSS_SELECTOR, '.slicer-dropdown-menu'))\n",
    ")\n",
    "dropdown.click()\n",
    "\n",
    "# Wait for the dropdown options to be visible\n",
    "dropdown_options = WebDriverWait(driver, 60).until(\n",
    "    EC.presence_of_all_elements_located((By.CSS_SELECTOR, '[role=\"option\"]'))  # Assuming each dropdown option has a role of \"option\"\n",
    ")\n",
    "\n",
    "# Click on the desired country name from the dropdown list\n",
    "for option in dropdown_options:\n",
    "    if option.text == \"Angola\":  # Replace DesiredCountryName with the name of the country you want to select\n",
    "        option.click()\n",
    "        break\n",
    "\n",
    "# Continue with the rest of your code\n",
    "# Click on the \"Early Warning Services\" tab\n",
    "element = WebDriverWait(driver, 60).until(\n",
    "    EC.presence_of_element_located((By.CSS_SELECTOR, 'a[title=\" Early Warning Services\"]'))\n",
    ")\n",
    "driver.execute_script(\"arguments[0].click();\", element)\n",
    "\n",
    "# Wait for the list of warnings to load\n",
    "WebDriverWait(driver, 60).until(\n",
    "    EC.presence_of_element_located((By.CSS_SELECTOR, '.title'))\n",
    ")\n",
    "\n",
    "# Retrieve the list of warnings\n",
    "warnings = driver.find_elements(By.CSS_SELECTOR, '.title')\n",
    "\n",
    "if not warnings:\n",
    "    print(\"No data available\")\n",
    "else:\n",
    "    for warning in warnings:\n",
    "        print(warning.text)\n",
    "\n",
    "driver.quit()"
   ]
  },
  {
   "cell_type": "code",
   "execution_count": null,
   "metadata": {},
   "outputs": [
    {
     "ename": "NoSuchWindowException",
     "evalue": "Message: no such window: target window already closed\nfrom unknown error: web view not found\n  (Session info: chrome=117.0.5938.88)\nStacktrace:\n0   chromedriver                        0x00000001076f3e58 chromedriver + 5090904\n1   chromedriver                        0x00000001076eabc3 chromedriver + 5053379\n2   chromedriver                        0x0000000107286527 chromedriver + 447783\n3   chromedriver                        0x000000010725a2f8 chromedriver + 267000\n4   chromedriver                        0x00000001073020cf chromedriver + 954575\n5   chromedriver                        0x0000000107317cc6 chromedriver + 1043654\n6   chromedriver                        0x00000001072fc433 chromedriver + 930867\n7   chromedriver                        0x00000001072c7042 chromedriver + 712770\n8   chromedriver                        0x00000001072c826e chromedriver + 717422\n9   chromedriver                        0x00000001076b53b9 chromedriver + 4834233\n10  chromedriver                        0x00000001076ba55d chromedriver + 4855133\n11  chromedriver                        0x00000001076c14f2 chromedriver + 4883698\n12  chromedriver                        0x00000001076bb28d chromedriver + 4858509\n13  chromedriver                        0x000000010768d0ec chromedriver + 4669676\n14  chromedriver                        0x00000001076d9c58 chromedriver + 4983896\n15  chromedriver                        0x00000001076d9e10 chromedriver + 4984336\n16  chromedriver                        0x00000001076ea7fe chromedriver + 5052414\n17  libsystem_pthread.dylib             0x00007ff805f701d3 _pthread_start + 125\n18  libsystem_pthread.dylib             0x00007ff805f6bbd3 thread_start + 15\n",
     "output_type": "error",
     "traceback": [
      "\u001b[0;31m---------------------------------------------------------------------------\u001b[0m",
      "\u001b[0;31mNoSuchWindowException\u001b[0m                     Traceback (most recent call last)",
      "\u001b[1;32m/Users/hicranarnold/Documents/githubRepos/heatwaves/heatwave-warning-system/data/extractingWebData.ipynb Cell 18\u001b[0m line \u001b[0;36m4\n\u001b[1;32m     <a href='vscode-notebook-cell:/Users/hicranarnold/Documents/githubRepos/heatwaves/heatwave-warning-system/data/extractingWebData.ipynb#X51sZmlsZQ%3D%3D?line=36'>37</a>\u001b[0m driver\u001b[39m.\u001b[39mexecute_script(\u001b[39m\"\u001b[39m\u001b[39marguments[0].click();\u001b[39m\u001b[39m\"\u001b[39m, element)\n\u001b[1;32m     <a href='vscode-notebook-cell:/Users/hicranarnold/Documents/githubRepos/heatwaves/heatwave-warning-system/data/extractingWebData.ipynb#X51sZmlsZQ%3D%3D?line=38'>39</a>\u001b[0m \u001b[39m# Wait for the list of warnings to load\u001b[39;00m\n\u001b[0;32m---> <a href='vscode-notebook-cell:/Users/hicranarnold/Documents/githubRepos/heatwaves/heatwave-warning-system/data/extractingWebData.ipynb#X51sZmlsZQ%3D%3D?line=39'>40</a>\u001b[0m WebDriverWait(driver, \u001b[39m60\u001b[39;49m)\u001b[39m.\u001b[39;49muntil(\n\u001b[1;32m     <a href='vscode-notebook-cell:/Users/hicranarnold/Documents/githubRepos/heatwaves/heatwave-warning-system/data/extractingWebData.ipynb#X51sZmlsZQ%3D%3D?line=40'>41</a>\u001b[0m     EC\u001b[39m.\u001b[39;49mpresence_of_element_located((By\u001b[39m.\u001b[39;49mCSS_SELECTOR, \u001b[39m'\u001b[39;49m\u001b[39m.title\u001b[39;49m\u001b[39m'\u001b[39;49m))\n\u001b[1;32m     <a href='vscode-notebook-cell:/Users/hicranarnold/Documents/githubRepos/heatwaves/heatwave-warning-system/data/extractingWebData.ipynb#X51sZmlsZQ%3D%3D?line=41'>42</a>\u001b[0m )\n\u001b[1;32m     <a href='vscode-notebook-cell:/Users/hicranarnold/Documents/githubRepos/heatwaves/heatwave-warning-system/data/extractingWebData.ipynb#X51sZmlsZQ%3D%3D?line=43'>44</a>\u001b[0m \u001b[39m# Retrieve the list of warnings\u001b[39;00m\n\u001b[1;32m     <a href='vscode-notebook-cell:/Users/hicranarnold/Documents/githubRepos/heatwaves/heatwave-warning-system/data/extractingWebData.ipynb#X51sZmlsZQ%3D%3D?line=44'>45</a>\u001b[0m warnings \u001b[39m=\u001b[39m driver\u001b[39m.\u001b[39mfind_elements(By\u001b[39m.\u001b[39mCSS_SELECTOR, \u001b[39m'\u001b[39m\u001b[39m.title\u001b[39m\u001b[39m'\u001b[39m)\n",
      "File \u001b[0;32m~/Documents/githubRepos/heatwaves/heatwave-warning-system/.env/lib/python3.9/site-packages/selenium/webdriver/support/wait.py:86\u001b[0m, in \u001b[0;36mWebDriverWait.until\u001b[0;34m(self, method, message)\u001b[0m\n\u001b[1;32m     84\u001b[0m \u001b[39mwhile\u001b[39;00m \u001b[39mTrue\u001b[39;00m:\n\u001b[1;32m     85\u001b[0m     \u001b[39mtry\u001b[39;00m:\n\u001b[0;32m---> 86\u001b[0m         value \u001b[39m=\u001b[39m method(\u001b[39mself\u001b[39;49m\u001b[39m.\u001b[39;49m_driver)\n\u001b[1;32m     87\u001b[0m         \u001b[39mif\u001b[39;00m value:\n\u001b[1;32m     88\u001b[0m             \u001b[39mreturn\u001b[39;00m value\n",
      "File \u001b[0;32m~/Documents/githubRepos/heatwaves/heatwave-warning-system/.env/lib/python3.9/site-packages/selenium/webdriver/support/expected_conditions.py:81\u001b[0m, in \u001b[0;36mpresence_of_element_located.<locals>._predicate\u001b[0;34m(driver)\u001b[0m\n\u001b[1;32m     80\u001b[0m \u001b[39mdef\u001b[39;00m \u001b[39m_predicate\u001b[39m(driver):\n\u001b[0;32m---> 81\u001b[0m     \u001b[39mreturn\u001b[39;00m driver\u001b[39m.\u001b[39;49mfind_element(\u001b[39m*\u001b[39;49mlocator)\n",
      "File \u001b[0;32m~/Documents/githubRepos/heatwaves/heatwave-warning-system/.env/lib/python3.9/site-packages/selenium/webdriver/remote/webdriver.py:738\u001b[0m, in \u001b[0;36mWebDriver.find_element\u001b[0;34m(self, by, value)\u001b[0m\n\u001b[1;32m    735\u001b[0m     by \u001b[39m=\u001b[39m By\u001b[39m.\u001b[39mCSS_SELECTOR\n\u001b[1;32m    736\u001b[0m     value \u001b[39m=\u001b[39m \u001b[39mf\u001b[39m\u001b[39m'\u001b[39m\u001b[39m[name=\u001b[39m\u001b[39m\"\u001b[39m\u001b[39m{\u001b[39;00mvalue\u001b[39m}\u001b[39;00m\u001b[39m\"\u001b[39m\u001b[39m]\u001b[39m\u001b[39m'\u001b[39m\n\u001b[0;32m--> 738\u001b[0m \u001b[39mreturn\u001b[39;00m \u001b[39mself\u001b[39;49m\u001b[39m.\u001b[39;49mexecute(Command\u001b[39m.\u001b[39;49mFIND_ELEMENT, {\u001b[39m\"\u001b[39;49m\u001b[39musing\u001b[39;49m\u001b[39m\"\u001b[39;49m: by, \u001b[39m\"\u001b[39;49m\u001b[39mvalue\u001b[39;49m\u001b[39m\"\u001b[39;49m: value})[\u001b[39m\"\u001b[39m\u001b[39mvalue\u001b[39m\u001b[39m\"\u001b[39m]\n",
      "File \u001b[0;32m~/Documents/githubRepos/heatwaves/heatwave-warning-system/.env/lib/python3.9/site-packages/selenium/webdriver/remote/webdriver.py:344\u001b[0m, in \u001b[0;36mWebDriver.execute\u001b[0;34m(self, driver_command, params)\u001b[0m\n\u001b[1;32m    342\u001b[0m response \u001b[39m=\u001b[39m \u001b[39mself\u001b[39m\u001b[39m.\u001b[39mcommand_executor\u001b[39m.\u001b[39mexecute(driver_command, params)\n\u001b[1;32m    343\u001b[0m \u001b[39mif\u001b[39;00m response:\n\u001b[0;32m--> 344\u001b[0m     \u001b[39mself\u001b[39;49m\u001b[39m.\u001b[39;49merror_handler\u001b[39m.\u001b[39;49mcheck_response(response)\n\u001b[1;32m    345\u001b[0m     response[\u001b[39m\"\u001b[39m\u001b[39mvalue\u001b[39m\u001b[39m\"\u001b[39m] \u001b[39m=\u001b[39m \u001b[39mself\u001b[39m\u001b[39m.\u001b[39m_unwrap_value(response\u001b[39m.\u001b[39mget(\u001b[39m\"\u001b[39m\u001b[39mvalue\u001b[39m\u001b[39m\"\u001b[39m, \u001b[39mNone\u001b[39;00m))\n\u001b[1;32m    346\u001b[0m     \u001b[39mreturn\u001b[39;00m response\n",
      "File \u001b[0;32m~/Documents/githubRepos/heatwaves/heatwave-warning-system/.env/lib/python3.9/site-packages/selenium/webdriver/remote/errorhandler.py:229\u001b[0m, in \u001b[0;36mErrorHandler.check_response\u001b[0;34m(self, response)\u001b[0m\n\u001b[1;32m    227\u001b[0m         alert_text \u001b[39m=\u001b[39m value[\u001b[39m\"\u001b[39m\u001b[39malert\u001b[39m\u001b[39m\"\u001b[39m]\u001b[39m.\u001b[39mget(\u001b[39m\"\u001b[39m\u001b[39mtext\u001b[39m\u001b[39m\"\u001b[39m)\n\u001b[1;32m    228\u001b[0m     \u001b[39mraise\u001b[39;00m exception_class(message, screen, stacktrace, alert_text)  \u001b[39m# type: ignore[call-arg]  # mypy is not smart enough here\u001b[39;00m\n\u001b[0;32m--> 229\u001b[0m \u001b[39mraise\u001b[39;00m exception_class(message, screen, stacktrace)\n",
      "\u001b[0;31mNoSuchWindowException\u001b[0m: Message: no such window: target window already closed\nfrom unknown error: web view not found\n  (Session info: chrome=117.0.5938.88)\nStacktrace:\n0   chromedriver                        0x00000001076f3e58 chromedriver + 5090904\n1   chromedriver                        0x00000001076eabc3 chromedriver + 5053379\n2   chromedriver                        0x0000000107286527 chromedriver + 447783\n3   chromedriver                        0x000000010725a2f8 chromedriver + 267000\n4   chromedriver                        0x00000001073020cf chromedriver + 954575\n5   chromedriver                        0x0000000107317cc6 chromedriver + 1043654\n6   chromedriver                        0x00000001072fc433 chromedriver + 930867\n7   chromedriver                        0x00000001072c7042 chromedriver + 712770\n8   chromedriver                        0x00000001072c826e chromedriver + 717422\n9   chromedriver                        0x00000001076b53b9 chromedriver + 4834233\n10  chromedriver                        0x00000001076ba55d chromedriver + 4855133\n11  chromedriver                        0x00000001076c14f2 chromedriver + 4883698\n12  chromedriver                        0x00000001076bb28d chromedriver + 4858509\n13  chromedriver                        0x000000010768d0ec chromedriver + 4669676\n14  chromedriver                        0x00000001076d9c58 chromedriver + 4983896\n15  chromedriver                        0x00000001076d9e10 chromedriver + 4984336\n16  chromedriver                        0x00000001076ea7fe chromedriver + 5052414\n17  libsystem_pthread.dylib             0x00007ff805f701d3 _pthread_start + 125\n18  libsystem_pthread.dylib             0x00007ff805f6bbd3 thread_start + 15\n"
     ]
    }
   ],
   "source": [
    "from selenium import webdriver\n",
    "from selenium.webdriver.common.by import By\n",
    "from selenium.webdriver.chrome.service import Service\n",
    "from selenium.webdriver.chrome.options import Options\n",
    "from webdriver_manager.chrome import ChromeDriverManager\n",
    "from selenium.webdriver.support.ui import WebDriverWait\n",
    "from selenium.webdriver.support import expected_conditions as EC\n",
    "\n",
    "options = Options()\n",
    "driver = webdriver.Chrome(service=Service(ChromeDriverManager().install()), options=options)\n",
    "\n",
    "# Navigate to the desired URL\n",
    "driver.get('https://app.powerbi.com/view?r=eyJrIjoiZjNhNzIzM2YtMjRkYS00ZjJjLWEzZmMtNmQzMGQzMDdiODU3IiwidCI6ImVhYTZiZTU0LTQ2ODctNDBjNC05ODI3LWMwNDRiZDhlOGQzYyIsImMiOjl9')\n",
    "\n",
    "# Click on the dropdown menu to expand it\n",
    "dropdown = WebDriverWait(driver, 60).until(\n",
    "    EC.presence_of_element_located((By.CSS_SELECTOR, '.slicer-dropdown-menu'))\n",
    ")\n",
    "dropdown.click()\n",
    "\n",
    "# Wait for the dropdown options to be visible\n",
    "dropdown_options = WebDriverWait(driver, 60).until(\n",
    "    EC.presence_of_all_elements_located((By.CSS_SELECTOR, '[role=\"option\"]'))  # Assuming each dropdown option has a role of \"option\"\n",
    ")\n",
    "\n",
    "# Click on the desired country name from the dropdown list\n",
    "for option in dropdown_options:\n",
    "    if option.text == \"Afghanistan\":  # Replace DesiredCountryName with the name of the country you want to select\n",
    "        option.click()\n",
    "        break\n",
    "\n",
    "# Continue with the rest of your code\n",
    "# Click on the \"Early Warning Services\" tab\n",
    "element = WebDriverWait(driver, 60).until(\n",
    "    EC.presence_of_element_located((By.CSS_SELECTOR, 'a[title=\" Early Warning Services\"]'))\n",
    ")\n",
    "driver.execute_script(\"arguments[0].click();\", element)\n",
    "\n",
    "# Wait for the list of warnings to load\n",
    "WebDriverWait(driver, 60).until(\n",
    "    EC.presence_of_element_located((By.CSS_SELECTOR, '.title'))\n",
    ")\n",
    "\n",
    "# Retrieve the list of warnings\n",
    "warnings = driver.find_elements(By.CSS_SELECTOR, '.title')\n",
    "\n",
    "if not warnings:\n",
    "    print(\"No data available\")\n",
    "else:\n",
    "    for warning in warnings:\n",
    "        print(warning.text)\n",
    "\n",
    "driver.quit()"
   ]
  },
  {
   "cell_type": "markdown",
   "metadata": {},
   "source": [
    "### drop down the menu sequantially"
   ]
  },
  {
   "cell_type": "code",
   "execution_count": null,
   "metadata": {},
   "outputs": [],
   "source": [
    "from selenium import webdriver\n",
    "from selenium.webdriver.common.by import By\n",
    "from selenium.webdriver.chrome.service import Service\n",
    "from selenium.webdriver.chrome.options import Options\n",
    "from webdriver_manager.chrome import ChromeDriverManager\n",
    "from selenium.webdriver.support.ui import WebDriverWait\n",
    "from selenium.webdriver.support import expected_conditions as EC\n",
    "\n",
    "options = Options()\n",
    "driver = webdriver.Chrome(service=Service(ChromeDriverManager().install()), options=options)\n",
    "\n",
    "# Navigate to the desired URL\n",
    "driver.get('https://app.powerbi.com/view?r=eyJrIjoiZjNhNzIzM2YtMjRkYS00ZjJjLWEzZmMtNmQzMGQzMDdiODU3IiwidCI6ImVhYTZiZTU0LTQ2ODctNDBjNC05ODI3LWMwNDRiZDhlOGQzYyIsImMiOjl9')\n",
    "\n",
    "count = 0\n",
    "max_countries = 5\n",
    "\n",
    "while count < max_countries:\n",
    "    # Click on the dropdown to expand it\n",
    "    dropdown = WebDriverWait(driver, 60).until(\n",
    "        EC.presence_of_element_located((By.CSS_SELECTOR, '.slicer-dropdown-menu'))\n",
    "    )\n",
    "    dropdown.click()\n",
    "\n",
    "    # Wait for the dropdown options to be visible\n",
    "    dropdown_options = WebDriverWait(driver, 60).until(\n",
    "        EC.presence_of_all_elements_located((By.CSS_SELECTOR, '[role=\"option\"]'))  # Assuming each dropdown option has a role of \"option\"\n",
    "    )\n",
    "    \n",
    "\n",
    "    # Select the next country\n",
    "    if dropdown_options:\n",
    "        dropdown_options[count].click()\n",
    "        count += 1\n",
    "\n",
    "# Continue with the rest of your code\n"
   ]
  }
 ],
 "metadata": {
  "kernelspec": {
   "display_name": "env_interview",
   "language": "python",
   "name": "python3"
  },
  "language_info": {
   "codemirror_mode": {
    "name": "ipython",
    "version": 3
   },
   "file_extension": ".py",
   "mimetype": "text/x-python",
   "name": "python",
   "nbconvert_exporter": "python",
   "pygments_lexer": "ipython3",
   "version": "3.9.6"
  },
  "orig_nbformat": 4
 },
 "nbformat": 4,
 "nbformat_minor": 2
}
