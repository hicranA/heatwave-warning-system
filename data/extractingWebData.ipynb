{
 "cells": [
  {
   "cell_type": "markdown",
   "metadata": {},
   "source": [
    "# Extracting Data From the WMO app"
   ]
  },
  {
   "cell_type": "markdown",
   "metadata": {},
   "source": [
    "## 1 Insturactions of the WMO\n",
    "\n",
    "Use the following steps to carry out the project\n",
    "- Use this link (https://community.wmo.int/en/members/profiles to extract data on\n",
    "heatwaves warning system/services, see example below, if heatwave is in the list of\n",
    "warnings provided, then indicate a yes in the provided excel sheet (for the corresponding\n",
    "country in column B in the excel sheet called “Heatwaves Warning Systems (WMO data)”).\n",
    "\n",
    "\n",
    "full screenmode : https://app.powerbi.com/view?r=eyJrIjoiZjNhNzIzM2YtMjRkYS00ZjJjLWEzZmMtNmQzMGQzMDdiODU3IiwidCI6ImVhYTZiZTU0LTQ2ODctNDBjNC05ODI3LWMwNDRiZDhlOGQzYyIsImMiOjl9\n"
   ]
  },
  {
   "cell_type": "markdown",
   "metadata": {},
   "source": [
    "## 2  Required Libraries"
   ]
  },
  {
   "cell_type": "code",
   "execution_count": 137,
   "metadata": {},
   "outputs": [],
   "source": [
    "#The webdriver module in Selenium allows for automated control of web browsers.\n",
    "\n",
    "\n",
    "from selenium import webdriver\n",
    "from selenium.webdriver.chrome.service import Service\n",
    "from selenium.webdriver.chrome.options import Options\n",
    "from webdriver_manager.chrome import ChromeDriverManager\n",
    "\n",
    "from selenium.webdriver.common.by import By\n",
    "from selenium.webdriver.support.ui import WebDriverWait\n",
    "from selenium.webdriver.support import expected_conditions as EC\n",
    "\n",
    "\n"
   ]
  },
  {
   "cell_type": "markdown",
   "metadata": {},
   "source": [
    "## 3 Opening up the web browser and printing a sample text"
   ]
  },
  {
   "cell_type": "markdown",
   "metadata": {},
   "source": [
    "The function below opens up chrome browser and waits for 60 minutes to load the data \n",
    "\n",
    "input: The website link\n",
    "\n",
    "Output : the driver and wabdriverwait instance"
   ]
  },
  {
   "cell_type": "code",
   "execution_count": 138,
   "metadata": {},
   "outputs": [],
   "source": [
    "\n",
    "def openChrome(link):\n",
    "    # Options customize Chrome WebDriver behavior\n",
    "    options = Options()\n",
    "\n",
    "    # Initialize the WebDriver (e.g., Chrome)\n",
    "    driver = webdriver.Chrome(service=Service(ChromeDriverManager().install()), options=options)\n",
    "    \n",
    "    # Navigate to the desired URL\n",
    "    driver.get(link)\n",
    "\n",
    "    # wait for page to load\n",
    "    wait = WebDriverWait(driver, 60)\n",
    "\n",
    "    return driver, wait"
   ]
  },
  {
   "cell_type": "code",
   "execution_count": 139,
   "metadata": {},
   "outputs": [],
   "source": [
    "link = \"https://app.powerbi.com/view?r=eyJrIjoiZjNhNzIzM2YtMjRkYS00ZjJjLWEzZmMtNmQzMGQzMDdiODU3IiwidCI6ImVhYTZiZTU0LTQ2ODctNDBjNC05ODI3LWMwNDRiZDhlOGQzYyIsImMiOjl9\"\n",
    "driver_instance, wait  = openChrome(link)"
   ]
  },
  {
   "cell_type": "markdown",
   "metadata": {},
   "source": [
    "Using the driver instance that we created print an sample text"
   ]
  },
  {
   "cell_type": "code",
   "execution_count": 140,
   "metadata": {},
   "outputs": [
    {
     "name": "stdout",
     "output_type": "stream",
     "text": [
      "Member Profiles\n",
      "-----\n",
      "The information contained in these profiles have been provided by WMO Members. The information is based on a self-assessment exercise. The date displayed in each section corresponds with the date in which the information was provided to WMO. \n",
      "\n",
      "If you find any issue or inconsistency with the information displayed, please contact community@wmo.int.\n",
      "-----\n",
      "Permanent Representative:\n",
      "-----\n",
      "Hydrological Adviser:\n",
      "-----\n",
      "National Meteorological Service:\n",
      "-----\n",
      "Responsible Ministry:\n",
      "-----\n"
     ]
    }
   ],
   "source": [
    "# Locate all div elements with class \"textbox\"\n",
    "div_elements = wait.until(EC.presence_of_all_elements_located((By.XPATH, '//div[@class=\"textbox\"]')))\n",
    "\n",
    "# Iterate over the list of elements and print the text content of each\n",
    "for div_element in div_elements:\n",
    "    print(div_element.text)\n",
    "    print(\"-----\")  # Just a separator for clarity\n",
    "\n",
    "# driver_instance.quit()"
   ]
  },
  {
   "cell_type": "markdown",
   "metadata": {},
   "source": [
    "## 4. Clicking on the Early Warning Services "
   ]
  },
  {
   "cell_type": "code",
   "execution_count": 141,
   "metadata": {},
   "outputs": [],
   "source": [
    "#EC stands for \"Expected Conditions.\" It is a set of predefined conditions that the Selenium WebDriver uses.\n",
    "#presence_of_element_located is one of many expected conditions (EC). It checks if an element is present on the DOM of a page.\n",
    "def wait_and_click(driver, wait, css_selector):\n",
    "    element = wait.until(EC.presence_of_element_located((By.CSS_SELECTOR, css_selector)))\n",
    "    driver.execute_script(\"arguments[0].click();\", element)"
   ]
  },
  {
   "cell_type": "code",
   "execution_count": 142,
   "metadata": {},
   "outputs": [],
   "source": [
    "css_selector = 'a[title=\" Early Warning Services\"]'\n",
    "wait_and_click(driver_instance, wait, css_selector)"
   ]
  },
  {
   "cell_type": "markdown",
   "metadata": {},
   "source": [
    "## 5 - Get Warnings List"
   ]
  },
  {
   "cell_type": "code",
   "execution_count": 143,
   "metadata": {},
   "outputs": [],
   "source": [
    "def saveWarnings(driver, css_selector):\n",
    "    #'.title' is the class name of the element that contains the warning text\n",
    "    warnings= driver_instance.find_elements(By.CSS_SELECTOR, css_selector)\n",
    "    return warnings\n",
    "\n",
    "warnings = saveWarnings(driver_instance, '.title')\n"
   ]
  },
  {
   "cell_type": "code",
   "execution_count": 144,
   "metadata": {},
   "outputs": [],
   "source": [
    "\n",
    "for warning in warnings:\n",
    "    print(warning.text)"
   ]
  },
  {
   "cell_type": "markdown",
   "metadata": {},
   "source": [
    "## 6 selecting the next country"
   ]
  },
  {
   "cell_type": "code",
   "execution_count": 145,
   "metadata": {},
   "outputs": [
    {
     "name": "stdout",
     "output_type": "stream",
     "text": [
      "['', '', '', '', '', '', '', '', '', '', '', '', 'Ground movement', 'Riverine flood', 'Flash flood', 'General flood', '', '', '', '', 'Ground moveme…', 'Riverine flood', 'General flood', 'Flash flood', 'Heat wave', 'Forest fire', 'General storm', 'General landslide', 'Coastal flood', 'Cold wave', 'Drought', 'Locust', '', '', '', '', '', '', '', '', '', '', '', '']\n"
     ]
    }
   ],
   "source": [
    "\n",
    "dropdown = wait.until(\n",
    "    EC.presence_of_element_located((By.CSS_SELECTOR, '.slicer-dropdown-menu'))\n",
    ")\n",
    "dropdown.click()\n",
    "\n",
    "# Wait for the dropdown options to be visible\n",
    "dropdown_options = wait.until(\n",
    "    EC.presence_of_all_elements_located((By.CSS_SELECTOR, '[role=\"option\"]'))  # Assuming each dropdown option has a role of \"option\"\n",
    ")\n",
    "\n",
    "country_names = []\n",
    "for option in dropdown_options:\n",
    "    country_name = option.text\n",
    "    country_names.append(country_name)\n",
    "\n",
    "    # Uncomment the following lines if you want to click on a specific country\n",
    "   \n",
    "    if country_name == \"Angola\":  \n",
    "        option.click()\n",
    "        break\n",
    "    \n",
    "\n",
    "print(country_names)"
   ]
  },
  {
   "cell_type": "markdown",
   "metadata": {},
   "source": [
    "## 6 select the next country"
   ]
  },
  {
   "cell_type": "markdown",
   "metadata": {},
   "source": [
    "from a manual country name entery, switch the tab, print the list "
   ]
  },
  {
   "cell_type": "code",
   "execution_count": 155,
   "metadata": {},
   "outputs": [
    {
     "name": "stdout",
     "output_type": "stream",
     "text": [
      "{'Austria', 'Poland', 'Barbados', 'Burundi', 'Papua New Guinea', 'Lebanon', 'Yemen', 'Central African Republic', 'Ireland', 'Iceland', 'Finland', 'Ecuador', 'French Polynesia', 'Israel', 'Kuwait', 'Nigeria', 'North Macedonia', 'Albania', 'Colombia', 'Malta', 'Japan', 'Cook Islands', 'Spain', 'Venezuela, Bolivarian Republic of', 'Curaçao and Sint Maarten', 'Lesotho', 'Mali', 'Seychelles', 'Iraq', 'Bhutan', 'Hungary', 'Czechia', 'Suriname', 'Panama', 'Haiti', 'Kenya', 'Paraguay', 'British Caribbean Territories - Montserrat', 'Jordan', 'British Caribbean Territories - Turks and Caicos Islands', 'Andorra', 'Mauritania', 'Niger', 'Türkiye', 'Germany', 'Chad', 'Qatar', 'Trinidad and Tobago', 'Nauru', 'Vanuatu', 'British Caribbean Territories - Cayman Islands', 'Republic of Korea', 'Monaco', 'Peru', 'Bosnia and Herzegovina', 'Ghana', 'United States of America', 'Botswana', 'Mexico', 'New Zealand', 'Bangladesh', 'Myanmar', 'Samoa', 'Malaysia', 'Australia', 'Tonga', 'Cambodia', 'Honduras', 'Bolivia (Plurinational State of)', 'New Caledonia', 'Luxembourg', 'Afghanistan', 'Egypt', 'Antigua and Barbuda', 'Fiji', 'El Salvador', 'Bulgaria', 'Jamaica', 'Belize', 'Sweden', 'Belarus', 'Uruguay', 'Costa Rica', 'Lithuania', 'United Republic of Tanzania', 'Angola', 'Oman', 'Indonesia', 'Tunisia', 'Latvia', 'Liberia', 'Namibia', 'Ethiopia', 'Madagascar', 'Greece', 'Micronesia (Federated States of)', 'Dominica', 'Singapore', 'Bahamas', 'Somalia', 'Norway', 'Slovenia', 'Sao Tome and Principe', 'Cameroon', \"Côte d'Ivoire\", 'Guinea-Bissau', 'Mongolia', 'Sudan', 'South Sudan', 'Belgium', 'Zambia', 'Djibouti', 'Georgia', 'Nicaragua', 'Syrian Arab Republic', 'Kyrgyzstan', 'Mauritius', 'Rwanda', 'South Africa', \"Lao People's Democratic Republic\", 'Libya (State of)', 'Slovakia', 'India', 'Macao, China', 'Croatia', 'Ukraine', 'Canada', 'Kazakhstan', 'Saint Lucia', 'Benin', 'Azerbaijan', 'Romania', 'Denmark', 'Turkmenistan', 'Republic of Moldova', 'Armenia', 'Iran (Islamic Republic of)', 'Tajikistan', 'Philippines', 'Estonia', 'Zimbabwe', 'Italy', 'Guinea', 'Morocco', 'Cyprus', 'Cuba', 'British Caribbean Territories - Anguilla', 'United Kingdom of Great Britain and Northern Ireland', 'Tuvalu', 'Nepal', 'Uganda', 'Russian Federation', \"Democratic People's Republic of Korea\", 'Saudi Arabia', 'Timor-Leste', 'Kiribati', 'Gabon', 'Switzerland', 'British Caribbean Territories', 'Malawi', 'Democratic Republic of the Congo', 'China', 'Argentina', 'Sri Lanka', 'Brazil', 'Bahrain', 'Netherlands', 'Guyana', 'Burkina Faso', 'Sierra Leone', 'United Arab Emirates', 'Comoros', 'Brunei Darussalam', 'Dominican Republic', 'Guatemala', 'Uzbekistan', 'Serbia', 'France', 'Eswatini', 'Mozambique', 'Portugal', 'Senegal', 'Cabo Verde', 'Congo', 'Hong Kong, China', 'Montenegro', 'Pakistan', 'Solomon Islands', 'Maldives', 'Niue', 'Thailand', 'Gambia (The)', 'Chile', 'British Caribbean Territories - British Virgin Islands', 'Eritrea', 'Algeria', 'Viet Nam', 'Togo'}\n"
     ]
    }
   ],
   "source": [
    "from selenium import webdriver\n",
    "from selenium.webdriver.common.by import By\n",
    "from selenium.webdriver.chrome.service import Service\n",
    "from selenium.webdriver.chrome.options import Options\n",
    "from webdriver_manager.chrome import ChromeDriverManager\n",
    "from selenium.webdriver.support.ui import WebDriverWait\n",
    "from selenium.webdriver.support import expected_conditions as EC\n",
    "from selenium.webdriver.common.action_chains import ActionChains\n",
    "\n",
    "options = Options()\n",
    "driver = webdriver.Chrome(service=Service(ChromeDriverManager().install()), options=options)\n",
    "\n",
    "# Navigate to the desired URL\n",
    "driver.get('https://app.powerbi.com/view?r=eyJrIjoiZjNhNzIzM2YtMjRkYS00ZjJjLWEzZmMtNmQzMGQzMDdiODU3IiwidCI6ImVhYTZiZTU0LTQ2ODctNDBjNC05ODI3LWMwNDRiZDhlOGQzYyIsImMiOjl9')\n",
    "\n",
    "# Open the dropdown menu\n",
    "dropdown = WebDriverWait(driver, 60).until(\n",
    "    EC.presence_of_element_located((By.CSS_SELECTOR, '.slicer-dropdown-menu'))\n",
    ")\n",
    "dropdown.click()\n",
    "\n",
    "loaded_countries = set()\n",
    "\n",
    "while True:\n",
    "    # Re-fetch the dropdown options in every iteration to avoid StaleElementReferenceException\n",
    "    current_countries_elements = WebDriverWait(driver, 60).until(\n",
    "        EC.presence_of_all_elements_located((By.CSS_SELECTOR, '.slicerText'))\n",
    "    )\n",
    "    \n",
    "    # Extract country names from the current elements\n",
    "    current_countries = {element.text for element in current_countries_elements}\n",
    "\n",
    "    # Check if no new countries are found\n",
    "    if not current_countries - loaded_countries:\n",
    "        break\n",
    "    \n",
    "    loaded_countries.update(current_countries)\n",
    "\n",
    "    # Scroll to the last element to load more countries\n",
    "    ActionChains(driver).move_to_element(current_countries_elements[-1]).perform()\n",
    "\n",
    "print(loaded_countries)\n"
   ]
  },
  {
   "cell_type": "code",
   "execution_count": 156,
   "metadata": {},
   "outputs": [
    {
     "data": {
      "text/plain": [
       "{'Afghanistan',\n",
       " 'Albania',\n",
       " 'Algeria',\n",
       " 'Andorra',\n",
       " 'Angola',\n",
       " 'Antigua and Barbuda',\n",
       " 'Argentina',\n",
       " 'Armenia',\n",
       " 'Australia',\n",
       " 'Austria',\n",
       " 'Azerbaijan',\n",
       " 'Bahamas',\n",
       " 'Bahrain',\n",
       " 'Bangladesh',\n",
       " 'Barbados',\n",
       " 'Belarus',\n",
       " 'Belgium',\n",
       " 'Belize',\n",
       " 'Benin',\n",
       " 'Bhutan',\n",
       " 'Bolivia (Plurinational State of)',\n",
       " 'Bosnia and Herzegovina',\n",
       " 'Botswana',\n",
       " 'Brazil',\n",
       " 'British Caribbean Territories',\n",
       " 'British Caribbean Territories - Anguilla',\n",
       " 'British Caribbean Territories - British Virgin Islands',\n",
       " 'British Caribbean Territories - Cayman Islands',\n",
       " 'British Caribbean Territories - Montserrat',\n",
       " 'British Caribbean Territories - Turks and Caicos Islands',\n",
       " 'Brunei Darussalam',\n",
       " 'Bulgaria',\n",
       " 'Burkina Faso',\n",
       " 'Burundi',\n",
       " 'Cabo Verde',\n",
       " 'Cambodia',\n",
       " 'Cameroon',\n",
       " 'Canada',\n",
       " 'Central African Republic',\n",
       " 'Chad',\n",
       " 'Chile',\n",
       " 'China',\n",
       " 'Colombia',\n",
       " 'Comoros',\n",
       " 'Congo',\n",
       " 'Cook Islands',\n",
       " 'Costa Rica',\n",
       " 'Croatia',\n",
       " 'Cuba',\n",
       " 'Curaçao and Sint Maarten',\n",
       " 'Cyprus',\n",
       " 'Czechia',\n",
       " \"Côte d'Ivoire\",\n",
       " \"Democratic People's Republic of Korea\",\n",
       " 'Democratic Republic of the Congo',\n",
       " 'Denmark',\n",
       " 'Djibouti',\n",
       " 'Dominica',\n",
       " 'Dominican Republic',\n",
       " 'Ecuador',\n",
       " 'Egypt',\n",
       " 'El Salvador',\n",
       " 'Eritrea',\n",
       " 'Estonia',\n",
       " 'Eswatini',\n",
       " 'Ethiopia',\n",
       " 'Fiji',\n",
       " 'Finland',\n",
       " 'France',\n",
       " 'French Polynesia',\n",
       " 'Gabon',\n",
       " 'Gambia (The)',\n",
       " 'Georgia',\n",
       " 'Germany',\n",
       " 'Ghana',\n",
       " 'Greece',\n",
       " 'Guatemala',\n",
       " 'Guinea',\n",
       " 'Guinea-Bissau',\n",
       " 'Guyana',\n",
       " 'Haiti',\n",
       " 'Honduras',\n",
       " 'Hong Kong, China',\n",
       " 'Hungary',\n",
       " 'Iceland',\n",
       " 'India',\n",
       " 'Indonesia',\n",
       " 'Iran (Islamic Republic of)',\n",
       " 'Iraq',\n",
       " 'Ireland',\n",
       " 'Israel',\n",
       " 'Italy',\n",
       " 'Jamaica',\n",
       " 'Japan',\n",
       " 'Jordan',\n",
       " 'Kazakhstan',\n",
       " 'Kenya',\n",
       " 'Kiribati',\n",
       " 'Kuwait',\n",
       " 'Kyrgyzstan',\n",
       " \"Lao People's Democratic Republic\",\n",
       " 'Latvia',\n",
       " 'Lebanon',\n",
       " 'Lesotho',\n",
       " 'Liberia',\n",
       " 'Libya (State of)',\n",
       " 'Lithuania',\n",
       " 'Luxembourg',\n",
       " 'Macao, China',\n",
       " 'Madagascar',\n",
       " 'Malawi',\n",
       " 'Malaysia',\n",
       " 'Maldives',\n",
       " 'Mali',\n",
       " 'Malta',\n",
       " 'Mauritania',\n",
       " 'Mauritius',\n",
       " 'Mexico',\n",
       " 'Micronesia (Federated States of)',\n",
       " 'Monaco',\n",
       " 'Mongolia',\n",
       " 'Montenegro',\n",
       " 'Morocco',\n",
       " 'Mozambique',\n",
       " 'Myanmar',\n",
       " 'Namibia',\n",
       " 'Nauru',\n",
       " 'Nepal',\n",
       " 'Netherlands',\n",
       " 'New Caledonia',\n",
       " 'New Zealand',\n",
       " 'Nicaragua',\n",
       " 'Niger',\n",
       " 'Nigeria',\n",
       " 'Niue',\n",
       " 'North Macedonia',\n",
       " 'Norway',\n",
       " 'Oman',\n",
       " 'Pakistan',\n",
       " 'Panama',\n",
       " 'Papua New Guinea',\n",
       " 'Paraguay',\n",
       " 'Peru',\n",
       " 'Philippines',\n",
       " 'Poland',\n",
       " 'Portugal',\n",
       " 'Qatar',\n",
       " 'Republic of Korea',\n",
       " 'Republic of Moldova',\n",
       " 'Romania',\n",
       " 'Russian Federation',\n",
       " 'Rwanda',\n",
       " 'Saint Lucia',\n",
       " 'Samoa',\n",
       " 'Sao Tome and Principe',\n",
       " 'Saudi Arabia',\n",
       " 'Senegal',\n",
       " 'Serbia',\n",
       " 'Seychelles',\n",
       " 'Sierra Leone',\n",
       " 'Singapore',\n",
       " 'Slovakia',\n",
       " 'Slovenia',\n",
       " 'Solomon Islands',\n",
       " 'Somalia',\n",
       " 'South Africa',\n",
       " 'South Sudan',\n",
       " 'Spain',\n",
       " 'Sri Lanka',\n",
       " 'Sudan',\n",
       " 'Suriname',\n",
       " 'Sweden',\n",
       " 'Switzerland',\n",
       " 'Syrian Arab Republic',\n",
       " 'Tajikistan',\n",
       " 'Thailand',\n",
       " 'Timor-Leste',\n",
       " 'Togo',\n",
       " 'Tonga',\n",
       " 'Trinidad and Tobago',\n",
       " 'Tunisia',\n",
       " 'Turkmenistan',\n",
       " 'Tuvalu',\n",
       " 'Türkiye',\n",
       " 'Uganda',\n",
       " 'Ukraine',\n",
       " 'United Arab Emirates',\n",
       " 'United Kingdom of Great Britain and Northern Ireland',\n",
       " 'United Republic of Tanzania',\n",
       " 'United States of America',\n",
       " 'Uruguay',\n",
       " 'Uzbekistan',\n",
       " 'Vanuatu',\n",
       " 'Venezuela, Bolivarian Republic of',\n",
       " 'Viet Nam',\n",
       " 'Yemen',\n",
       " 'Zambia',\n",
       " 'Zimbabwe'}"
      ]
     },
     "execution_count": 156,
     "metadata": {},
     "output_type": "execute_result"
    }
   ],
   "source": [
    "loaded_countries"
   ]
  },
  {
   "cell_type": "code",
   "execution_count": 157,
   "metadata": {},
   "outputs": [
    {
     "data": {
      "text/plain": [
       "198"
      ]
     },
     "execution_count": 157,
     "metadata": {},
     "output_type": "execute_result"
    }
   ],
   "source": [
    "len(loaded_countries)"
   ]
  },
  {
   "cell_type": "markdown",
   "metadata": {},
   "source": [
    "stop when you see Spain"
   ]
  },
  {
   "cell_type": "code",
   "execution_count": 153,
   "metadata": {},
   "outputs": [
    {
     "name": "stdout",
     "output_type": "stream",
     "text": [
      "{'Austria', 'Poland', 'Barbados', 'Burundi', 'Papua New Guinea', 'Lebanon', 'Central African Republic', 'Ireland', 'Iceland', 'Finland', 'Ecuador', 'French Polynesia', 'Israel', 'Kuwait', 'Nigeria', 'North Macedonia', 'Albania', 'Colombia', 'Malta', 'Japan', 'Cook Islands', 'Curaçao and Sint Maarten', 'Lesotho', 'Mali', 'Seychelles', 'Iraq', 'Bhutan', 'Hungary', 'Czechia', 'Panama', 'Haiti', 'Kenya', 'Paraguay', 'British Caribbean Territories - Montserrat', 'Jordan', 'British Caribbean Territories - Turks and Caicos Islands', 'Andorra', 'Mauritania', 'Niger', 'Germany', 'Chad', 'Qatar', 'Nauru', 'British Caribbean Territories - Cayman Islands', 'Republic of Korea', 'Monaco', 'Peru', 'Bosnia and Herzegovina', 'Ghana', 'Botswana', 'Mexico', 'New Zealand', 'Bangladesh', 'Myanmar', 'Samoa', 'Malaysia', 'Australia', 'Cambodia', 'Honduras', 'Bolivia (Plurinational State of)', 'New Caledonia', 'Luxembourg', 'Afghanistan', 'Egypt', 'Antigua and Barbuda', 'Fiji', 'El Salvador', 'Bulgaria', 'Jamaica', 'Belize', 'Belarus', 'Costa Rica', 'Lithuania', 'Angola', 'Oman', 'Indonesia', 'Latvia', 'Liberia', 'Namibia', 'Ethiopia', 'Madagascar', 'Greece', 'Micronesia (Federated States of)', 'Dominica', 'Singapore', 'Bahamas', 'Somalia', 'Norway', 'Slovenia', 'Sao Tome and Principe', 'Cameroon', \"Côte d'Ivoire\", 'Guinea-Bissau', 'Mongolia', 'South Sudan', 'Belgium', 'Djibouti', 'Georgia', 'Nicaragua', 'Kyrgyzstan', 'Mauritius', 'Rwanda', 'South Africa', \"Lao People's Democratic Republic\", 'Libya (State of)', 'Slovakia', 'India', 'Macao, China', 'Croatia', 'Canada', 'Kazakhstan', 'Saint Lucia', 'Benin', 'Azerbaijan', 'Romania', 'Denmark', 'Republic of Moldova', 'Armenia', 'Iran (Islamic Republic of)', 'Philippines', 'Estonia', 'Italy', 'Guinea', 'Morocco', 'Cyprus', 'Cuba', 'British Caribbean Territories - Anguilla', 'Nepal', 'Russian Federation', \"Democratic People's Republic of Korea\", 'Saudi Arabia', 'Kiribati', 'Gabon', 'British Caribbean Territories', 'Malawi', 'Democratic Republic of the Congo', 'China', 'Argentina', 'Brazil', 'Bahrain', 'Netherlands', 'Guyana', 'Burkina Faso', 'Sierra Leone', 'Comoros', 'Brunei Darussalam', 'Dominican Republic', 'Guatemala', 'Serbia', 'France', 'Eswatini', 'Mozambique', 'Portugal', 'Senegal', 'Cabo Verde', 'Congo', 'Hong Kong, China', 'Montenegro', 'Pakistan', 'Solomon Islands', 'Maldives', 'Niue', 'Gambia (The)', 'Chile', 'British Caribbean Territories - British Virgin Islands', 'Eritrea', 'Algeria'}\n"
     ]
    }
   ],
   "source": [
    "from selenium import webdriver\n",
    "from selenium.webdriver.common.by import By\n",
    "from selenium.webdriver.chrome.service import Service\n",
    "from selenium.webdriver.chrome.options import Options\n",
    "from webdriver_manager.chrome import ChromeDriverManager\n",
    "from selenium.webdriver.support.ui import WebDriverWait\n",
    "from selenium.webdriver.support import expected_conditions as EC\n",
    "from selenium.webdriver.common.action_chains import ActionChains\n",
    "\n",
    "options = Options()\n",
    "driver = webdriver.Chrome(service=Service(ChromeDriverManager().install()), options=options)\n",
    "\n",
    "# Navigate to the desired URL\n",
    "driver.get('https://app.powerbi.com/view?r=eyJrIjoiZjNhNzIzM2YtMjRkYS00ZjJjLWEzZmMtNmQzMGQzMDdiODU3IiwidCI6ImVhYTZiZTU0LTQ2ODctNDBjNC05ODI3LWMwNDRiZDhlOGQzYyIsImMiOjl9')\n",
    "\n",
    "# Open the dropdown menu\n",
    "dropdown = WebDriverWait(driver, 60).until(\n",
    "    EC.presence_of_element_located((By.CSS_SELECTOR, '.slicer-dropdown-menu'))\n",
    ")\n",
    "dropdown.click()\n",
    "\n",
    "loaded_countries = set()\n",
    "target_country = \"Spain\"\n",
    "country_selected = False\n",
    "\n",
    "while True:\n",
    "    # Re-fetch the dropdown options in every iteration to avoid StaleElementReferenceException\n",
    "    current_countries_elements = WebDriverWait(driver, 60).until(\n",
    "        EC.presence_of_all_elements_located((By.CSS_SELECTOR, '.slicerText'))\n",
    "    )\n",
    "    \n",
    "    # Extract country names from the current elements\n",
    "    current_countries = {element.text for element in current_countries_elements}\n",
    "\n",
    "    # Check if target country is in the current batch of loaded countries\n",
    "    if target_country in current_countries:\n",
    "        for option in current_countries_elements:\n",
    "            if option.text == target_country:\n",
    "                option.click()\n",
    "                country_selected = True\n",
    "                break\n",
    "\n",
    "    # If the country has been selected, break out of the loop\n",
    "    if country_selected:\n",
    "        break\n",
    "    \n",
    "    # Check if no new countries are found\n",
    "    if not current_countries - loaded_countries:\n",
    "        break\n",
    "    \n",
    "    loaded_countries.update(current_countries)\n",
    "\n",
    "    # Scroll to the last element to load more countries\n",
    "    ActionChains(driver).move_to_element(current_countries_elements[-1]).perform()\n",
    "\n",
    "print(loaded_countries)\n"
   ]
  }
 ],
 "metadata": {
  "kernelspec": {
   "display_name": "env_interview",
   "language": "python",
   "name": "python3"
  },
  "language_info": {
   "codemirror_mode": {
    "name": "ipython",
    "version": 3
   },
   "file_extension": ".py",
   "mimetype": "text/x-python",
   "name": "python",
   "nbconvert_exporter": "python",
   "pygments_lexer": "ipython3",
   "version": "3.9.6"
  },
  "orig_nbformat": 4
 },
 "nbformat": 4,
 "nbformat_minor": 2
}
