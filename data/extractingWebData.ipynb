{
 "cells": [
  {
   "cell_type": "markdown",
   "metadata": {},
   "source": [
    "# Extracting Data From the WMO app"
   ]
  },
  {
   "cell_type": "markdown",
   "metadata": {},
   "source": [
    "## 1 Insturactions of the WMO\n",
    "\n",
    "Use the following steps to carry out the project\n",
    "- Use this link (https://community.wmo.int/en/members/profiles to extract data on\n",
    "heatwaves warning system/services, see example below, if heatwave is in the list of\n",
    "warnings provided, then indicate a yes in the provided excel sheet (for the corresponding\n",
    "country in column B in the excel sheet called “Heatwaves Warning Systems (WMO data)”).\n",
    "\n",
    "\n",
    "full screenmode : https://app.powerbi.com/view?r=eyJrIjoiZjNhNzIzM2YtMjRkYS00ZjJjLWEzZmMtNmQzMGQzMDdiODU3IiwidCI6ImVhYTZiZTU0LTQ2ODctNDBjNC05ODI3LWMwNDRiZDhlOGQzYyIsImMiOjl9\n"
   ]
  },
  {
   "cell_type": "markdown",
   "metadata": {},
   "source": [
    "## 2  Required Libraries"
   ]
  },
  {
   "cell_type": "code",
   "execution_count": 168,
   "metadata": {},
   "outputs": [],
   "source": [
    "#The webdriver module in Selenium allows for automated control of web browsers.\n",
    "\n",
    "\n",
    "from selenium import webdriver\n",
    "from selenium.webdriver.chrome.service import Service\n",
    "from selenium.webdriver.chrome.options import Options\n",
    "from webdriver_manager.chrome import ChromeDriverManager\n",
    "\n",
    "from selenium.webdriver.common.by import By\n",
    "from selenium.webdriver.support.ui import WebDriverWait\n",
    "from selenium.webdriver.support import expected_conditions as EC\n",
    "from selenium.webdriver.common.action_chains import ActionChains\n",
    "\n",
    "\n"
   ]
  },
  {
   "cell_type": "markdown",
   "metadata": {},
   "source": [
    "## 3 Opening up the web browser and printing a sample text"
   ]
  },
  {
   "cell_type": "markdown",
   "metadata": {},
   "source": [
    "The function below opens up chrome browser and waits for 60 minutes to load the data \n",
    "\n",
    "input: The website link\n",
    "\n",
    "Output : the driver and wabdriverwait instance"
   ]
  },
  {
   "cell_type": "code",
   "execution_count": 169,
   "metadata": {},
   "outputs": [],
   "source": [
    "\n",
    "def openChrome(link):\n",
    "    # Options customize Chrome WebDriver behavior\n",
    "    options = Options()\n",
    "\n",
    "    # Initialize the WebDriver (e.g., Chrome)\n",
    "    driver = webdriver.Chrome(service=Service(ChromeDriverManager().install()), options=options)\n",
    "    \n",
    "    # Navigate to the desired URL\n",
    "    driver.get(link)\n",
    "\n",
    "    # wait for page to load\n",
    "    wait = WebDriverWait(driver, 60)\n",
    "\n",
    "    return driver, wait"
   ]
  },
  {
   "cell_type": "code",
   "execution_count": 170,
   "metadata": {},
   "outputs": [],
   "source": [
    "link = \"https://app.powerbi.com/view?r=eyJrIjoiZjNhNzIzM2YtMjRkYS00ZjJjLWEzZmMtNmQzMGQzMDdiODU3IiwidCI6ImVhYTZiZTU0LTQ2ODctNDBjNC05ODI3LWMwNDRiZDhlOGQzYyIsImMiOjl9\"\n",
    "driver_instance, wait  = openChrome(link)"
   ]
  },
  {
   "cell_type": "markdown",
   "metadata": {},
   "source": [
    "Using the driver instance that we created print an sample text"
   ]
  },
  {
   "cell_type": "code",
   "execution_count": 171,
   "metadata": {},
   "outputs": [
    {
     "name": "stdout",
     "output_type": "stream",
     "text": [
      "Member Profiles\n",
      "-----\n",
      "The information contained in these profiles have been provided by WMO Members. The information is based on a self-assessment exercise. The date displayed in each section corresponds with the date in which the information was provided to WMO. \n",
      "\n",
      "If you find any issue or inconsistency with the information displayed, please contact community@wmo.int.\n",
      "-----\n",
      "Permanent Representative:\n",
      "-----\n",
      "Hydrological Adviser:\n",
      "-----\n",
      "National Meteorological Service:\n",
      "-----\n",
      "Responsible Ministry:\n",
      "-----\n"
     ]
    }
   ],
   "source": [
    "# Locate all div elements with class \"textbox\"\n",
    "div_elements = wait.until(EC.presence_of_all_elements_located((By.XPATH, '//div[@class=\"textbox\"]')))\n",
    "\n",
    "# Iterate over the list of elements and print the text content of each\n",
    "for div_element in div_elements:\n",
    "    print(div_element.text)\n",
    "    print(\"-----\")  # Just a separator for clarity\n",
    "\n",
    "# driver_instance.quit()"
   ]
  },
  {
   "cell_type": "markdown",
   "metadata": {},
   "source": [
    "## 4. Clicking on the Early Warning Services "
   ]
  },
  {
   "cell_type": "code",
   "execution_count": 172,
   "metadata": {},
   "outputs": [],
   "source": [
    "#EC stands for \"Expected Conditions.\" It is a set of predefined conditions that the Selenium WebDriver uses.\n",
    "#presence_of_element_located is one of many expected conditions (EC). It checks if an element is present on the DOM of a page.\n",
    "def wait_and_click(driver, wait, css_selector):\n",
    "    element = wait.until(EC.presence_of_element_located((By.CSS_SELECTOR, css_selector)))\n",
    "    driver.execute_script(\"arguments[0].click();\", element)"
   ]
  },
  {
   "cell_type": "code",
   "execution_count": 173,
   "metadata": {},
   "outputs": [],
   "source": [
    "css_selector = 'a[title=\" Early Warning Services\"]'\n",
    "wait_and_click(driver_instance, wait, css_selector)"
   ]
  },
  {
   "cell_type": "markdown",
   "metadata": {},
   "source": [
    "## 5 - Get Warnings List"
   ]
  },
  {
   "cell_type": "code",
   "execution_count": 174,
   "metadata": {},
   "outputs": [],
   "source": [
    "def saveWarnings(driver, css_selector):\n",
    "    #'.title' is the class name of the element that contains the warning text\n",
    "    warnings= driver_instance.find_elements(By.CSS_SELECTOR, css_selector)\n",
    "    return warnings\n",
    "\n",
    "warnings = saveWarnings(driver_instance, '.title')\n"
   ]
  },
  {
   "cell_type": "code",
   "execution_count": 175,
   "metadata": {},
   "outputs": [],
   "source": [
    "\n",
    "for warning in warnings:\n",
    "    print(warning.text)"
   ]
  },
  {
   "cell_type": "markdown",
   "metadata": {},
   "source": [
    "## 6 selecting the next country"
   ]
  },
  {
   "cell_type": "code",
   "execution_count": 176,
   "metadata": {},
   "outputs": [
    {
     "name": "stdout",
     "output_type": "stream",
     "text": [
      "['', '', '', '', '', '', '', '', '', '', '', '', 'Ground moveme…', 'Riverine flood', 'General flood', 'Flash flood', 'Heat wave', 'Forest fire', 'General storm', 'General landslide', 'Coastal flood', 'Cold wave', 'Drought', 'Locust', '', '', '', '', '', '', '', '', '', '', '', '']\n"
     ]
    }
   ],
   "source": [
    "\n",
    "dropdown = wait.until(\n",
    "    EC.presence_of_element_located((By.CSS_SELECTOR, '.slicer-dropdown-menu'))\n",
    ")\n",
    "dropdown.click()\n",
    "\n",
    "# Wait for the dropdown options to be visible\n",
    "dropdown_options = wait.until(\n",
    "    EC.presence_of_all_elements_located((By.CSS_SELECTOR, '[role=\"option\"]'))  # Assuming each dropdown option has a role of \"option\"\n",
    ")\n",
    "\n",
    "country_names = []\n",
    "for option in dropdown_options:\n",
    "    country_name = option.text\n",
    "    country_names.append(country_name)\n",
    "\n",
    "    # Uncomment the following lines if you want to click on a specific country\n",
    "   \n",
    "    if country_name == \"Angola\":  \n",
    "        option.click()\n",
    "        break\n",
    "    \n",
    "\n",
    "print(country_names)"
   ]
  },
  {
   "cell_type": "markdown",
   "metadata": {},
   "source": [
    "## 6 Get all the country names "
   ]
  },
  {
   "cell_type": "code",
   "execution_count": 179,
   "metadata": {},
   "outputs": [],
   "source": [
    "\n",
    "def getCountryNames(driver, wait):\n",
    "    # Open the dropdown menu\n",
    "    dropdown = wait.until(\n",
    "        EC.presence_of_element_located((By.CSS_SELECTOR, '.slicer-dropdown-menu'))\n",
    "    )\n",
    "    dropdown.click()\n",
    "\n",
    "    loaded_countries = set()\n",
    "    while True:\n",
    "        # Re-fetch the dropdown options in every iteration to avoid StaleElementReferenceException\n",
    "        current_countries_elements = wait.until(\n",
    "            EC.presence_of_all_elements_located((By.CSS_SELECTOR, '.slicerText'))\n",
    "        )\n",
    "        \n",
    "        # Extract country names from the current elements\n",
    "        current_countries = {element.text for element in current_countries_elements}\n",
    "\n",
    "        # Check if no new countries are found\n",
    "        if not current_countries - loaded_countries:\n",
    "            break\n",
    "        \n",
    "        loaded_countries.update(current_countries)\n",
    "\n",
    "        # Scroll to the last element to load more countries\n",
    "        ActionChains(driver).move_to_element(current_countries_elements[-1]).perform()\n",
    "    print(loaded_countries)\n",
    "    # Close the dropdown menu by clicking the dropdown button again\n",
    "    dropdown.click()\n",
    "    return loaded_countries"
   ]
  },
  {
   "cell_type": "code",
   "execution_count": 180,
   "metadata": {},
   "outputs": [
    {
     "name": "stdout",
     "output_type": "stream",
     "text": [
      "{'Solomon Islands', 'Ireland', 'Romania', 'Guyana', 'Turkmenistan', 'British Caribbean Territories', 'Monaco', 'United States of America', 'Cyprus', 'Andorra', 'Italy', 'Lithuania', 'Guatemala', 'Thailand', 'Fiji', 'Venezuela, Bolivarian Republic of', 'Eswatini', \"Lao People's Democratic Republic\", 'Belarus', 'Guinea', 'Latvia', 'India', 'Portugal', 'Qatar', 'Republic of Korea', 'Bulgaria', 'North Macedonia', 'Slovakia', 'United Republic of Tanzania', 'Iceland', 'Montenegro', 'Uganda', 'Austria', 'Mali', 'Armenia', 'Cameroon', 'Greece', 'Costa Rica', 'Israel', 'Bahrain', 'Sweden', 'Liberia', 'Afghanistan', 'Myanmar', 'Nicaragua', 'Tuvalu', 'Saudi Arabia', 'Lebanon', 'Cambodia', 'Ghana', 'Botswana', 'British Caribbean Territories - Anguilla', 'Congo', 'Germany', 'Antigua and Barbuda', 'British Caribbean Territories - Montserrat', 'Brazil', 'New Zealand', 'Czechia', 'Cabo Verde', 'Micronesia (Federated States of)', 'Central African Republic', 'French Polynesia', 'Angola', 'Cuba', 'Honduras', 'Samoa', 'Sao Tome and Principe', 'Maldives', 'Kenya', 'British Caribbean Territories - Turks and Caicos Islands', 'Papua New Guinea', 'Trinidad and Tobago', 'Brunei Darussalam', 'El Salvador', 'Uzbekistan', 'Malaysia', 'Comoros', 'Kazakhstan', 'British Caribbean Territories - British Virgin Islands', 'Singapore', 'Algeria', 'Barbados', 'Canada', 'Finland', 'Philippines', 'Mozambique', 'France', 'Panama', 'Mauritius', 'Colombia', 'Sri Lanka', 'Malawi', 'Azerbaijan', 'Haiti', 'Bolivia (Plurinational State of)', 'Estonia', 'United Kingdom of Great Britain and Northern Ireland', 'Bosnia and Herzegovina', 'Libya (State of)', 'Netherlands', 'British Caribbean Territories - Cayman Islands', 'Oman', 'Seychelles', 'Viet Nam', 'Namibia', 'Suriname', 'Burundi', 'Georgia', 'Eritrea', 'Bahamas', 'Hong Kong, China', 'Switzerland', 'Slovenia', 'Albania', 'Denmark', 'Gabon', 'South Sudan', 'Bangladesh', 'Djibouti', 'Paraguay', 'Syrian Arab Republic', 'Lesotho', 'New Caledonia', 'Serbia', 'Curaçao and Sint Maarten', 'Benin', 'Uruguay', 'Vanuatu', 'Zimbabwe', 'Norway', 'Poland', 'Ethiopia', 'Peru', 'Republic of Moldova', 'Rwanda', 'Croatia', 'Nauru', 'Indonesia', 'Mongolia', 'Kuwait', 'Hungary', 'Saint Lucia', 'Chad', 'Dominica', 'Malta', 'Russian Federation', 'Somalia', 'Jamaica', 'Iraq', \"Côte d'Ivoire\", 'Burkina Faso', 'Cook Islands', 'Japan', 'Ecuador', 'Spain', 'South Africa', 'Sudan', 'Belgium', 'Argentina', 'Chile', 'Kyrgyzstan', 'Bhutan', 'Togo', 'United Arab Emirates', 'Mexico', 'Iran (Islamic Republic of)', 'Tunisia', 'Niue', 'Pakistan', 'Madagascar', 'Macao, China', 'Australia', 'Democratic Republic of the Congo', 'Türkiye', 'Ukraine', 'Niger', 'Tajikistan', 'Gambia (The)', 'Dominican Republic', 'China', 'Mauritania', 'Luxembourg', 'Morocco', 'Guinea-Bissau', \"Democratic People's Republic of Korea\", 'Nigeria', 'Senegal', 'Jordan', 'Belize', 'Kiribati', 'Nepal', 'Tonga', 'Egypt', 'Zambia', 'Sierra Leone', 'Yemen', 'Timor-Leste'}\n"
     ]
    }
   ],
   "source": [
    "loaded_countries = getCountryNames(driver_instance, wait)"
   ]
  },
  {
   "cell_type": "code",
   "execution_count": null,
   "metadata": {},
   "outputs": [
    {
     "name": "stdout",
     "output_type": "stream",
     "text": [
      "198\n"
     ]
    }
   ],
   "source": [
    "print(len(loaded_countries ))"
   ]
  },
  {
   "cell_type": "markdown",
   "metadata": {},
   "source": [
    "## 7 Selecting A country"
   ]
  },
  {
   "cell_type": "code",
   "execution_count": 181,
   "metadata": {},
   "outputs": [],
   "source": [
    "driver_instance2, wait2 = openChrome(link)"
   ]
  },
  {
   "cell_type": "code",
   "execution_count": 182,
   "metadata": {},
   "outputs": [],
   "source": [
    "\n",
    "def select_country_from_dropdown(driver, wait, target_country):\n",
    "    # Open the dropdown menu\n",
    "    dropdown = wait.until(\n",
    "        EC.presence_of_element_located((By.CSS_SELECTOR, '.slicer-dropdown-menu'))\n",
    "    )\n",
    "    dropdown.click()\n",
    "\n",
    "    loaded_countries = set()\n",
    "    country_selected = False\n",
    "\n",
    "    while True:\n",
    "        # Re-fetch the dropdown options in every iteration to avoid StaleElementReferenceException\n",
    "        current_countries_elements = wait.until(\n",
    "            EC.presence_of_all_elements_located((By.CSS_SELECTOR, '.slicerText'))\n",
    "        )\n",
    "        \n",
    "        # Extract country names from the current elements\n",
    "        current_countries = {element.text for element in current_countries_elements}\n",
    "\n",
    "        # Check if target country is in the current batch of loaded countries\n",
    "        if target_country in current_countries:\n",
    "            for option in current_countries_elements:\n",
    "                if option.text == target_country:\n",
    "                    option.click()\n",
    "                    country_selected = True\n",
    "                    break\n",
    "\n",
    "        # If the country has been selected, break out of the loop\n",
    "        if country_selected:\n",
    "            break\n",
    "        \n",
    "        # Check if no new countries are found\n",
    "        if not current_countries - loaded_countries:\n",
    "            break\n",
    "        \n",
    "        loaded_countries.update(current_countries)\n",
    "\n",
    "        # Scroll to the last element to load more countries\n",
    "        ActionChains(driver).move_to_element(current_countries_elements[-1]).perform()\n",
    "\n",
    "    return country_selected"
   ]
  },
  {
   "cell_type": "code",
   "execution_count": 183,
   "metadata": {},
   "outputs": [
    {
     "name": "stdout",
     "output_type": "stream",
     "text": [
      "has been selected successfully!\n"
     ]
    }
   ],
   "source": [
    "success = select_country_from_dropdown(driver_instance,wait, \"Austria\")\n",
    "if success:\n",
    "    print(\"has been selected successfully!\")\n",
    "else:\n",
    "    print(\"Failed to select!\")\n"
   ]
  },
  {
   "cell_type": "markdown",
   "metadata": {},
   "source": [
    "## selecting 8 country and getting the information"
   ]
  },
  {
   "cell_type": "markdown",
   "metadata": {},
   "source": [
    "1- Initiate global variables\n",
    "    - initiate a dictinary\n",
    "    - driver, wait\n",
    "2- Load all the country names\n",
    "3 -Click on Early warning systems\n",
    "----- repeat this 8 times ----\n",
    "4- Click on the desired country name\n",
    "5- extract warning systems in a list\n",
    "   (if the list is empty)\n",
    "6- save country name and the list in the map"
   ]
  },
  {
   "cell_type": "code",
   "execution_count": 184,
   "metadata": {},
   "outputs": [
    {
     "name": "stdout",
     "output_type": "stream",
     "text": [
      "['Afghanistan', 'Albania', 'Algeria', 'Andorra', 'Angola', 'Antigua and Barbuda', 'Argentina', 'Armenia', 'Australia', 'Austria', 'Azerbaijan', 'Bahamas', 'Bahrain', 'Bangladesh', 'Barbados', 'Belarus', 'Belgium', 'Belize', 'Benin', 'Bhutan', 'Bolivia (Plurinational State of)', 'Bosnia and Herzegovina', 'Botswana', 'Brazil', 'British Caribbean Territories', 'British Caribbean Territories - Anguilla', 'British Caribbean Territories - British Virgin Islands', 'British Caribbean Territories - Cayman Islands', 'British Caribbean Territories - Montserrat', 'British Caribbean Territories - Turks and Caicos Islands', 'Brunei Darussalam', 'Bulgaria', 'Burkina Faso', 'Burundi', 'Cabo Verde', 'Cambodia', 'Cameroon', 'Canada', 'Central African Republic', 'Chad', 'Chile', 'China', 'Colombia', 'Comoros', 'Congo', 'Cook Islands', 'Costa Rica', 'Croatia', 'Cuba', 'Curaçao and Sint Maarten', 'Cyprus', 'Czechia', \"Côte d'Ivoire\", \"Democratic People's Republic of Korea\", 'Democratic Republic of the Congo', 'Denmark', 'Djibouti', 'Dominica', 'Dominican Republic', 'Ecuador', 'Egypt', 'El Salvador', 'Eritrea', 'Estonia', 'Eswatini', 'Ethiopia', 'Fiji', 'Finland', 'France', 'French Polynesia', 'Gabon', 'Gambia (The)', 'Georgia', 'Germany', 'Ghana', 'Greece', 'Guatemala', 'Guinea', 'Guinea-Bissau', 'Guyana', 'Haiti', 'Honduras', 'Hong Kong, China', 'Hungary', 'Iceland', 'India', 'Indonesia', 'Iran (Islamic Republic of)', 'Iraq', 'Ireland', 'Israel', 'Italy', 'Jamaica', 'Japan', 'Jordan', 'Kazakhstan', 'Kenya', 'Kiribati', 'Kuwait', 'Kyrgyzstan', \"Lao People's Democratic Republic\", 'Latvia', 'Lebanon', 'Lesotho', 'Liberia', 'Libya (State of)', 'Lithuania', 'Luxembourg', 'Macao, China', 'Madagascar', 'Malawi', 'Malaysia', 'Maldives', 'Mali', 'Malta', 'Mauritania', 'Mauritius', 'Mexico', 'Micronesia (Federated States of)', 'Monaco', 'Mongolia', 'Montenegro', 'Morocco', 'Mozambique', 'Myanmar', 'Namibia', 'Nauru', 'Nepal', 'Netherlands', 'New Caledonia', 'New Zealand', 'Nicaragua', 'Niger', 'Nigeria', 'Niue', 'North Macedonia', 'Norway', 'Oman', 'Pakistan', 'Panama', 'Papua New Guinea', 'Paraguay', 'Peru', 'Philippines', 'Poland', 'Portugal', 'Qatar', 'Republic of Korea', 'Republic of Moldova', 'Romania', 'Russian Federation', 'Rwanda', 'Saint Lucia', 'Samoa', 'Sao Tome and Principe', 'Saudi Arabia', 'Senegal', 'Serbia', 'Seychelles', 'Sierra Leone', 'Singapore', 'Slovakia', 'Slovenia', 'Solomon Islands', 'Somalia', 'South Africa', 'South Sudan', 'Spain', 'Sri Lanka', 'Sudan', 'Suriname', 'Sweden', 'Switzerland', 'Syrian Arab Republic', 'Tajikistan', 'Thailand', 'Timor-Leste', 'Togo', 'Tonga', 'Trinidad and Tobago', 'Tunisia', 'Turkmenistan', 'Tuvalu', 'Türkiye', 'Uganda', 'Ukraine', 'United Arab Emirates', 'United Kingdom of Great Britain and Northern Ireland', 'United Republic of Tanzania', 'United States of America', 'Uruguay', 'Uzbekistan', 'Vanuatu', 'Venezuela, Bolivarian Republic of', 'Viet Nam', 'Yemen', 'Zambia', 'Zimbabwe']\n"
     ]
    }
   ],
   "source": [
    "# Convert the set to a list\n",
    "countries_list = list(loaded_countries)\n",
    "\n",
    "# Sort the list\n",
    "countries_list.sort()\n",
    "\n",
    "print(countries_list)\n",
    "test= countries_list[0:8]"
   ]
  },
  {
   "cell_type": "code",
   "execution_count": 185,
   "metadata": {},
   "outputs": [
    {
     "data": {
      "text/plain": [
       "['Afghanistan',\n",
       " 'Albania',\n",
       " 'Algeria',\n",
       " 'Andorra',\n",
       " 'Angola',\n",
       " 'Antigua and Barbuda',\n",
       " 'Argentina',\n",
       " 'Armenia']"
      ]
     },
     "execution_count": 185,
     "metadata": {},
     "output_type": "execute_result"
    }
   ],
   "source": [
    "test"
   ]
  },
  {
   "cell_type": "code",
   "execution_count": 186,
   "metadata": {},
   "outputs": [
    {
     "name": "stdout",
     "output_type": "stream",
     "text": [
      "has been selected successfully!\n",
      "has been selected successfully!\n",
      "has been selected successfully!\n",
      "has been selected successfully!\n",
      "has been selected successfully!\n",
      "has been selected successfully!\n",
      "has been selected successfully!\n",
      "has been selected successfully!\n"
     ]
    }
   ],
   "source": [
    "for country in test:\n",
    "    success = select_country_from_dropdown(driver_instance2,wait2, country)\n",
    "    if success:\n",
    "        print(\"has been selected successfully!\")\n",
    "    else:\n",
    "        print(\"Failed to select!\")"
   ]
  },
  {
   "cell_type": "code",
   "execution_count": null,
   "metadata": {},
   "outputs": [],
   "source": [
    "from selenium import webdriver\n",
    "from selenium.webdriver.common.by import By\n",
    "from selenium.webdriver.chrome.service import Service\n",
    "from selenium.webdriver.chrome.options import Options\n",
    "from webdriver_manager.chrome import ChromeDriverManager\n",
    "from selenium.webdriver.support.ui import WebDriverWait\n",
    "from selenium.webdriver.support import expected_conditions as EC\n",
    "from selenium.webdriver.common.action_chains import ActionChains\n",
    "\n",
    "options = Options()\n",
    "driver = webdriver.Chrome(service=Service(ChromeDriverManager().install()), options=options)\n",
    "\n",
    "# Navigate to the desired URL\n",
    "driver.get('https://app.powerbi.com/view?r=eyJrIjoiZjNhNzIzM2YtMjRkYS00ZjJjLWEzZmMtNmQzMGQzMDdiODU3IiwidCI6ImVhYTZiZTU0LTQ2ODctNDBjNC05ODI3LWMwNDRiZDhlOGQzYyIsImMiOjl9')\n",
    "\n",
    "# Open the dropdown menu\n",
    "dropdown = WebDriverWait(driver, 60).until(\n",
    "    EC.presence_of_element_located((By.CSS_SELECTOR, '.slicer-dropdown-menu'))\n",
    ")\n",
    "dropdown.click()\n",
    "\n",
    "loaded_countries = set()\n",
    "\n",
    "while True:\n",
    "    # Re-fetch the dropdown options in every iteration to avoid StaleElementReferenceException\n",
    "    current_countries_elements = WebDriverWait(driver, 60).until(\n",
    "        EC.presence_of_all_elements_located((By.CSS_SELECTOR, '.slicerText'))\n",
    "    )\n",
    "    \n",
    "    # Extract country names from the current elements\n",
    "    current_countries = {element.text for element in current_countries_elements}\n",
    "\n",
    "    # Check if no new countries are found\n",
    "    if not current_countries - loaded_countries:\n",
    "        break\n",
    "    \n",
    "    loaded_countries.update(current_countries)\n",
    "\n",
    "    # Scroll to the last element to load more countries\n",
    "    ActionChains(driver).move_to_element(current_countries_elements[-1]).perform()\n",
    "\n",
    "print(loaded_countries)\n"
   ]
  },
  {
   "cell_type": "code",
   "execution_count": null,
   "metadata": {},
   "outputs": [],
   "source": [
    "loaded_countries"
   ]
  },
  {
   "cell_type": "code",
   "execution_count": null,
   "metadata": {},
   "outputs": [],
   "source": [
    "len(loaded_countries)"
   ]
  },
  {
   "cell_type": "markdown",
   "metadata": {},
   "source": [
    "stop when you see Spain"
   ]
  },
  {
   "cell_type": "code",
   "execution_count": null,
   "metadata": {},
   "outputs": [],
   "source": [
    "from selenium import webdriver\n",
    "from selenium.webdriver.common.by import By\n",
    "from selenium.webdriver.chrome.service import Service\n",
    "from selenium.webdriver.chrome.options import Options\n",
    "from webdriver_manager.chrome import ChromeDriverManager\n",
    "from selenium.webdriver.support.ui import WebDriverWait\n",
    "from selenium.webdriver.support import expected_conditions as EC\n",
    "from selenium.webdriver.common.action_chains import ActionChains\n",
    "\n",
    "options = Options()\n",
    "driver = webdriver.Chrome(service=Service(ChromeDriverManager().install()), options=options)\n",
    "\n",
    "# Navigate to the desired URL\n",
    "driver.get('https://app.powerbi.com/view?r=eyJrIjoiZjNhNzIzM2YtMjRkYS00ZjJjLWEzZmMtNmQzMGQzMDdiODU3IiwidCI6ImVhYTZiZTU0LTQ2ODctNDBjNC05ODI3LWMwNDRiZDhlOGQzYyIsImMiOjl9')\n",
    "\n",
    "# Open the dropdown menu\n",
    "dropdown = WebDriverWait(driver, 60).until(\n",
    "    EC.presence_of_element_located((By.CSS_SELECTOR, '.slicer-dropdown-menu'))\n",
    ")\n",
    "dropdown.click()\n",
    "\n",
    "loaded_countries = set()\n",
    "target_country = \"Spain\"\n",
    "country_selected = False\n",
    "\n",
    "while True:\n",
    "    # Re-fetch the dropdown options in every iteration to avoid StaleElementReferenceException\n",
    "    current_countries_elements = WebDriverWait(driver, 60).until(\n",
    "        EC.presence_of_all_elements_located((By.CSS_SELECTOR, '.slicerText'))\n",
    "    )\n",
    "    \n",
    "    # Extract country names from the current elements\n",
    "    current_countries = {element.text for element in current_countries_elements}\n",
    "\n",
    "    # Check if target country is in the current batch of loaded countries\n",
    "    if target_country in current_countries:\n",
    "        for option in current_countries_elements:\n",
    "            if option.text == target_country:\n",
    "                option.click()\n",
    "                country_selected = True\n",
    "                break\n",
    "\n",
    "    # If the country has been selected, break out of the loop\n",
    "    if country_selected:\n",
    "        break\n",
    "    \n",
    "    # Check if no new countries are found\n",
    "    if not current_countries - loaded_countries:\n",
    "        break\n",
    "    \n",
    "    loaded_countries.update(current_countries)\n",
    "\n",
    "    # Scroll to the last element to load more countries\n",
    "    ActionChains(driver).move_to_element(current_countries_elements[-1]).perform()\n",
    "\n",
    "print(loaded_countries)\n"
   ]
  },
  {
   "cell_type": "code",
   "execution_count": null,
   "metadata": {},
   "outputs": [],
   "source": [
    "# Convert the set to a list\n",
    "countries_list = list(loaded_countries)\n",
    "\n",
    "# Sort the list\n",
    "countries_list.sort()\n",
    "\n",
    "print(countries_list)\n",
    "test= countries_list[0:9]"
   ]
  },
  {
   "cell_type": "code",
   "execution_count": null,
   "metadata": {},
   "outputs": [],
   "source": [
    "from selenium.webdriver.common.by import By\n",
    "from selenium.webdriver.support.ui import WebDriverWait\n",
    "from selenium.webdriver.support import expected_conditions as EC\n",
    "from selenium.webdriver.common.action_chains import ActionChains\n",
    "\n",
    "options = Options()\n",
    "driver = webdriver.Chrome(service=Service(ChromeDriverManager().install()), options=options)\n",
    "\n",
    "# Navigate to the desired URL\n",
    "driver.get('https://app.powerbi.com/view?r=eyJrIjoiZjNhNzIzM2YtMjRkYS00ZjJjLWEzZmMtNmQzMGQzMDdiODU3IiwidCI6ImVhYTZiZTU0LTQ2ODctNDBjNC05ODI3LWMwNDRiZDhlOGQzYyIsImMiOjl9')\n",
    "\n",
    "def select_country_from_dropdown(driver, target_country):\n",
    "    # Open the dropdown menu\n",
    "    dropdown = WebDriverWait(driver, 60).until(\n",
    "        EC.presence_of_element_located((By.CSS_SELECTOR, '.slicer-dropdown-menu'))\n",
    "    )\n",
    "    dropdown.click()\n",
    "\n",
    "    loaded_countries = set()\n",
    "    country_selected = False\n",
    "\n",
    "    while True:\n",
    "        # Re-fetch the dropdown options in every iteration to avoid StaleElementReferenceException\n",
    "        current_countries_elements = WebDriverWait(driver, 60).until(\n",
    "            EC.presence_of_all_elements_located((By.CSS_SELECTOR, '.slicerText'))\n",
    "        )\n",
    "        \n",
    "        # Extract country names from the current elements\n",
    "        current_countries = {element.text for element in current_countries_elements}\n",
    "\n",
    "        # Check if target country is in the current batch of loaded countries\n",
    "        if target_country in current_countries:\n",
    "            for option in current_countries_elements:\n",
    "                if option.text == target_country:\n",
    "                    option.click()\n",
    "                    country_selected = True\n",
    "                    break\n",
    "\n",
    "        # If the country has been selected, break out of the loop\n",
    "        if country_selected:\n",
    "            break\n",
    "        \n",
    "        # Check if no new countries are found\n",
    "        if not current_countries - loaded_countries:\n",
    "            break\n",
    "        \n",
    "        loaded_countries.update(current_countries)\n",
    "\n",
    "        # Scroll to the last element to load more countries\n",
    "        ActionChains(driver).move_to_element(current_countries_elements[-1]).perform()\n",
    "\n",
    "    return country_selected\n"
   ]
  },
  {
   "cell_type": "code",
   "execution_count": null,
   "metadata": {},
   "outputs": [],
   "source": [
    "success = select_country_from_dropdown(driver, \"Austria\")\n",
    "if success:\n",
    "    print(\"has been selected successfully!\")\n",
    "else:\n",
    "    print(\"Failed to select!\")\n"
   ]
  },
  {
   "cell_type": "code",
   "execution_count": null,
   "metadata": {},
   "outputs": [],
   "source": [
    "test= ['Afghanistan',\n",
    " 'Albania',\n",
    " 'Algeria',\n",
    " 'Andorra',\n",
    " 'Angola',\n",
    " 'Antigua and Barbuda',\n",
    " 'Argentina',\n",
    " 'Armenia',\n",
    " 'Bahrain']\n"
   ]
  },
  {
   "cell_type": "code",
   "execution_count": null,
   "metadata": {},
   "outputs": [],
   "source": [
    "import time\n",
    "count = 0\n",
    "\n",
    "for country in test:\n",
    "    print(country)\n",
    "    success = select_country_from_dropdown(driver, country)\n",
    "    if success:\n",
    "        print(\"country been selected successfully!\")\n",
    "    else:\n",
    "        print(\"Failed to select the country!\")\n",
    "    count += 1\n",
    "        # Brief sleep\n",
    "    time.sleep(5)\n",
    "    print(count)\n",
    "    \n",
    "\n",
    "# success = select_country_from_dropdown(driver, \"Iceland\")\n",
    "# if success:\n",
    "#     print(\"country been selected successfully!\")\n",
    "# else:\n",
    "#     print(\"Failed to select the country!\")\n"
   ]
  }
 ],
 "metadata": {
  "kernelspec": {
   "display_name": "env_interview",
   "language": "python",
   "name": "python3"
  },
  "language_info": {
   "codemirror_mode": {
    "name": "ipython",
    "version": 3
   },
   "file_extension": ".py",
   "mimetype": "text/x-python",
   "name": "python",
   "nbconvert_exporter": "python",
   "pygments_lexer": "ipython3",
   "version": "3.9.6"
  },
  "orig_nbformat": 4
 },
 "nbformat": 4,
 "nbformat_minor": 2
}
