{
 "cells": [
  {
   "cell_type": "markdown",
   "metadata": {},
   "source": [
    "Let's read files in the main folder"
   ]
  },
  {
   "cell_type": "code",
   "execution_count": 47,
   "metadata": {},
   "outputs": [],
   "source": [
    "import pandas as pd"
   ]
  },
  {
   "cell_type": "code",
   "execution_count": 48,
   "metadata": {},
   "outputs": [
    {
     "data": {
      "text/html": [
       "<div>\n",
       "<style scoped>\n",
       "    .dataframe tbody tr th:only-of-type {\n",
       "        vertical-align: middle;\n",
       "    }\n",
       "\n",
       "    .dataframe tbody tr th {\n",
       "        vertical-align: top;\n",
       "    }\n",
       "\n",
       "    .dataframe thead th {\n",
       "        text-align: right;\n",
       "    }\n",
       "</style>\n",
       "<table border=\"1\" class=\"dataframe\">\n",
       "  <thead>\n",
       "    <tr style=\"text-align: right;\">\n",
       "      <th></th>\n",
       "      <th>Unnamed: 0</th>\n",
       "      <th>Author(s)</th>\n",
       "      <th>Title</th>\n",
       "      <th>Publication Date</th>\n",
       "      <th>Source</th>\n",
       "      <th>Page Numbers</th>\n",
       "      <th>Link</th>\n",
       "      <th>Category</th>\n",
       "      <th>Abstract</th>\n",
       "      <th>Countries</th>\n",
       "      <th>...</th>\n",
       "      <th>heat  wave</th>\n",
       "      <th>heat  action  plan</th>\n",
       "      <th>heat  health</th>\n",
       "      <th>heat early warning system</th>\n",
       "      <th>heat-health action plan</th>\n",
       "      <th>heat-health warning  systems</th>\n",
       "      <th>extreme heat management</th>\n",
       "      <th>heat wave management</th>\n",
       "      <th>public health heat wave alert</th>\n",
       "      <th>Predicted_Labels</th>\n",
       "    </tr>\n",
       "  </thead>\n",
       "  <tbody>\n",
       "    <tr>\n",
       "      <th>0</th>\n",
       "      <td>600</td>\n",
       "      <td>NaN</td>\n",
       "      <td>NaN</td>\n",
       "      <td>NaN</td>\n",
       "      <td>NaN</td>\n",
       "      <td>NaN</td>\n",
       "      <td>https://toolkit.climate.gov/case-studies/devel...</td>\n",
       "      <td>Government</td>\n",
       "      <td>NaN</td>\n",
       "      <td>American Samoa</td>\n",
       "      <td>...</td>\n",
       "      <td>0.0</td>\n",
       "      <td>0.0</td>\n",
       "      <td>0.0</td>\n",
       "      <td>0.0</td>\n",
       "      <td>0.0</td>\n",
       "      <td>0.0</td>\n",
       "      <td>0.0</td>\n",
       "      <td>0.0</td>\n",
       "      <td>0.0</td>\n",
       "      <td>0</td>\n",
       "    </tr>\n",
       "    <tr>\n",
       "      <th>1</th>\n",
       "      <td>596</td>\n",
       "      <td>NaN</td>\n",
       "      <td>NaN</td>\n",
       "      <td>NaN</td>\n",
       "      <td>NaN</td>\n",
       "      <td>NaN</td>\n",
       "      <td>https://www.vox.com/22538401/texas-heat-wave-w...</td>\n",
       "      <td>Government</td>\n",
       "      <td>NaN</td>\n",
       "      <td>Antarctica</td>\n",
       "      <td>...</td>\n",
       "      <td>0.0</td>\n",
       "      <td>0.0</td>\n",
       "      <td>0.0</td>\n",
       "      <td>0.0</td>\n",
       "      <td>0.0</td>\n",
       "      <td>0.0</td>\n",
       "      <td>0.0</td>\n",
       "      <td>0.0</td>\n",
       "      <td>0.0</td>\n",
       "      <td>0</td>\n",
       "    </tr>\n",
       "    <tr>\n",
       "      <th>2</th>\n",
       "      <td>132</td>\n",
       "      <td>…, Ahmedabad Heat and Climate Study Group - In...</td>\n",
       "      <td>Development and implementation of South Asia's...</td>\n",
       "      <td>…, Ahmedabad Heat and Climate Study Group - In...</td>\n",
       "      <td>…, Ahmedabad Heat and Climate Study Group - In...</td>\n",
       "      <td>[HTML] mdpi.com</td>\n",
       "      <td>https://www.mdpi.com/1660-4601/11/4/3473</td>\n",
       "      <td>Academic Journal</td>\n",
       "      <td>… effort include a Heat Action Plan (HAP), and...</td>\n",
       "      <td>Bangladesh</td>\n",
       "      <td>...</td>\n",
       "      <td>0.0</td>\n",
       "      <td>0.0</td>\n",
       "      <td>0.0</td>\n",
       "      <td>1.0</td>\n",
       "      <td>1.0</td>\n",
       "      <td>0.0</td>\n",
       "      <td>0.0</td>\n",
       "      <td>0.0</td>\n",
       "      <td>0.0</td>\n",
       "      <td>1</td>\n",
       "    </tr>\n",
       "    <tr>\n",
       "      <th>3</th>\n",
       "      <td>261</td>\n",
       "      <td>K Knowlton, SP Kulkarni, GS Azhar… - Internati...</td>\n",
       "      <td>Development and implementation of South Asia's...</td>\n",
       "      <td>K Knowlton, SP Kulkarni, GS Azhar… - Internati...</td>\n",
       "      <td>K Knowlton, SP Kulkarni, GS Azhar… - Internati...</td>\n",
       "      <td>[HTML] mdpi.com</td>\n",
       "      <td>https://www.mdpi.com/1660-4601/11/4/3473</td>\n",
       "      <td>Academic Journal</td>\n",
       "      <td>… heat action plan for Ahmedabad. Its specific...</td>\n",
       "      <td>Bangladesh</td>\n",
       "      <td>...</td>\n",
       "      <td>0.0</td>\n",
       "      <td>0.0</td>\n",
       "      <td>0.0</td>\n",
       "      <td>1.0</td>\n",
       "      <td>1.0</td>\n",
       "      <td>0.0</td>\n",
       "      <td>0.0</td>\n",
       "      <td>0.0</td>\n",
       "      <td>0.0</td>\n",
       "      <td>1</td>\n",
       "    </tr>\n",
       "    <tr>\n",
       "      <th>4</th>\n",
       "      <td>202</td>\n",
       "      <td>A Casanueva, A Burgstall, S Kotlarski… - Inter...</td>\n",
       "      <td>Overview of existing heat-health warning syste...</td>\n",
       "      <td>A Casanueva, A Burgstall, S Kotlarski… - Inter...</td>\n",
       "      <td>A Casanueva, A Burgstall, S Kotlarski… - Inter...</td>\n",
       "      <td>[PDF] mdpi.com</td>\n",
       "      <td>https://www.mdpi.com/1660-4601/16/15/2657</td>\n",
       "      <td>Academic Journal</td>\n",
       "      <td>… , describes the heat early warning and heat ...</td>\n",
       "      <td>Belarus</td>\n",
       "      <td>...</td>\n",
       "      <td>0.0</td>\n",
       "      <td>0.0</td>\n",
       "      <td>0.0</td>\n",
       "      <td>0.0</td>\n",
       "      <td>1.0</td>\n",
       "      <td>0.0</td>\n",
       "      <td>0.0</td>\n",
       "      <td>0.0</td>\n",
       "      <td>0.0</td>\n",
       "      <td>1</td>\n",
       "    </tr>\n",
       "  </tbody>\n",
       "</table>\n",
       "<p>5 rows × 22 columns</p>\n",
       "</div>"
      ],
      "text/plain": [
       "   Unnamed: 0                                          Author(s)  \\\n",
       "0         600                                                NaN   \n",
       "1         596                                                NaN   \n",
       "2         132  …, Ahmedabad Heat and Climate Study Group - In...   \n",
       "3         261  K Knowlton, SP Kulkarni, GS Azhar… - Internati...   \n",
       "4         202  A Casanueva, A Burgstall, S Kotlarski… - Inter...   \n",
       "\n",
       "                                               Title  \\\n",
       "0                                                NaN   \n",
       "1                                                NaN   \n",
       "2  Development and implementation of South Asia's...   \n",
       "3  Development and implementation of South Asia's...   \n",
       "4  Overview of existing heat-health warning syste...   \n",
       "\n",
       "                                    Publication Date  \\\n",
       "0                                                NaN   \n",
       "1                                                NaN   \n",
       "2  …, Ahmedabad Heat and Climate Study Group - In...   \n",
       "3  K Knowlton, SP Kulkarni, GS Azhar… - Internati...   \n",
       "4  A Casanueva, A Burgstall, S Kotlarski… - Inter...   \n",
       "\n",
       "                                              Source     Page Numbers  \\\n",
       "0                                                NaN              NaN   \n",
       "1                                                NaN              NaN   \n",
       "2  …, Ahmedabad Heat and Climate Study Group - In...  [HTML] mdpi.com   \n",
       "3  K Knowlton, SP Kulkarni, GS Azhar… - Internati...  [HTML] mdpi.com   \n",
       "4  A Casanueva, A Burgstall, S Kotlarski… - Inter...   [PDF] mdpi.com   \n",
       "\n",
       "                                                Link          Category  \\\n",
       "0  https://toolkit.climate.gov/case-studies/devel...        Government   \n",
       "1  https://www.vox.com/22538401/texas-heat-wave-w...        Government   \n",
       "2           https://www.mdpi.com/1660-4601/11/4/3473  Academic Journal   \n",
       "3           https://www.mdpi.com/1660-4601/11/4/3473  Academic Journal   \n",
       "4          https://www.mdpi.com/1660-4601/16/15/2657  Academic Journal   \n",
       "\n",
       "                                            Abstract       Countries  ...  \\\n",
       "0                                                NaN  American Samoa  ...   \n",
       "1                                                NaN      Antarctica  ...   \n",
       "2  … effort include a Heat Action Plan (HAP), and...      Bangladesh  ...   \n",
       "3  … heat action plan for Ahmedabad. Its specific...      Bangladesh  ...   \n",
       "4  … , describes the heat early warning and heat ...         Belarus  ...   \n",
       "\n",
       "   heat  wave  heat  action  plan  heat  health  heat early warning system  \\\n",
       "0         0.0                 0.0           0.0                        0.0   \n",
       "1         0.0                 0.0           0.0                        0.0   \n",
       "2         0.0                 0.0           0.0                        1.0   \n",
       "3         0.0                 0.0           0.0                        1.0   \n",
       "4         0.0                 0.0           0.0                        0.0   \n",
       "\n",
       "   heat-health action plan  heat-health warning  systems  \\\n",
       "0                      0.0                           0.0   \n",
       "1                      0.0                           0.0   \n",
       "2                      1.0                           0.0   \n",
       "3                      1.0                           0.0   \n",
       "4                      1.0                           0.0   \n",
       "\n",
       "   extreme heat management  heat wave management  \\\n",
       "0                      0.0                   0.0   \n",
       "1                      0.0                   0.0   \n",
       "2                      0.0                   0.0   \n",
       "3                      0.0                   0.0   \n",
       "4                      0.0                   0.0   \n",
       "\n",
       "   public health heat wave alert  Predicted_Labels  \n",
       "0                            0.0                 0  \n",
       "1                            0.0                 0  \n",
       "2                            0.0                 1  \n",
       "3                            0.0                 1  \n",
       "4                            0.0                 1  \n",
       "\n",
       "[5 rows x 22 columns]"
      ]
     },
     "execution_count": 48,
     "metadata": {},
     "output_type": "execute_result"
    }
   ],
   "source": [
    "data = pd.read_csv('../../data/predictions/sorted_df_with_countries_unknown.csv')\n",
    "data.head()"
   ]
  },
  {
   "cell_type": "markdown",
   "metadata": {},
   "source": [
    "In order to make two dataset simillar we need the columns below \n",
    "\n",
    "country            123\n",
    "\n",
    "title                1\n",
    "\n",
    "authors              1\n",
    "\n",
    "abstract             1\n",
    "\n",
    "link                 1\n",
    "\n",
    "predicted_label      1\n",
    "\n",
    "---------- in Felista's final folder ----\n",
    "\n",
    "Countries\n",
    "Title\n",
    "Author(s)\t\n",
    "Abstract\n",
    "Link\n",
    "Predicted_Labels"
   ]
  },
  {
   "cell_type": "code",
   "execution_count": 49,
   "metadata": {},
   "outputs": [
    {
     "data": {
      "text/html": [
       "<div>\n",
       "<style scoped>\n",
       "    .dataframe tbody tr th:only-of-type {\n",
       "        vertical-align: middle;\n",
       "    }\n",
       "\n",
       "    .dataframe tbody tr th {\n",
       "        vertical-align: top;\n",
       "    }\n",
       "\n",
       "    .dataframe thead th {\n",
       "        text-align: right;\n",
       "    }\n",
       "</style>\n",
       "<table border=\"1\" class=\"dataframe\">\n",
       "  <thead>\n",
       "    <tr style=\"text-align: right;\">\n",
       "      <th></th>\n",
       "      <th>Countries</th>\n",
       "      <th>Title</th>\n",
       "      <th>Author(s)</th>\n",
       "      <th>Abstract</th>\n",
       "      <th>Link</th>\n",
       "      <th>Predicted_Labels</th>\n",
       "    </tr>\n",
       "  </thead>\n",
       "  <tbody>\n",
       "    <tr>\n",
       "      <th>0</th>\n",
       "      <td>American Samoa</td>\n",
       "      <td>NaN</td>\n",
       "      <td>NaN</td>\n",
       "      <td>NaN</td>\n",
       "      <td>https://toolkit.climate.gov/case-studies/devel...</td>\n",
       "      <td>0</td>\n",
       "    </tr>\n",
       "    <tr>\n",
       "      <th>1</th>\n",
       "      <td>Antarctica</td>\n",
       "      <td>NaN</td>\n",
       "      <td>NaN</td>\n",
       "      <td>NaN</td>\n",
       "      <td>https://www.vox.com/22538401/texas-heat-wave-w...</td>\n",
       "      <td>0</td>\n",
       "    </tr>\n",
       "    <tr>\n",
       "      <th>2</th>\n",
       "      <td>Bangladesh</td>\n",
       "      <td>Development and implementation of South Asia's...</td>\n",
       "      <td>…, Ahmedabad Heat and Climate Study Group - In...</td>\n",
       "      <td>… effort include a Heat Action Plan (HAP), and...</td>\n",
       "      <td>https://www.mdpi.com/1660-4601/11/4/3473</td>\n",
       "      <td>1</td>\n",
       "    </tr>\n",
       "    <tr>\n",
       "      <th>3</th>\n",
       "      <td>Bangladesh</td>\n",
       "      <td>Development and implementation of South Asia's...</td>\n",
       "      <td>K Knowlton, SP Kulkarni, GS Azhar… - Internati...</td>\n",
       "      <td>… heat action plan for Ahmedabad. Its specific...</td>\n",
       "      <td>https://www.mdpi.com/1660-4601/11/4/3473</td>\n",
       "      <td>1</td>\n",
       "    </tr>\n",
       "    <tr>\n",
       "      <th>4</th>\n",
       "      <td>Belarus</td>\n",
       "      <td>Overview of existing heat-health warning syste...</td>\n",
       "      <td>A Casanueva, A Burgstall, S Kotlarski… - Inter...</td>\n",
       "      <td>… , describes the heat early warning and heat ...</td>\n",
       "      <td>https://www.mdpi.com/1660-4601/16/15/2657</td>\n",
       "      <td>1</td>\n",
       "    </tr>\n",
       "  </tbody>\n",
       "</table>\n",
       "</div>"
      ],
      "text/plain": [
       "        Countries                                              Title  \\\n",
       "0  American Samoa                                                NaN   \n",
       "1      Antarctica                                                NaN   \n",
       "2      Bangladesh  Development and implementation of South Asia's...   \n",
       "3      Bangladesh  Development and implementation of South Asia's...   \n",
       "4         Belarus  Overview of existing heat-health warning syste...   \n",
       "\n",
       "                                           Author(s)  \\\n",
       "0                                                NaN   \n",
       "1                                                NaN   \n",
       "2  …, Ahmedabad Heat and Climate Study Group - In...   \n",
       "3  K Knowlton, SP Kulkarni, GS Azhar… - Internati...   \n",
       "4  A Casanueva, A Burgstall, S Kotlarski… - Inter...   \n",
       "\n",
       "                                            Abstract  \\\n",
       "0                                                NaN   \n",
       "1                                                NaN   \n",
       "2  … effort include a Heat Action Plan (HAP), and...   \n",
       "3  … heat action plan for Ahmedabad. Its specific...   \n",
       "4  … , describes the heat early warning and heat ...   \n",
       "\n",
       "                                                Link  Predicted_Labels  \n",
       "0  https://toolkit.climate.gov/case-studies/devel...                 0  \n",
       "1  https://www.vox.com/22538401/texas-heat-wave-w...                 0  \n",
       "2           https://www.mdpi.com/1660-4601/11/4/3473                 1  \n",
       "3           https://www.mdpi.com/1660-4601/11/4/3473                 1  \n",
       "4          https://www.mdpi.com/1660-4601/16/15/2657                 1  "
      ]
     },
     "execution_count": 49,
     "metadata": {},
     "output_type": "execute_result"
    }
   ],
   "source": [
    "df_extracted = data.loc[:, ['Countries', 'Title', 'Author(s)','Abstract','Link', 'Predicted_Labels' ]]\n",
    "\n",
    "df_extracted.head()"
   ]
  },
  {
   "cell_type": "markdown",
   "metadata": {},
   "source": [
    "Now lets match the column names"
   ]
  },
  {
   "cell_type": "code",
   "execution_count": 50,
   "metadata": {},
   "outputs": [],
   "source": [
    "df_extracted.rename(columns={\n",
    "    'Countries': 'country',\n",
    "    'Title': 'title',\n",
    "    'Author(s)': 'authors',\n",
    "    'Abstract': 'abstract',\n",
    "    'Link': 'link',  \n",
    "    'Predicted_Labels': 'predicted_label'\n",
    "}, inplace=True)"
   ]
  },
  {
   "cell_type": "code",
   "execution_count": 51,
   "metadata": {},
   "outputs": [
    {
     "data": {
      "text/html": [
       "<div>\n",
       "<style scoped>\n",
       "    .dataframe tbody tr th:only-of-type {\n",
       "        vertical-align: middle;\n",
       "    }\n",
       "\n",
       "    .dataframe tbody tr th {\n",
       "        vertical-align: top;\n",
       "    }\n",
       "\n",
       "    .dataframe thead th {\n",
       "        text-align: right;\n",
       "    }\n",
       "</style>\n",
       "<table border=\"1\" class=\"dataframe\">\n",
       "  <thead>\n",
       "    <tr style=\"text-align: right;\">\n",
       "      <th></th>\n",
       "      <th>country</th>\n",
       "      <th>title</th>\n",
       "      <th>authors</th>\n",
       "      <th>abstract</th>\n",
       "      <th>link</th>\n",
       "      <th>predicted_label</th>\n",
       "    </tr>\n",
       "  </thead>\n",
       "  <tbody>\n",
       "    <tr>\n",
       "      <th>0</th>\n",
       "      <td>Papua New Guinea</td>\n",
       "      <td>Not found</td>\n",
       "      <td>Not found</td>\n",
       "      <td>Not found</td>\n",
       "      <td>Not found</td>\n",
       "      <td>No prediction</td>\n",
       "    </tr>\n",
       "    <tr>\n",
       "      <th>1</th>\n",
       "      <td>Singapore</td>\n",
       "      <td>Global burden of chronic respiratory diseases ...</td>\n",
       "      <td>NaN</td>\n",
       "      <td>Updated data on chronic respiratory diseases (...</td>\n",
       "      <td>https://pubmed.ncbi.nlm.nih.gov/37229504/</td>\n",
       "      <td>0</td>\n",
       "    </tr>\n",
       "    <tr>\n",
       "      <th>2</th>\n",
       "      <td>Singapore</td>\n",
       "      <td>Characteristics of Prehospital Heat Illness Ca...</td>\n",
       "      <td>Gayathri Devi Nadarajan, Gv Ramana Rao, Keshav...</td>\n",
       "      <td>Global warming and more intense heat wave peri...</td>\n",
       "      <td>https://pubmed.ncbi.nlm.nih.gov/34238399/</td>\n",
       "      <td>0</td>\n",
       "    </tr>\n",
       "    <tr>\n",
       "      <th>3</th>\n",
       "      <td>Sao Tome and Principe</td>\n",
       "      <td>Not found</td>\n",
       "      <td>Not found</td>\n",
       "      <td>Not found</td>\n",
       "      <td>Not found</td>\n",
       "      <td>No prediction</td>\n",
       "    </tr>\n",
       "    <tr>\n",
       "      <th>4</th>\n",
       "      <td>Czechia</td>\n",
       "      <td>Not found</td>\n",
       "      <td>Not found</td>\n",
       "      <td>Not found</td>\n",
       "      <td>Not found</td>\n",
       "      <td>No prediction</td>\n",
       "    </tr>\n",
       "  </tbody>\n",
       "</table>\n",
       "</div>"
      ],
      "text/plain": [
       "                 country                                              title  \\\n",
       "0       Papua New Guinea                                          Not found   \n",
       "1              Singapore  Global burden of chronic respiratory diseases ...   \n",
       "2              Singapore  Characteristics of Prehospital Heat Illness Ca...   \n",
       "3  Sao Tome and Principe                                          Not found   \n",
       "4                Czechia                                          Not found   \n",
       "\n",
       "                                             authors  \\\n",
       "0                                          Not found   \n",
       "1                                                NaN   \n",
       "2  Gayathri Devi Nadarajan, Gv Ramana Rao, Keshav...   \n",
       "3                                          Not found   \n",
       "4                                          Not found   \n",
       "\n",
       "                                            abstract  \\\n",
       "0                                          Not found   \n",
       "1  Updated data on chronic respiratory diseases (...   \n",
       "2  Global warming and more intense heat wave peri...   \n",
       "3                                          Not found   \n",
       "4                                          Not found   \n",
       "\n",
       "                                        link predicted_label  \n",
       "0                                  Not found   No prediction  \n",
       "1  https://pubmed.ncbi.nlm.nih.gov/37229504/               0  \n",
       "2  https://pubmed.ncbi.nlm.nih.gov/34238399/               0  \n",
       "3                                  Not found   No prediction  \n",
       "4                                  Not found   No prediction  "
      ]
     },
     "execution_count": 51,
     "metadata": {},
     "output_type": "execute_result"
    }
   ],
   "source": [
    "df_pubmed = pd.read_csv('../../data/predictions/pubmed_predicted.csv')\n",
    "df_pubmed.head()"
   ]
  },
  {
   "cell_type": "code",
   "execution_count": 52,
   "metadata": {},
   "outputs": [],
   "source": [
    "# Adjustment 1\n",
    "df_pubmed.loc[df_pubmed['country'] == 'Venezuela, Bolivarian Republic', 'country'] = 'Venezuela (Bolivarian Republic of)'\n",
    "\n",
    "# Adjustment 2\n",
    "df_pubmed.loc[df_pubmed['country'] == 'Viet Nam', 'country'] = 'Vietnam'\n",
    "\n",
    "# Adjustment 4\n",
    "df_pubmed.loc[df_pubmed['country'] == 'Turkiye', 'country'] = 'Turkey'\n",
    "\n",
    "# Adjustment 5\n",
    "df_pubmed.loc[df_pubmed['country'] == 'Libya (State of)', 'country'] = 'Libya'\n",
    "\n",
    "# # Adjustment 6\n",
    "# df_pubmed.loc[df_pubmed['country'] == \"Lao People's Democratic Republic\", 'country'] = \"Lao People's Democratic Republic\".strip()\n",
    "\n",
    "# Adjustment 7: Removing special characters or extra spaces\n",
    "df_pubmed.loc[df_pubmed['country'] == 'Guinea-Bissau', 'country'] = 'Guinea Bissau'\n",
    "\n",
    "# Adjustment 8\n",
    "df_pubmed.loc[df_pubmed['country'] == 'Gambia (The)', 'country'] = 'Gambia'\n",
    "\n",
    "# Adjustment 9\n",
    "df_pubmed.loc[df_pubmed['country'] == 'Czechia', 'country'] = 'Czech Republic'\n"
   ]
  },
  {
   "cell_type": "code",
   "execution_count": 53,
   "metadata": {},
   "outputs": [],
   "source": [
    "# List of values to drop\n",
    "values_to_drop = [\n",
    "    \"British Caribbean Territories - Anguilla\",\n",
    "    \"British Caribbean Territories - British Virgin Islands\",\n",
    "    \"British Caribbean Territories - Cayman Islands\",\n",
    "    \"British Caribbean Territories - Montserrat\",\n",
    "    \"British Caribbean Territories - Turks and Caicos Islands\"\n",
    "]\n",
    "\n",
    "# Filter the DataFrame to keep only rows where the 'Country' column doesn't have any of the values in the list\n",
    "df_pubmed = df_pubmed[~df_pubmed['country'].isin(values_to_drop)]"
   ]
  },
  {
   "cell_type": "code",
   "execution_count": 54,
   "metadata": {},
   "outputs": [],
   "source": [
    "# Define a mapping of names to be replaced\n",
    "name_mapping = {\n",
    "    'Iran': 'Iran (Islamic Republic of)',\n",
    "    'Russia': 'Russian Federation',\n",
    "    'American Samoa': 'Samoa',\n",
    "    'Laos': \"Lao People's Democratic Republic\",\n",
    "    'South Korea': 'Republic of Korea',\n",
    "    'Tanzania': 'United Republic of Tanzania',\n",
    "    'Turkey': 'Türkiye',\n",
    "    'Bermuda': 'United Kingdom of Great Britain and Northern Ireland',\n",
    "   'United Kingdom': 'United Kingdom of Great Britain and Northern Ireland',\n",
    "    'Hong Kong': 'Hong Kong, China',\n",
    "    'Bolivia': 'Bolivia (Plurinational State of)',\n",
    "    'Tanzania': 'United Republic of Tanzania',\n",
    "    'Greenland': 'Denmark',\n",
    "    'Puerto Rico': 'United States of America',\n",
    "}\n",
    "\n",
    "# Replace names in df_extracted\n",
    "df_extracted['country'] = df_extracted['country'].replace(name_mapping)\n",
    "\n"
   ]
  },
  {
   "cell_type": "code",
   "execution_count": 55,
   "metadata": {},
   "outputs": [],
   "source": [
    "# List of values to drop\n",
    "values_to_drop = [\n",
    "    'Antarctica',\n",
    "    'Taiwan'\n",
    "    \n",
    "]\n",
    "\n",
    "# Filter the DataFrame to keep only rows where the 'Country' column doesn't have any of the values in the list\n",
    "df_extracted = df_extracted[~df_extracted['country'].isin(values_to_drop)]"
   ]
  },
  {
   "cell_type": "code",
   "execution_count": 56,
   "metadata": {},
   "outputs": [
    {
     "name": "stdout",
     "output_type": "stream",
     "text": [
      "28          Papua New Guinea\n",
      "29                 Singapore\n",
      "30     Sao Tome and Principe\n",
      "31            Czech Republic\n",
      "32                  Djibouti\n",
      "               ...          \n",
      "188                  Estonia\n",
      "189                 Bulgaria\n",
      "190               Kyrgyzstan\n",
      "191                    Libya\n",
      "192                  Bahrain\n",
      "Name: country, Length: 165, dtype: object\n"
     ]
    }
   ],
   "source": [
    "# Extract unique countries from both DataFrames\n",
    "unique_countries_extracted = pd.DataFrame(df_extracted['country'].unique(), columns=['country'])\n",
    "unique_countries_pubmed = pd.DataFrame(df_pubmed['country'].unique(), columns=['country'])\n",
    "\n",
    "# Merge based on unique country values\n",
    "merged = unique_countries_extracted.merge(unique_countries_pubmed, on='country', how='outer', indicator=True)\n",
    "\n",
    "# Filter rows where data is only in unique_countries_extracted or only in unique_countries_pubmed\n",
    "differences = merged[merged['_merge'] != 'both']\n",
    "\n",
    "print(differences['country'])\n"
   ]
  },
  {
   "cell_type": "code",
   "execution_count": 57,
   "metadata": {},
   "outputs": [
    {
     "data": {
      "text/plain": [
       "28"
      ]
     },
     "execution_count": 57,
     "metadata": {},
     "output_type": "execute_result"
    }
   ],
   "source": [
    "len(df_extracted['country'].unique())"
   ]
  },
  {
   "cell_type": "markdown",
   "metadata": {},
   "source": [
    "\"Puerto Rico\" is a territory of the United States located in the Caribbean. It's an unincorporated U.S. territory, which means that it is part the United \n",
    "States\n",
    "\n",
    "Antarctica is not a country \n",
    "\n",
    "Greenland is an autonomous territory within the Kingdom of Denmark. "
   ]
  },
  {
   "cell_type": "code",
   "execution_count": 58,
   "metadata": {},
   "outputs": [
    {
     "data": {
      "text/plain": [
       "array(['Samoa', 'Bangladesh', 'Belarus',\n",
       "       'United Kingdom of Great Britain and Northern Ireland', 'Cuba',\n",
       "       'Georgia', 'Denmark', 'Hong Kong, China', 'Iceland', 'Indonesia',\n",
       "       'Iran (Islamic Republic of)', 'Israel', 'Jordan',\n",
       "       \"Lao People's Democratic Republic\", 'Lithuania', 'Luxembourg',\n",
       "       'Nepal', 'New Zealand', 'Oman', 'Pakistan', 'Panama',\n",
       "       'Philippines', 'Portugal', 'United States of America',\n",
       "       'Russian Federation', 'Republic of Korea',\n",
       "       'United Republic of Tanzania', 'Türkiye'], dtype=object)"
      ]
     },
     "execution_count": 58,
     "metadata": {},
     "output_type": "execute_result"
    }
   ],
   "source": [
    "df_extracted['country'].unique()"
   ]
  },
  {
   "cell_type": "code",
   "execution_count": 59,
   "metadata": {},
   "outputs": [
    {
     "data": {
      "text/plain": [
       "165"
      ]
     },
     "execution_count": 59,
     "metadata": {},
     "output_type": "execute_result"
    }
   ],
   "source": [
    "len(differences['country'])"
   ]
  },
  {
   "cell_type": "code",
   "execution_count": 60,
   "metadata": {},
   "outputs": [],
   "source": [
    "# differences.to_csv('../../data/intermediate/countries_not_in_pubmed.csv', index=False)"
   ]
  },
  {
   "cell_type": "code",
   "execution_count": 61,
   "metadata": {},
   "outputs": [
    {
     "data": {
      "text/plain": [
       "193"
      ]
     },
     "execution_count": 61,
     "metadata": {},
     "output_type": "execute_result"
    }
   ],
   "source": [
    "len(df_pubmed['country'].unique())"
   ]
  },
  {
   "cell_type": "code",
   "execution_count": 62,
   "metadata": {},
   "outputs": [],
   "source": [
    "df_pubmed[\"source\"] = \"pubmed\"\n",
    "df_extracted[\"source\"] = \"google_scholar\""
   ]
  },
  {
   "cell_type": "code",
   "execution_count": 63,
   "metadata": {},
   "outputs": [],
   "source": [
    "combined_df = pd.concat([df_pubmed, df_extracted], ignore_index=True)"
   ]
  },
  {
   "cell_type": "code",
   "execution_count": 64,
   "metadata": {},
   "outputs": [
    {
     "data": {
      "text/plain": [
       "526"
      ]
     },
     "execution_count": 64,
     "metadata": {},
     "output_type": "execute_result"
    }
   ],
   "source": [
    "len(combined_df)"
   ]
  },
  {
   "cell_type": "code",
   "execution_count": 65,
   "metadata": {},
   "outputs": [
    {
     "data": {
      "text/html": [
       "<div>\n",
       "<style scoped>\n",
       "    .dataframe tbody tr th:only-of-type {\n",
       "        vertical-align: middle;\n",
       "    }\n",
       "\n",
       "    .dataframe tbody tr th {\n",
       "        vertical-align: top;\n",
       "    }\n",
       "\n",
       "    .dataframe thead th {\n",
       "        text-align: right;\n",
       "    }\n",
       "</style>\n",
       "<table border=\"1\" class=\"dataframe\">\n",
       "  <thead>\n",
       "    <tr style=\"text-align: right;\">\n",
       "      <th></th>\n",
       "      <th>country</th>\n",
       "      <th>title</th>\n",
       "      <th>authors</th>\n",
       "      <th>abstract</th>\n",
       "      <th>link</th>\n",
       "      <th>predicted_label</th>\n",
       "      <th>source</th>\n",
       "      <th>id</th>\n",
       "    </tr>\n",
       "  </thead>\n",
       "  <tbody>\n",
       "    <tr>\n",
       "      <th>0</th>\n",
       "      <td>Papua New Guinea</td>\n",
       "      <td>Not found</td>\n",
       "      <td>Not found</td>\n",
       "      <td>Not found</td>\n",
       "      <td>Not found</td>\n",
       "      <td>No prediction</td>\n",
       "      <td>pubmed</td>\n",
       "      <td>1</td>\n",
       "    </tr>\n",
       "    <tr>\n",
       "      <th>1</th>\n",
       "      <td>Singapore</td>\n",
       "      <td>Global burden of chronic respiratory diseases ...</td>\n",
       "      <td>NaN</td>\n",
       "      <td>Updated data on chronic respiratory diseases (...</td>\n",
       "      <td>https://pubmed.ncbi.nlm.nih.gov/37229504/</td>\n",
       "      <td>0</td>\n",
       "      <td>pubmed</td>\n",
       "      <td>2</td>\n",
       "    </tr>\n",
       "    <tr>\n",
       "      <th>2</th>\n",
       "      <td>Singapore</td>\n",
       "      <td>Characteristics of Prehospital Heat Illness Ca...</td>\n",
       "      <td>Gayathri Devi Nadarajan, Gv Ramana Rao, Keshav...</td>\n",
       "      <td>Global warming and more intense heat wave peri...</td>\n",
       "      <td>https://pubmed.ncbi.nlm.nih.gov/34238399/</td>\n",
       "      <td>0</td>\n",
       "      <td>pubmed</td>\n",
       "      <td>3</td>\n",
       "    </tr>\n",
       "    <tr>\n",
       "      <th>3</th>\n",
       "      <td>Sao Tome and Principe</td>\n",
       "      <td>Not found</td>\n",
       "      <td>Not found</td>\n",
       "      <td>Not found</td>\n",
       "      <td>Not found</td>\n",
       "      <td>No prediction</td>\n",
       "      <td>pubmed</td>\n",
       "      <td>4</td>\n",
       "    </tr>\n",
       "    <tr>\n",
       "      <th>4</th>\n",
       "      <td>Czech Republic</td>\n",
       "      <td>Not found</td>\n",
       "      <td>Not found</td>\n",
       "      <td>Not found</td>\n",
       "      <td>Not found</td>\n",
       "      <td>No prediction</td>\n",
       "      <td>pubmed</td>\n",
       "      <td>5</td>\n",
       "    </tr>\n",
       "  </tbody>\n",
       "</table>\n",
       "</div>"
      ],
      "text/plain": [
       "                 country                                              title  \\\n",
       "0       Papua New Guinea                                          Not found   \n",
       "1              Singapore  Global burden of chronic respiratory diseases ...   \n",
       "2              Singapore  Characteristics of Prehospital Heat Illness Ca...   \n",
       "3  Sao Tome and Principe                                          Not found   \n",
       "4         Czech Republic                                          Not found   \n",
       "\n",
       "                                             authors  \\\n",
       "0                                          Not found   \n",
       "1                                                NaN   \n",
       "2  Gayathri Devi Nadarajan, Gv Ramana Rao, Keshav...   \n",
       "3                                          Not found   \n",
       "4                                          Not found   \n",
       "\n",
       "                                            abstract  \\\n",
       "0                                          Not found   \n",
       "1  Updated data on chronic respiratory diseases (...   \n",
       "2  Global warming and more intense heat wave peri...   \n",
       "3                                          Not found   \n",
       "4                                          Not found   \n",
       "\n",
       "                                        link predicted_label  source  id  \n",
       "0                                  Not found   No prediction  pubmed   1  \n",
       "1  https://pubmed.ncbi.nlm.nih.gov/37229504/               0  pubmed   2  \n",
       "2  https://pubmed.ncbi.nlm.nih.gov/34238399/               0  pubmed   3  \n",
       "3                                  Not found   No prediction  pubmed   4  \n",
       "4                                  Not found   No prediction  pubmed   5  "
      ]
     },
     "execution_count": 65,
     "metadata": {},
     "output_type": "execute_result"
    }
   ],
   "source": [
    "combined_df['id'] = range(1, len(combined_df) + 1)\n",
    "combined_df.head()"
   ]
  },
  {
   "cell_type": "code",
   "execution_count": 66,
   "metadata": {},
   "outputs": [],
   "source": [
    "combined_df['predicted_label'].replace('No prediction', 2, inplace=True)"
   ]
  },
  {
   "cell_type": "code",
   "execution_count": 67,
   "metadata": {},
   "outputs": [
    {
     "data": {
      "text/plain": [
       "Index(['country', 'title', 'authors', 'abstract', 'link', 'predicted_label',\n",
       "       'source', 'id'],\n",
       "      dtype='object')"
      ]
     },
     "execution_count": 67,
     "metadata": {},
     "output_type": "execute_result"
    }
   ],
   "source": [
    "combined_df.columns"
   ]
  },
  {
   "cell_type": "code",
   "execution_count": 68,
   "metadata": {},
   "outputs": [],
   "source": [
    "# def aggregate_data(group):\n",
    "#     if 1 in group['predicted_label'].values:\n",
    "#         overall = 1\n",
    "#     elif all(val == 2 for val in group['predicted_label'].values):\n",
    "#         overall = 2\n",
    "#     else:\n",
    "#         overall = 0\n",
    "\n",
    "#     return {\n",
    "#         'publication_count': len(group),\n",
    "#         'nested_data': group[['id', 'authors', 'title', 'predicted_label', 'abstract', 'link']].to_dict('records'),\n",
    "#         'overall_prediction': overall\n",
    "#     }\n",
    "\n",
    "# summary = combined_df.groupby('country').apply(aggregate_data).reset_index()\n",
    "# summary = pd.DataFrame(list(summary[0]), index=summary.index)\n",
    "# summary['country'] = combined_df['country'].unique()\n"
   ]
  },
  {
   "cell_type": "code",
   "execution_count": 69,
   "metadata": {},
   "outputs": [],
   "source": [
    "def count_publications(labels):\n",
    "    return sum(1 for label in labels if label != 2)\n",
    "\n",
    "def count_publications(labels):\n",
    "    return sum(1 for label in labels if label != 2)\n",
    "\n",
    "def aggregate_data(group):\n",
    "    if 1 in group['predicted_label'].values:\n",
    "        overall = 1\n",
    "    elif all(val == 2 for val in group['predicted_label'].values):\n",
    "        overall = 2\n",
    "    else:\n",
    "        overall = 0\n",
    "\n",
    "    publication_count = count_publications(group['predicted_label'])\n",
    "\n",
    "    return {\n",
    "        'country': group['country'].iloc[0],  # Get the country name from the first row of the group\n",
    "        'publication_count': publication_count,\n",
    "        'nested_data': group[['id', 'authors', 'title', 'predicted_label', 'abstract', 'link', 'source']].to_dict('records'),\n",
    "        'overall_prediction': overall\n",
    "    }\n",
    "\n",
    "summary = combined_df.groupby('country').apply(aggregate_data).reset_index(drop=True)\n",
    "summary = pd.DataFrame(list(summary))\n"
   ]
  },
  {
   "cell_type": "code",
   "execution_count": 70,
   "metadata": {},
   "outputs": [
    {
     "data": {
      "text/plain": [
       "Index(['country', 'publication_count', 'nested_data', 'overall_prediction'], dtype='object')"
      ]
     },
     "execution_count": 70,
     "metadata": {},
     "output_type": "execute_result"
    }
   ],
   "source": [
    "summary.columns"
   ]
  },
  {
   "cell_type": "code",
   "execution_count": 71,
   "metadata": {},
   "outputs": [],
   "source": [
    "# Assuming you want to reorder the columns of the 'summary' DataFrame\n",
    "ordered_columns = ['country', 'overall_prediction', 'publication_count', 'nested_data']\n",
    "summary = summary[ordered_columns]\n"
   ]
  },
  {
   "cell_type": "code",
   "execution_count": 72,
   "metadata": {},
   "outputs": [],
   "source": [
    "summary = summary.sort_values(by='country')"
   ]
  },
  {
   "cell_type": "markdown",
   "metadata": {},
   "source": [
    "how to read the csv nested data part "
   ]
  },
  {
   "cell_type": "code",
   "execution_count": 73,
   "metadata": {},
   "outputs": [],
   "source": [
    "# import pandas as pd\n",
    "# import ast\n",
    "\n",
    "# # Read the CSV\n",
    "# df = pd.read_csv('path_to_file.csv')\n",
    "\n",
    "# # Convert the string representation back to a list\n",
    "# df['nested_data'] = df['nested_data'].apply(ast.literal_eval)\n",
    "\n",
    "# # Display a sample row\n",
    "# sample_row = df.sample(1).iloc[0]\n",
    "# print(sample_row)\n",
    "\n",
    "# # Inspect the nested data\n",
    "# print(sample_row['nested_data'])"
   ]
  },
  {
   "cell_type": "code",
   "execution_count": 74,
   "metadata": {},
   "outputs": [],
   "source": [
    "summary[\"Heatwaves Warning Systems other sources\"] = summary['overall_prediction'].map({0: 'No', 1: 'Yes', 2: 'Unknown'})"
   ]
  },
  {
   "cell_type": "code",
   "execution_count": 75,
   "metadata": {},
   "outputs": [],
   "source": [
    "summary.rename(columns={'country':'Country Name'}, inplace=True)"
   ]
  },
  {
   "cell_type": "code",
   "execution_count": 76,
   "metadata": {},
   "outputs": [
    {
     "data": {
      "text/html": [
       "<div>\n",
       "<style scoped>\n",
       "    .dataframe tbody tr th:only-of-type {\n",
       "        vertical-align: middle;\n",
       "    }\n",
       "\n",
       "    .dataframe tbody tr th {\n",
       "        vertical-align: top;\n",
       "    }\n",
       "\n",
       "    .dataframe thead th {\n",
       "        text-align: right;\n",
       "    }\n",
       "</style>\n",
       "<table border=\"1\" class=\"dataframe\">\n",
       "  <thead>\n",
       "    <tr style=\"text-align: right;\">\n",
       "      <th></th>\n",
       "      <th>Country Name</th>\n",
       "      <th>Heatwaves Warning Systems (WMO data)</th>\n",
       "    </tr>\n",
       "  </thead>\n",
       "  <tbody>\n",
       "    <tr>\n",
       "      <th>0</th>\n",
       "      <td>Afghanistan</td>\n",
       "      <td>Unknown</td>\n",
       "    </tr>\n",
       "    <tr>\n",
       "      <th>1</th>\n",
       "      <td>Albania</td>\n",
       "      <td>Unknown</td>\n",
       "    </tr>\n",
       "    <tr>\n",
       "      <th>2</th>\n",
       "      <td>Algeria</td>\n",
       "      <td>Yes</td>\n",
       "    </tr>\n",
       "    <tr>\n",
       "      <th>3</th>\n",
       "      <td>Andorra</td>\n",
       "      <td>Unknown</td>\n",
       "    </tr>\n",
       "    <tr>\n",
       "      <th>4</th>\n",
       "      <td>Angola</td>\n",
       "      <td>No</td>\n",
       "    </tr>\n",
       "  </tbody>\n",
       "</table>\n",
       "</div>"
      ],
      "text/plain": [
       "  Country Name Heatwaves Warning Systems (WMO data)\n",
       "0  Afghanistan                              Unknown\n",
       "1      Albania                              Unknown\n",
       "2      Algeria                                  Yes\n",
       "3      Andorra                              Unknown\n",
       "4       Angola                                   No"
      ]
     },
     "execution_count": 76,
     "metadata": {},
     "output_type": "execute_result"
    }
   ],
   "source": [
    "df_wmo = pd.read_csv('../../data/intermediate/wmoWebDataClean.csv')\n",
    "df_wmo.head()"
   ]
  },
  {
   "cell_type": "code",
   "execution_count": 77,
   "metadata": {},
   "outputs": [
    {
     "data": {
      "text/html": [
       "<div>\n",
       "<style scoped>\n",
       "    .dataframe tbody tr th:only-of-type {\n",
       "        vertical-align: middle;\n",
       "    }\n",
       "\n",
       "    .dataframe tbody tr th {\n",
       "        vertical-align: top;\n",
       "    }\n",
       "\n",
       "    .dataframe thead th {\n",
       "        text-align: right;\n",
       "    }\n",
       "</style>\n",
       "<table border=\"1\" class=\"dataframe\">\n",
       "  <thead>\n",
       "    <tr style=\"text-align: right;\">\n",
       "      <th></th>\n",
       "      <th>Country Name</th>\n",
       "      <th>overall_prediction</th>\n",
       "      <th>publication_count</th>\n",
       "      <th>nested_data</th>\n",
       "      <th>Heatwaves Warning Systems other sources</th>\n",
       "    </tr>\n",
       "  </thead>\n",
       "  <tbody>\n",
       "    <tr>\n",
       "      <th>0</th>\n",
       "      <td>Afghanistan</td>\n",
       "      <td>2</td>\n",
       "      <td>0</td>\n",
       "      <td>[{'id': 64, 'authors': 'Not found', 'title': '...</td>\n",
       "      <td>Unknown</td>\n",
       "    </tr>\n",
       "    <tr>\n",
       "      <th>1</th>\n",
       "      <td>Albania</td>\n",
       "      <td>0</td>\n",
       "      <td>1</td>\n",
       "      <td>[{'id': 73, 'authors': nan, 'title': 'Global b...</td>\n",
       "      <td>No</td>\n",
       "    </tr>\n",
       "    <tr>\n",
       "      <th>2</th>\n",
       "      <td>Algeria</td>\n",
       "      <td>0</td>\n",
       "      <td>1</td>\n",
       "      <td>[{'id': 70, 'authors': nan, 'title': 'Global b...</td>\n",
       "      <td>No</td>\n",
       "    </tr>\n",
       "    <tr>\n",
       "      <th>3</th>\n",
       "      <td>Andorra</td>\n",
       "      <td>2</td>\n",
       "      <td>0</td>\n",
       "      <td>[{'id': 137, 'authors': 'Not found', 'title': ...</td>\n",
       "      <td>Unknown</td>\n",
       "    </tr>\n",
       "    <tr>\n",
       "      <th>4</th>\n",
       "      <td>Angola</td>\n",
       "      <td>2</td>\n",
       "      <td>0</td>\n",
       "      <td>[{'id': 343, 'authors': 'Not found', 'title': ...</td>\n",
       "      <td>Unknown</td>\n",
       "    </tr>\n",
       "  </tbody>\n",
       "</table>\n",
       "</div>"
      ],
      "text/plain": [
       "  Country Name  overall_prediction  publication_count  \\\n",
       "0  Afghanistan                   2                  0   \n",
       "1      Albania                   0                  1   \n",
       "2      Algeria                   0                  1   \n",
       "3      Andorra                   2                  0   \n",
       "4       Angola                   2                  0   \n",
       "\n",
       "                                         nested_data  \\\n",
       "0  [{'id': 64, 'authors': 'Not found', 'title': '...   \n",
       "1  [{'id': 73, 'authors': nan, 'title': 'Global b...   \n",
       "2  [{'id': 70, 'authors': nan, 'title': 'Global b...   \n",
       "3  [{'id': 137, 'authors': 'Not found', 'title': ...   \n",
       "4  [{'id': 343, 'authors': 'Not found', 'title': ...   \n",
       "\n",
       "  Heatwaves Warning Systems other sources  \n",
       "0                                 Unknown  \n",
       "1                                      No  \n",
       "2                                      No  \n",
       "3                                 Unknown  \n",
       "4                                 Unknown  "
      ]
     },
     "execution_count": 77,
     "metadata": {},
     "output_type": "execute_result"
    }
   ],
   "source": [
    "summary.head()"
   ]
  },
  {
   "cell_type": "code",
   "execution_count": 78,
   "metadata": {},
   "outputs": [],
   "source": [
    "# List of values to drop\n",
    "values_to_drop = [\n",
    "    \"British Caribbean Territories - Anguilla\",\n",
    "    \"British Caribbean Territories - British Virgin Islands\",\n",
    "    \"British Caribbean Territories - Cayman Islands\",\n",
    "    \"British Caribbean Territories - Montserrat\",\n",
    "    \"British Caribbean Territories - Turks and Caicos Islands\"\n",
    "]\n",
    "\n",
    "# Filter the DataFrame to keep only rows where the 'Country' column doesn't have any of the values in the list\n",
    "df_wmo = df_wmo[~df_wmo['Country Name'].isin(values_to_drop)]"
   ]
  },
  {
   "cell_type": "code",
   "execution_count": 79,
   "metadata": {},
   "outputs": [],
   "source": [
    "# df_extracted['country'] = df_extracted['country'].replace(name_mapping)"
   ]
  },
  {
   "cell_type": "code",
   "execution_count": 80,
   "metadata": {},
   "outputs": [],
   "source": [
    "summary['Country Name'] = summary['Country Name'].replace('Türkiye', 'Turkey')"
   ]
  },
  {
   "cell_type": "code",
   "execution_count": 81,
   "metadata": {},
   "outputs": [],
   "source": [
    "summary['Country Name'] = summary['Country Name'].replace('Venezuela, Bolivarian Republic of', 'Venezuela (Bolivarian Republic of)')"
   ]
  },
  {
   "cell_type": "code",
   "execution_count": 82,
   "metadata": {},
   "outputs": [],
   "source": [
    "# Extract unique countries from both DataFrames\n",
    "unique_countries_extracted_2 = pd.DataFrame(summary['Country Name'].unique(), columns=['Country Name'])\n",
    "unique_countries_wmo = pd.DataFrame(df_wmo['Country Name'].unique(), columns=['Country Name'])\n",
    "\n",
    "# Merge based on unique country values\n",
    "merged2 = unique_countries_extracted_2.merge(unique_countries_wmo, on='Country Name', how='outer', indicator=True)\n",
    "\n",
    "# Filter rows where data is only in unique_countries_extracted or only in unique_countries_pubmed\n",
    "differences2 = merged[merged2['_merge'] != 'both']\n",
    "# # \n",
    "# print(differences2['Country Name'])"
   ]
  },
  {
   "cell_type": "code",
   "execution_count": 83,
   "metadata": {},
   "outputs": [],
   "source": [
    "data_row = pd.read_csv('../../data/raw/WMOTemplate.csv')"
   ]
  },
  {
   "cell_type": "code",
   "execution_count": 84,
   "metadata": {},
   "outputs": [
    {
     "data": {
      "text/plain": [
       "193"
      ]
     },
     "execution_count": 84,
     "metadata": {},
     "output_type": "execute_result"
    }
   ],
   "source": [
    "len(data_row)"
   ]
  },
  {
   "cell_type": "code",
   "execution_count": 85,
   "metadata": {},
   "outputs": [
    {
     "data": {
      "text/plain": [
       "193"
      ]
     },
     "execution_count": 85,
     "metadata": {},
     "output_type": "execute_result"
    }
   ],
   "source": [
    "merged_df = df_wmo.merge(summary, on='Country Name', suffixes=('', '_drop'))\n",
    "# merged_df = merged_df.filter(regex='^(?!.*_drop)')\n",
    "len(merged_df)"
   ]
  },
  {
   "cell_type": "code",
   "execution_count": 86,
   "metadata": {},
   "outputs": [],
   "source": [
    "\n",
    "# merged_df.to_json('../../data/processed/heatwave_warning_system.json', orient='records', lines=True)\n"
   ]
  },
  {
   "cell_type": "code",
   "execution_count": 87,
   "metadata": {},
   "outputs": [],
   "source": [
    "# merged_df.to_csv('../../data/processed/heatwave_warning_system.csv', index=False)"
   ]
  },
  {
   "cell_type": "code",
   "execution_count": 88,
   "metadata": {},
   "outputs": [],
   "source": [
    "# test_df = pd.read_csv('../../data/processed/heatwave_warning_system.csv')\n",
    "# test_df.head()"
   ]
  },
  {
   "cell_type": "code",
   "execution_count": 89,
   "metadata": {},
   "outputs": [],
   "source": [
    "combined_df.to_csv('../../data/processed/prediction_database.csv', index=False)"
   ]
  }
 ],
 "metadata": {
  "kernelspec": {
   "display_name": ".env",
   "language": "python",
   "name": "python3"
  },
  "language_info": {
   "codemirror_mode": {
    "name": "ipython",
    "version": 3
   },
   "file_extension": ".py",
   "mimetype": "text/x-python",
   "name": "python",
   "nbconvert_exporter": "python",
   "pygments_lexer": "ipython3",
   "version": "3.9.6"
  },
  "orig_nbformat": 4
 },
 "nbformat": 4,
 "nbformat_minor": 2
}
