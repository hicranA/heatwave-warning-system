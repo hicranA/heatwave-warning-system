{
 "cells": [
  {
   "cell_type": "markdown",
   "metadata": {},
   "source": [
    "# Final data model evaluation "
   ]
  },
  {
   "cell_type": "code",
   "execution_count": 70,
   "metadata": {},
   "outputs": [],
   "source": [
    "import pandas as pd"
   ]
  },
  {
   "cell_type": "code",
   "execution_count": 71,
   "metadata": {},
   "outputs": [],
   "source": [
    "final_df = pd.read_csv('../../data/processed/heatwave_warning_system.csv')"
   ]
  },
  {
   "cell_type": "code",
   "execution_count": 72,
   "metadata": {},
   "outputs": [
    {
     "data": {
      "text/html": [
       "<div>\n",
       "<style scoped>\n",
       "    .dataframe tbody tr th:only-of-type {\n",
       "        vertical-align: middle;\n",
       "    }\n",
       "\n",
       "    .dataframe tbody tr th {\n",
       "        vertical-align: top;\n",
       "    }\n",
       "\n",
       "    .dataframe thead th {\n",
       "        text-align: right;\n",
       "    }\n",
       "</style>\n",
       "<table border=\"1\" class=\"dataframe\">\n",
       "  <thead>\n",
       "    <tr style=\"text-align: right;\">\n",
       "      <th></th>\n",
       "      <th>Country Name</th>\n",
       "      <th>Heatwaves Warning Systems (WMO data)</th>\n",
       "      <th>Heatwaves Warning Systems other sources</th>\n",
       "      <th>publication_count</th>\n",
       "      <th>nested_data</th>\n",
       "    </tr>\n",
       "  </thead>\n",
       "  <tbody>\n",
       "    <tr>\n",
       "      <th>0</th>\n",
       "      <td>Afghanistan</td>\n",
       "      <td>Unknown</td>\n",
       "      <td>Unknown</td>\n",
       "      <td>0</td>\n",
       "      <td>[{'id': 64, 'authors': 'Not found', 'title': '...</td>\n",
       "    </tr>\n",
       "    <tr>\n",
       "      <th>1</th>\n",
       "      <td>Albania</td>\n",
       "      <td>Unknown</td>\n",
       "      <td>No</td>\n",
       "      <td>1</td>\n",
       "      <td>[{'id': 73, 'authors': nan, 'title': 'Global b...</td>\n",
       "    </tr>\n",
       "    <tr>\n",
       "      <th>2</th>\n",
       "      <td>Algeria</td>\n",
       "      <td>Yes</td>\n",
       "      <td>No</td>\n",
       "      <td>1</td>\n",
       "      <td>[{'id': 70, 'authors': nan, 'title': 'Global b...</td>\n",
       "    </tr>\n",
       "    <tr>\n",
       "      <th>3</th>\n",
       "      <td>Andorra</td>\n",
       "      <td>Unknown</td>\n",
       "      <td>Unknown</td>\n",
       "      <td>0</td>\n",
       "      <td>[{'id': 137, 'authors': 'Not found', 'title': ...</td>\n",
       "    </tr>\n",
       "    <tr>\n",
       "      <th>4</th>\n",
       "      <td>Angola</td>\n",
       "      <td>No</td>\n",
       "      <td>Unknown</td>\n",
       "      <td>0</td>\n",
       "      <td>[{'id': 343, 'authors': 'Not found', 'title': ...</td>\n",
       "    </tr>\n",
       "  </tbody>\n",
       "</table>\n",
       "</div>"
      ],
      "text/plain": [
       "  Country Name Heatwaves Warning Systems (WMO data)  \\\n",
       "0  Afghanistan                              Unknown   \n",
       "1      Albania                              Unknown   \n",
       "2      Algeria                                  Yes   \n",
       "3      Andorra                              Unknown   \n",
       "4       Angola                                   No   \n",
       "\n",
       "  Heatwaves Warning Systems other sources  publication_count  \\\n",
       "0                                 Unknown                  0   \n",
       "1                                      No                  1   \n",
       "2                                      No                  1   \n",
       "3                                 Unknown                  0   \n",
       "4                                 Unknown                  0   \n",
       "\n",
       "                                         nested_data  \n",
       "0  [{'id': 64, 'authors': 'Not found', 'title': '...  \n",
       "1  [{'id': 73, 'authors': nan, 'title': 'Global b...  \n",
       "2  [{'id': 70, 'authors': nan, 'title': 'Global b...  \n",
       "3  [{'id': 137, 'authors': 'Not found', 'title': ...  \n",
       "4  [{'id': 343, 'authors': 'Not found', 'title': ...  "
      ]
     },
     "execution_count": 72,
     "metadata": {},
     "output_type": "execute_result"
    }
   ],
   "source": [
    "final_df.head()"
   ]
  },
  {
   "cell_type": "markdown",
   "metadata": {},
   "source": [
    "## "
   ]
  },
  {
   "cell_type": "code",
   "execution_count": 83,
   "metadata": {},
   "outputs": [
    {
     "data": {
      "text/plain": [
       "193"
      ]
     },
     "execution_count": 83,
     "metadata": {},
     "output_type": "execute_result"
    }
   ],
   "source": [
    "len(final_df)"
   ]
  },
  {
   "cell_type": "code",
   "execution_count": 73,
   "metadata": {},
   "outputs": [
    {
     "data": {
      "text/plain": [
       "18"
      ]
     },
     "execution_count": 73,
     "metadata": {},
     "output_type": "execute_result"
    }
   ],
   "source": [
    "len(final_df[(final_df['Heatwaves Warning Systems (WMO data)'].isin(['No', 'Unknown'])) & (final_df['Heatwaves Warning Systems other sources'] == 'Yes')])"
   ]
  },
  {
   "cell_type": "code",
   "execution_count": 74,
   "metadata": {},
   "outputs": [
    {
     "data": {
      "text/plain": [
       "3"
      ]
     },
     "execution_count": 74,
     "metadata": {},
     "output_type": "execute_result"
    }
   ],
   "source": [
    "len(final_df[(final_df['Heatwaves Warning Systems (WMO data)'] == 'No') & (final_df['Heatwaves Warning Systems other sources'] == 'Yes')])"
   ]
  },
  {
   "cell_type": "code",
   "execution_count": 75,
   "metadata": {},
   "outputs": [
    {
     "data": {
      "text/html": [
       "<div>\n",
       "<style scoped>\n",
       "    .dataframe tbody tr th:only-of-type {\n",
       "        vertical-align: middle;\n",
       "    }\n",
       "\n",
       "    .dataframe tbody tr th {\n",
       "        vertical-align: top;\n",
       "    }\n",
       "\n",
       "    .dataframe thead th {\n",
       "        text-align: right;\n",
       "    }\n",
       "</style>\n",
       "<table border=\"1\" class=\"dataframe\">\n",
       "  <thead>\n",
       "    <tr style=\"text-align: right;\">\n",
       "      <th></th>\n",
       "      <th>Country Name</th>\n",
       "      <th>Heatwaves Warning Systems (WMO data)</th>\n",
       "      <th>Heatwaves Warning Systems other sources</th>\n",
       "      <th>publication_count</th>\n",
       "      <th>nested_data</th>\n",
       "    </tr>\n",
       "  </thead>\n",
       "  <tbody>\n",
       "    <tr>\n",
       "      <th>122</th>\n",
       "      <td>Nepal</td>\n",
       "      <td>No</td>\n",
       "      <td>Yes</td>\n",
       "      <td>2</td>\n",
       "      <td>[{'id': 275, 'authors': nan, 'title': 'Global ...</td>\n",
       "    </tr>\n",
       "    <tr>\n",
       "      <th>134</th>\n",
       "      <td>Panama</td>\n",
       "      <td>No</td>\n",
       "      <td>Yes</td>\n",
       "      <td>1</td>\n",
       "      <td>[{'id': 39, 'authors': 'Not found', 'title': '...</td>\n",
       "    </tr>\n",
       "    <tr>\n",
       "      <th>138</th>\n",
       "      <td>Philippines</td>\n",
       "      <td>No</td>\n",
       "      <td>Yes</td>\n",
       "      <td>1</td>\n",
       "      <td>[{'id': 382, 'authors': 'Not found', 'title': ...</td>\n",
       "    </tr>\n",
       "  </tbody>\n",
       "</table>\n",
       "</div>"
      ],
      "text/plain": [
       "    Country Name Heatwaves Warning Systems (WMO data)  \\\n",
       "122        Nepal                                   No   \n",
       "134       Panama                                   No   \n",
       "138  Philippines                                   No   \n",
       "\n",
       "    Heatwaves Warning Systems other sources  publication_count  \\\n",
       "122                                     Yes                  2   \n",
       "134                                     Yes                  1   \n",
       "138                                     Yes                  1   \n",
       "\n",
       "                                           nested_data  \n",
       "122  [{'id': 275, 'authors': nan, 'title': 'Global ...  \n",
       "134  [{'id': 39, 'authors': 'Not found', 'title': '...  \n",
       "138  [{'id': 382, 'authors': 'Not found', 'title': ...  "
      ]
     },
     "execution_count": 75,
     "metadata": {},
     "output_type": "execute_result"
    }
   ],
   "source": [
    "final_df[(final_df['Heatwaves Warning Systems (WMO data)'] == 'No') & (final_df['Heatwaves Warning Systems other sources'] == 'Yes')]"
   ]
  },
  {
   "cell_type": "code",
   "execution_count": 76,
   "metadata": {},
   "outputs": [
    {
     "data": {
      "text/plain": [
       "15"
      ]
     },
     "execution_count": 76,
     "metadata": {},
     "output_type": "execute_result"
    }
   ],
   "source": [
    "len(final_df[(final_df['Heatwaves Warning Systems (WMO data)'] == 'Unknown') & (final_df['Heatwaves Warning Systems other sources'] == 'Yes')])"
   ]
  },
  {
   "cell_type": "code",
   "execution_count": 77,
   "metadata": {},
   "outputs": [
    {
     "data": {
      "text/html": [
       "<div>\n",
       "<style scoped>\n",
       "    .dataframe tbody tr th:only-of-type {\n",
       "        vertical-align: middle;\n",
       "    }\n",
       "\n",
       "    .dataframe tbody tr th {\n",
       "        vertical-align: top;\n",
       "    }\n",
       "\n",
       "    .dataframe thead th {\n",
       "        text-align: right;\n",
       "    }\n",
       "</style>\n",
       "<table border=\"1\" class=\"dataframe\">\n",
       "  <thead>\n",
       "    <tr style=\"text-align: right;\">\n",
       "      <th></th>\n",
       "      <th>Country Name</th>\n",
       "      <th>Heatwaves Warning Systems (WMO data)</th>\n",
       "      <th>Heatwaves Warning Systems other sources</th>\n",
       "      <th>publication_count</th>\n",
       "      <th>nested_data</th>\n",
       "    </tr>\n",
       "  </thead>\n",
       "  <tbody>\n",
       "    <tr>\n",
       "      <th>15</th>\n",
       "      <td>Belarus</td>\n",
       "      <td>Unknown</td>\n",
       "      <td>Yes</td>\n",
       "      <td>1</td>\n",
       "      <td>[{'id': 295, 'authors': 'Not found', 'title': ...</td>\n",
       "    </tr>\n",
       "    <tr>\n",
       "      <th>43</th>\n",
       "      <td>Cuba</td>\n",
       "      <td>Unknown</td>\n",
       "      <td>Yes</td>\n",
       "      <td>2</td>\n",
       "      <td>[{'id': 233, 'authors': 'Not found', 'title': ...</td>\n",
       "    </tr>\n",
       "    <tr>\n",
       "      <th>67</th>\n",
       "      <td>Georgia</td>\n",
       "      <td>Unknown</td>\n",
       "      <td>Yes</td>\n",
       "      <td>13</td>\n",
       "      <td>[{'id': 57, 'authors': 'Joshua G Smith, Christ...</td>\n",
       "    </tr>\n",
       "    <tr>\n",
       "      <th>79</th>\n",
       "      <td>Iceland</td>\n",
       "      <td>Unknown</td>\n",
       "      <td>Yes</td>\n",
       "      <td>1</td>\n",
       "      <td>[{'id': 236, 'authors': 'Not found', 'title': ...</td>\n",
       "    </tr>\n",
       "    <tr>\n",
       "      <th>81</th>\n",
       "      <td>Indonesia</td>\n",
       "      <td>Unknown</td>\n",
       "      <td>Yes</td>\n",
       "      <td>6</td>\n",
       "      <td>[{'id': 220, 'authors': nan, 'title': 'Global ...</td>\n",
       "    </tr>\n",
       "    <tr>\n",
       "      <th>82</th>\n",
       "      <td>Iran (Islamic Republic of)</td>\n",
       "      <td>Unknown</td>\n",
       "      <td>Yes</td>\n",
       "      <td>7</td>\n",
       "      <td>[{'id': 340, 'authors': 'Hamidreza Aghababaeia...</td>\n",
       "    </tr>\n",
       "    <tr>\n",
       "      <th>85</th>\n",
       "      <td>Israel</td>\n",
       "      <td>Unknown</td>\n",
       "      <td>Yes</td>\n",
       "      <td>6</td>\n",
       "      <td>[{'id': 232, 'authors': 'Amnon Cochavi, Madi A...</td>\n",
       "    </tr>\n",
       "    <tr>\n",
       "      <th>101</th>\n",
       "      <td>Lithuania</td>\n",
       "      <td>Unknown</td>\n",
       "      <td>Yes</td>\n",
       "      <td>1</td>\n",
       "      <td>[{'id': 230, 'authors': 'Not found', 'title': ...</td>\n",
       "    </tr>\n",
       "    <tr>\n",
       "      <th>102</th>\n",
       "      <td>Luxembourg</td>\n",
       "      <td>Unknown</td>\n",
       "      <td>Yes</td>\n",
       "      <td>5</td>\n",
       "      <td>[{'id': 155, 'authors': 'Not found', 'title': ...</td>\n",
       "    </tr>\n",
       "    <tr>\n",
       "      <th>125</th>\n",
       "      <td>New Zealand</td>\n",
       "      <td>Unknown</td>\n",
       "      <td>Yes</td>\n",
       "      <td>6</td>\n",
       "      <td>[{'id': 202, 'authors': nan, 'title': 'Global ...</td>\n",
       "    </tr>\n",
       "    <tr>\n",
       "      <th>132</th>\n",
       "      <td>Oman</td>\n",
       "      <td>Unknown</td>\n",
       "      <td>Yes</td>\n",
       "      <td>16</td>\n",
       "      <td>[{'id': 325, 'authors': nan, 'title': 'Global ...</td>\n",
       "    </tr>\n",
       "    <tr>\n",
       "      <th>133</th>\n",
       "      <td>Pakistan</td>\n",
       "      <td>Unknown</td>\n",
       "      <td>Yes</td>\n",
       "      <td>7</td>\n",
       "      <td>[{'id': 23, 'authors': nan, 'title': 'Global b...</td>\n",
       "    </tr>\n",
       "    <tr>\n",
       "      <th>140</th>\n",
       "      <td>Portugal</td>\n",
       "      <td>Unknown</td>\n",
       "      <td>Yes</td>\n",
       "      <td>16</td>\n",
       "      <td>[{'id': 260, 'authors': nan, 'title': 'Global ...</td>\n",
       "    </tr>\n",
       "    <tr>\n",
       "      <th>145</th>\n",
       "      <td>Russian Federation</td>\n",
       "      <td>Unknown</td>\n",
       "      <td>Yes</td>\n",
       "      <td>2</td>\n",
       "      <td>[{'id': 338, 'authors': 'Not found', 'title': ...</td>\n",
       "    </tr>\n",
       "    <tr>\n",
       "      <th>178</th>\n",
       "      <td>Turkey</td>\n",
       "      <td>Unknown</td>\n",
       "      <td>Yes</td>\n",
       "      <td>1</td>\n",
       "      <td>[{'id': 321, 'authors': 'Not found', 'title': ...</td>\n",
       "    </tr>\n",
       "  </tbody>\n",
       "</table>\n",
       "</div>"
      ],
      "text/plain": [
       "                   Country Name Heatwaves Warning Systems (WMO data)  \\\n",
       "15                      Belarus                              Unknown   \n",
       "43                         Cuba                              Unknown   \n",
       "67                      Georgia                              Unknown   \n",
       "79                      Iceland                              Unknown   \n",
       "81                    Indonesia                              Unknown   \n",
       "82   Iran (Islamic Republic of)                              Unknown   \n",
       "85                       Israel                              Unknown   \n",
       "101                   Lithuania                              Unknown   \n",
       "102                  Luxembourg                              Unknown   \n",
       "125                 New Zealand                              Unknown   \n",
       "132                        Oman                              Unknown   \n",
       "133                    Pakistan                              Unknown   \n",
       "140                    Portugal                              Unknown   \n",
       "145          Russian Federation                              Unknown   \n",
       "178                      Turkey                              Unknown   \n",
       "\n",
       "    Heatwaves Warning Systems other sources  publication_count  \\\n",
       "15                                      Yes                  1   \n",
       "43                                      Yes                  2   \n",
       "67                                      Yes                 13   \n",
       "79                                      Yes                  1   \n",
       "81                                      Yes                  6   \n",
       "82                                      Yes                  7   \n",
       "85                                      Yes                  6   \n",
       "101                                     Yes                  1   \n",
       "102                                     Yes                  5   \n",
       "125                                     Yes                  6   \n",
       "132                                     Yes                 16   \n",
       "133                                     Yes                  7   \n",
       "140                                     Yes                 16   \n",
       "145                                     Yes                  2   \n",
       "178                                     Yes                  1   \n",
       "\n",
       "                                           nested_data  \n",
       "15   [{'id': 295, 'authors': 'Not found', 'title': ...  \n",
       "43   [{'id': 233, 'authors': 'Not found', 'title': ...  \n",
       "67   [{'id': 57, 'authors': 'Joshua G Smith, Christ...  \n",
       "79   [{'id': 236, 'authors': 'Not found', 'title': ...  \n",
       "81   [{'id': 220, 'authors': nan, 'title': 'Global ...  \n",
       "82   [{'id': 340, 'authors': 'Hamidreza Aghababaeia...  \n",
       "85   [{'id': 232, 'authors': 'Amnon Cochavi, Madi A...  \n",
       "101  [{'id': 230, 'authors': 'Not found', 'title': ...  \n",
       "102  [{'id': 155, 'authors': 'Not found', 'title': ...  \n",
       "125  [{'id': 202, 'authors': nan, 'title': 'Global ...  \n",
       "132  [{'id': 325, 'authors': nan, 'title': 'Global ...  \n",
       "133  [{'id': 23, 'authors': nan, 'title': 'Global b...  \n",
       "140  [{'id': 260, 'authors': nan, 'title': 'Global ...  \n",
       "145  [{'id': 338, 'authors': 'Not found', 'title': ...  \n",
       "178  [{'id': 321, 'authors': 'Not found', 'title': ...  "
      ]
     },
     "execution_count": 77,
     "metadata": {},
     "output_type": "execute_result"
    }
   ],
   "source": [
    "final_df[(final_df['Heatwaves Warning Systems (WMO data)'] == 'Unknown') & (final_df['Heatwaves Warning Systems other sources'] == 'Yes')]"
   ]
  },
  {
   "cell_type": "markdown",
   "metadata": {},
   "source": [
    "### checking dublicates in the database "
   ]
  },
  {
   "cell_type": "code",
   "execution_count": 78,
   "metadata": {},
   "outputs": [
    {
     "data": {
      "text/html": [
       "<div>\n",
       "<style scoped>\n",
       "    .dataframe tbody tr th:only-of-type {\n",
       "        vertical-align: middle;\n",
       "    }\n",
       "\n",
       "    .dataframe tbody tr th {\n",
       "        vertical-align: top;\n",
       "    }\n",
       "\n",
       "    .dataframe thead th {\n",
       "        text-align: right;\n",
       "    }\n",
       "</style>\n",
       "<table border=\"1\" class=\"dataframe\">\n",
       "  <thead>\n",
       "    <tr style=\"text-align: right;\">\n",
       "      <th></th>\n",
       "      <th>country</th>\n",
       "      <th>title</th>\n",
       "      <th>authors</th>\n",
       "      <th>abstract</th>\n",
       "      <th>link</th>\n",
       "      <th>predicted_label</th>\n",
       "      <th>source</th>\n",
       "      <th>id</th>\n",
       "    </tr>\n",
       "  </thead>\n",
       "  <tbody>\n",
       "    <tr>\n",
       "      <th>0</th>\n",
       "      <td>Papua New Guinea</td>\n",
       "      <td>Not found</td>\n",
       "      <td>Not found</td>\n",
       "      <td>Not found</td>\n",
       "      <td>Not found</td>\n",
       "      <td>2</td>\n",
       "      <td>pubmed</td>\n",
       "      <td>1</td>\n",
       "    </tr>\n",
       "    <tr>\n",
       "      <th>1</th>\n",
       "      <td>Singapore</td>\n",
       "      <td>Global burden of chronic respiratory diseases ...</td>\n",
       "      <td>NaN</td>\n",
       "      <td>Updated data on chronic respiratory diseases (...</td>\n",
       "      <td>https://pubmed.ncbi.nlm.nih.gov/37229504/</td>\n",
       "      <td>0</td>\n",
       "      <td>pubmed</td>\n",
       "      <td>2</td>\n",
       "    </tr>\n",
       "    <tr>\n",
       "      <th>2</th>\n",
       "      <td>Singapore</td>\n",
       "      <td>Characteristics of Prehospital Heat Illness Ca...</td>\n",
       "      <td>Gayathri Devi Nadarajan, Gv Ramana Rao, Keshav...</td>\n",
       "      <td>Global warming and more intense heat wave peri...</td>\n",
       "      <td>https://pubmed.ncbi.nlm.nih.gov/34238399/</td>\n",
       "      <td>0</td>\n",
       "      <td>pubmed</td>\n",
       "      <td>3</td>\n",
       "    </tr>\n",
       "    <tr>\n",
       "      <th>3</th>\n",
       "      <td>Sao Tome and Principe</td>\n",
       "      <td>Not found</td>\n",
       "      <td>Not found</td>\n",
       "      <td>Not found</td>\n",
       "      <td>Not found</td>\n",
       "      <td>2</td>\n",
       "      <td>pubmed</td>\n",
       "      <td>4</td>\n",
       "    </tr>\n",
       "    <tr>\n",
       "      <th>4</th>\n",
       "      <td>Czech Republic</td>\n",
       "      <td>Not found</td>\n",
       "      <td>Not found</td>\n",
       "      <td>Not found</td>\n",
       "      <td>Not found</td>\n",
       "      <td>2</td>\n",
       "      <td>pubmed</td>\n",
       "      <td>5</td>\n",
       "    </tr>\n",
       "  </tbody>\n",
       "</table>\n",
       "</div>"
      ],
      "text/plain": [
       "                 country                                              title  \\\n",
       "0       Papua New Guinea                                          Not found   \n",
       "1              Singapore  Global burden of chronic respiratory diseases ...   \n",
       "2              Singapore  Characteristics of Prehospital Heat Illness Ca...   \n",
       "3  Sao Tome and Principe                                          Not found   \n",
       "4         Czech Republic                                          Not found   \n",
       "\n",
       "                                             authors  \\\n",
       "0                                          Not found   \n",
       "1                                                NaN   \n",
       "2  Gayathri Devi Nadarajan, Gv Ramana Rao, Keshav...   \n",
       "3                                          Not found   \n",
       "4                                          Not found   \n",
       "\n",
       "                                            abstract  \\\n",
       "0                                          Not found   \n",
       "1  Updated data on chronic respiratory diseases (...   \n",
       "2  Global warming and more intense heat wave peri...   \n",
       "3                                          Not found   \n",
       "4                                          Not found   \n",
       "\n",
       "                                        link  predicted_label  source  id  \n",
       "0                                  Not found                2  pubmed   1  \n",
       "1  https://pubmed.ncbi.nlm.nih.gov/37229504/                0  pubmed   2  \n",
       "2  https://pubmed.ncbi.nlm.nih.gov/34238399/                0  pubmed   3  \n",
       "3                                  Not found                2  pubmed   4  \n",
       "4                                  Not found                2  pubmed   5  "
      ]
     },
     "execution_count": 78,
     "metadata": {},
     "output_type": "execute_result"
    }
   ],
   "source": [
    "database = pd.read_csv('../../data/processed/prediction_database.csv')\n",
    "database.head()"
   ]
  },
  {
   "cell_type": "code",
   "execution_count": 79,
   "metadata": {},
   "outputs": [
    {
     "data": {
      "text/plain": [
       "479"
      ]
     },
     "execution_count": 79,
     "metadata": {},
     "output_type": "execute_result"
    }
   ],
   "source": [
    "unique_items = database.drop_duplicates(subset=['country', 'title','link'])\n",
    "count_unique_items = unique_items.shape[0]\n",
    "count_unique_items"
   ]
  },
  {
   "cell_type": "code",
   "execution_count": 80,
   "metadata": {},
   "outputs": [
    {
     "data": {
      "text/plain": [
       "479"
      ]
     },
     "execution_count": 80,
     "metadata": {},
     "output_type": "execute_result"
    }
   ],
   "source": [
    "len(database)"
   ]
  },
  {
   "cell_type": "code",
   "execution_count": 81,
   "metadata": {},
   "outputs": [
    {
     "data": {
      "text/html": [
       "<div>\n",
       "<style scoped>\n",
       "    .dataframe tbody tr th:only-of-type {\n",
       "        vertical-align: middle;\n",
       "    }\n",
       "\n",
       "    .dataframe tbody tr th {\n",
       "        vertical-align: top;\n",
       "    }\n",
       "\n",
       "    .dataframe thead th {\n",
       "        text-align: right;\n",
       "    }\n",
       "</style>\n",
       "<table border=\"1\" class=\"dataframe\">\n",
       "  <thead>\n",
       "    <tr style=\"text-align: right;\">\n",
       "      <th></th>\n",
       "      <th>country</th>\n",
       "      <th>title</th>\n",
       "      <th>authors</th>\n",
       "      <th>abstract</th>\n",
       "      <th>link</th>\n",
       "      <th>predicted_label</th>\n",
       "      <th>source</th>\n",
       "      <th>id</th>\n",
       "    </tr>\n",
       "  </thead>\n",
       "  <tbody>\n",
       "  </tbody>\n",
       "</table>\n",
       "</div>"
      ],
      "text/plain": [
       "Empty DataFrame\n",
       "Columns: [country, title, authors, abstract, link, predicted_label, source, id]\n",
       "Index: []"
      ]
     },
     "execution_count": 81,
     "metadata": {},
     "output_type": "execute_result"
    }
   ],
   "source": [
    "duplicates = database[database.duplicated(subset=['country', 'title','link'], keep=False)]\n",
    "duplicates"
   ]
  },
  {
   "cell_type": "code",
   "execution_count": 82,
   "metadata": {},
   "outputs": [
    {
     "data": {
      "text/plain": [
       "[]"
      ]
     },
     "execution_count": 82,
     "metadata": {},
     "output_type": "execute_result"
    }
   ],
   "source": [
    "duplicates[duplicates['country'] == 'Oman'].authors.to_list()"
   ]
  }
 ],
 "metadata": {
  "kernelspec": {
   "display_name": ".env",
   "language": "python",
   "name": "python3"
  },
  "language_info": {
   "codemirror_mode": {
    "name": "ipython",
    "version": 3
   },
   "file_extension": ".py",
   "mimetype": "text/x-python",
   "name": "python",
   "nbconvert_exporter": "python",
   "pygments_lexer": "ipython3",
   "version": "3.9.6"
  }
 },
 "nbformat": 4,
 "nbformat_minor": 2
}
