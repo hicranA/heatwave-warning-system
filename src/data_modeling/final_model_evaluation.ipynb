{
 "cells": [
  {
   "cell_type": "markdown",
   "metadata": {},
   "source": [
    "# Final data model evaluation "
   ]
  },
  {
   "cell_type": "code",
   "execution_count": 3,
   "metadata": {},
   "outputs": [],
   "source": [
    "import pandas as pd"
   ]
  },
  {
   "cell_type": "code",
   "execution_count": 4,
   "metadata": {},
   "outputs": [],
   "source": [
    "final_df = pd.read_csv('../../data/processed/heatwave_warning_system.csv')"
   ]
  },
  {
   "cell_type": "code",
   "execution_count": 5,
   "metadata": {},
   "outputs": [
    {
     "data": {
      "text/html": [
       "<div>\n",
       "<style scoped>\n",
       "    .dataframe tbody tr th:only-of-type {\n",
       "        vertical-align: middle;\n",
       "    }\n",
       "\n",
       "    .dataframe tbody tr th {\n",
       "        vertical-align: top;\n",
       "    }\n",
       "\n",
       "    .dataframe thead th {\n",
       "        text-align: right;\n",
       "    }\n",
       "</style>\n",
       "<table border=\"1\" class=\"dataframe\">\n",
       "  <thead>\n",
       "    <tr style=\"text-align: right;\">\n",
       "      <th></th>\n",
       "      <th>Country Name</th>\n",
       "      <th>Heatwaves Warning Systems (WMO data)</th>\n",
       "      <th>Heatwaves Warning Systems other sources</th>\n",
       "      <th>publication_count</th>\n",
       "      <th>nested_data</th>\n",
       "    </tr>\n",
       "  </thead>\n",
       "  <tbody>\n",
       "    <tr>\n",
       "      <th>0</th>\n",
       "      <td>Afghanistan</td>\n",
       "      <td>Unknown</td>\n",
       "      <td>Unknown</td>\n",
       "      <td>0</td>\n",
       "      <td>[{'id': 64, 'authors': 'Not found', 'title': '...</td>\n",
       "    </tr>\n",
       "    <tr>\n",
       "      <th>1</th>\n",
       "      <td>Albania</td>\n",
       "      <td>Unknown</td>\n",
       "      <td>No</td>\n",
       "      <td>1</td>\n",
       "      <td>[{'id': 73, 'authors': nan, 'title': 'Global b...</td>\n",
       "    </tr>\n",
       "    <tr>\n",
       "      <th>2</th>\n",
       "      <td>Algeria</td>\n",
       "      <td>Yes</td>\n",
       "      <td>No</td>\n",
       "      <td>1</td>\n",
       "      <td>[{'id': 70, 'authors': nan, 'title': 'Global b...</td>\n",
       "    </tr>\n",
       "    <tr>\n",
       "      <th>3</th>\n",
       "      <td>Andorra</td>\n",
       "      <td>Unknown</td>\n",
       "      <td>Unknown</td>\n",
       "      <td>0</td>\n",
       "      <td>[{'id': 137, 'authors': 'Not found', 'title': ...</td>\n",
       "    </tr>\n",
       "    <tr>\n",
       "      <th>4</th>\n",
       "      <td>Angola</td>\n",
       "      <td>No</td>\n",
       "      <td>Unknown</td>\n",
       "      <td>0</td>\n",
       "      <td>[{'id': 343, 'authors': 'Not found', 'title': ...</td>\n",
       "    </tr>\n",
       "  </tbody>\n",
       "</table>\n",
       "</div>"
      ],
      "text/plain": [
       "  Country Name Heatwaves Warning Systems (WMO data)  \\\n",
       "0  Afghanistan                              Unknown   \n",
       "1      Albania                              Unknown   \n",
       "2      Algeria                                  Yes   \n",
       "3      Andorra                              Unknown   \n",
       "4       Angola                                   No   \n",
       "\n",
       "  Heatwaves Warning Systems other sources  publication_count  \\\n",
       "0                                 Unknown                  0   \n",
       "1                                      No                  1   \n",
       "2                                      No                  1   \n",
       "3                                 Unknown                  0   \n",
       "4                                 Unknown                  0   \n",
       "\n",
       "                                         nested_data  \n",
       "0  [{'id': 64, 'authors': 'Not found', 'title': '...  \n",
       "1  [{'id': 73, 'authors': nan, 'title': 'Global b...  \n",
       "2  [{'id': 70, 'authors': nan, 'title': 'Global b...  \n",
       "3  [{'id': 137, 'authors': 'Not found', 'title': ...  \n",
       "4  [{'id': 343, 'authors': 'Not found', 'title': ...  "
      ]
     },
     "execution_count": 5,
     "metadata": {},
     "output_type": "execute_result"
    }
   ],
   "source": [
    "final_df.head()"
   ]
  },
  {
   "cell_type": "markdown",
   "metadata": {},
   "source": [
    "## Q1 How complete the WMO database country profile ?"
   ]
  },
  {
   "cell_type": "markdown",
   "metadata": {},
   "source": [
    "Out of the 193 countries we analyzed, WMO lacks records for 70 countries. This absence accounts for 35.3% of the total countries. Such a significant gap is concerning, especially when considering the importance of heatwave warning systems in mitigating the adverse effects of extreme heat events. Furthermore, 37 countries are explicitly listed as not having any heatwave warning systems. Combining these figures, it's evident that more than 55% of the countries either do not possess a heatwave warning system or have not reported their status to WMO. This underscores the critical need for comprehensive data collection and reporting to ensure global preparedness against heatwaves."
   ]
  },
  {
   "cell_type": "code",
   "execution_count": 6,
   "metadata": {},
   "outputs": [
    {
     "data": {
      "text/plain": [
       "Index(['Country Name', 'Heatwaves Warning Systems (WMO data)',\n",
       "       'Heatwaves Warning Systems other sources', 'publication_count',\n",
       "       'nested_data'],\n",
       "      dtype='object')"
      ]
     },
     "execution_count": 6,
     "metadata": {},
     "output_type": "execute_result"
    }
   ],
   "source": [
    "final_df.columns"
   ]
  },
  {
   "cell_type": "code",
   "execution_count": 7,
   "metadata": {},
   "outputs": [
    {
     "data": {
      "text/plain": [
       "Heatwaves Warning Systems (WMO data)\n",
       "Yes        86\n",
       "Unknown    70\n",
       "No         37\n",
       "Name: count, dtype: int64"
      ]
     },
     "execution_count": 7,
     "metadata": {},
     "output_type": "execute_result"
    }
   ],
   "source": [
    "final_df[\"Heatwaves Warning Systems (WMO data)\"].value_counts()"
   ]
  },
  {
   "cell_type": "code",
   "execution_count": 8,
   "metadata": {},
   "outputs": [
    {
     "data": {
      "text/plain": [
       "Heatwaves Warning Systems (WMO data)\n",
       "Yes        44.559585\n",
       "Unknown    36.269430\n",
       "No         19.170984\n",
       "Name: proportion, dtype: float64"
      ]
     },
     "execution_count": 8,
     "metadata": {},
     "output_type": "execute_result"
    }
   ],
   "source": [
    "final_df[\"Heatwaves Warning Systems (WMO data)\"].value_counts(normalize=True)*100"
   ]
  },
  {
   "cell_type": "markdown",
   "metadata": {},
   "source": [
    "## Q2 Based on external data sources, which countries or regions have HWS but are not listed in the WMO's database?"
   ]
  },
  {
   "cell_type": "markdown",
   "metadata": {},
   "source": [
    "Our machine learning model has provided valuable insights into the global landscape of heatwave warning systems. Specifically, the model has identified 18 countries that have potentially implemented heatwave warning systems that are either missing or marked as no. These predictions serve as a starting point for further investigation. By delving deeper into the research papers associated with these predictions, we can uncover detailed information about the nature and specifics of the heatwave warning systems in place."
   ]
  },
  {
   "cell_type": "code",
   "execution_count": 9,
   "metadata": {},
   "outputs": [
    {
     "data": {
      "text/plain": [
       "18"
      ]
     },
     "execution_count": 9,
     "metadata": {},
     "output_type": "execute_result"
    }
   ],
   "source": [
    "len(final_df[(final_df['Heatwaves Warning Systems (WMO data)'].isin(['No', 'Unknown'])) & (final_df['Heatwaves Warning Systems other sources'] == 'Yes')])"
   ]
  },
  {
   "cell_type": "code",
   "execution_count": 10,
   "metadata": {},
   "outputs": [
    {
     "data": {
      "text/plain": [
       "3"
      ]
     },
     "execution_count": 10,
     "metadata": {},
     "output_type": "execute_result"
    }
   ],
   "source": [
    "len(final_df[(final_df['Heatwaves Warning Systems (WMO data)'] == 'No') & (final_df['Heatwaves Warning Systems other sources'] == 'Yes')])"
   ]
  },
  {
   "cell_type": "code",
   "execution_count": 11,
   "metadata": {},
   "outputs": [
    {
     "data": {
      "text/html": [
       "<div>\n",
       "<style scoped>\n",
       "    .dataframe tbody tr th:only-of-type {\n",
       "        vertical-align: middle;\n",
       "    }\n",
       "\n",
       "    .dataframe tbody tr th {\n",
       "        vertical-align: top;\n",
       "    }\n",
       "\n",
       "    .dataframe thead th {\n",
       "        text-align: right;\n",
       "    }\n",
       "</style>\n",
       "<table border=\"1\" class=\"dataframe\">\n",
       "  <thead>\n",
       "    <tr style=\"text-align: right;\">\n",
       "      <th></th>\n",
       "      <th>Country Name</th>\n",
       "      <th>Heatwaves Warning Systems (WMO data)</th>\n",
       "      <th>Heatwaves Warning Systems other sources</th>\n",
       "      <th>publication_count</th>\n",
       "      <th>nested_data</th>\n",
       "    </tr>\n",
       "  </thead>\n",
       "  <tbody>\n",
       "    <tr>\n",
       "      <th>122</th>\n",
       "      <td>Nepal</td>\n",
       "      <td>No</td>\n",
       "      <td>Yes</td>\n",
       "      <td>2</td>\n",
       "      <td>[{'id': 275, 'authors': nan, 'title': 'Global ...</td>\n",
       "    </tr>\n",
       "    <tr>\n",
       "      <th>134</th>\n",
       "      <td>Panama</td>\n",
       "      <td>No</td>\n",
       "      <td>Yes</td>\n",
       "      <td>1</td>\n",
       "      <td>[{'id': 39, 'authors': 'Not found', 'title': '...</td>\n",
       "    </tr>\n",
       "    <tr>\n",
       "      <th>138</th>\n",
       "      <td>Philippines</td>\n",
       "      <td>No</td>\n",
       "      <td>Yes</td>\n",
       "      <td>1</td>\n",
       "      <td>[{'id': 382, 'authors': 'Not found', 'title': ...</td>\n",
       "    </tr>\n",
       "  </tbody>\n",
       "</table>\n",
       "</div>"
      ],
      "text/plain": [
       "    Country Name Heatwaves Warning Systems (WMO data)  \\\n",
       "122        Nepal                                   No   \n",
       "134       Panama                                   No   \n",
       "138  Philippines                                   No   \n",
       "\n",
       "    Heatwaves Warning Systems other sources  publication_count  \\\n",
       "122                                     Yes                  2   \n",
       "134                                     Yes                  1   \n",
       "138                                     Yes                  1   \n",
       "\n",
       "                                           nested_data  \n",
       "122  [{'id': 275, 'authors': nan, 'title': 'Global ...  \n",
       "134  [{'id': 39, 'authors': 'Not found', 'title': '...  \n",
       "138  [{'id': 382, 'authors': 'Not found', 'title': ...  "
      ]
     },
     "execution_count": 11,
     "metadata": {},
     "output_type": "execute_result"
    }
   ],
   "source": [
    "final_df[(final_df['Heatwaves Warning Systems (WMO data)'] == 'No') & (final_df['Heatwaves Warning Systems other sources'] == 'Yes')]"
   ]
  },
  {
   "cell_type": "code",
   "execution_count": 12,
   "metadata": {},
   "outputs": [
    {
     "data": {
      "text/plain": [
       "15"
      ]
     },
     "execution_count": 12,
     "metadata": {},
     "output_type": "execute_result"
    }
   ],
   "source": [
    "len(final_df[(final_df['Heatwaves Warning Systems (WMO data)'] == 'Unknown') & (final_df['Heatwaves Warning Systems other sources'] == 'Yes')])"
   ]
  },
  {
   "cell_type": "code",
   "execution_count": 13,
   "metadata": {},
   "outputs": [
    {
     "data": {
      "text/html": [
       "<div>\n",
       "<style scoped>\n",
       "    .dataframe tbody tr th:only-of-type {\n",
       "        vertical-align: middle;\n",
       "    }\n",
       "\n",
       "    .dataframe tbody tr th {\n",
       "        vertical-align: top;\n",
       "    }\n",
       "\n",
       "    .dataframe thead th {\n",
       "        text-align: right;\n",
       "    }\n",
       "</style>\n",
       "<table border=\"1\" class=\"dataframe\">\n",
       "  <thead>\n",
       "    <tr style=\"text-align: right;\">\n",
       "      <th></th>\n",
       "      <th>Country Name</th>\n",
       "      <th>Heatwaves Warning Systems (WMO data)</th>\n",
       "      <th>Heatwaves Warning Systems other sources</th>\n",
       "      <th>publication_count</th>\n",
       "      <th>nested_data</th>\n",
       "    </tr>\n",
       "  </thead>\n",
       "  <tbody>\n",
       "    <tr>\n",
       "      <th>15</th>\n",
       "      <td>Belarus</td>\n",
       "      <td>Unknown</td>\n",
       "      <td>Yes</td>\n",
       "      <td>1</td>\n",
       "      <td>[{'id': 295, 'authors': 'Not found', 'title': ...</td>\n",
       "    </tr>\n",
       "    <tr>\n",
       "      <th>43</th>\n",
       "      <td>Cuba</td>\n",
       "      <td>Unknown</td>\n",
       "      <td>Yes</td>\n",
       "      <td>2</td>\n",
       "      <td>[{'id': 233, 'authors': 'Not found', 'title': ...</td>\n",
       "    </tr>\n",
       "    <tr>\n",
       "      <th>67</th>\n",
       "      <td>Georgia</td>\n",
       "      <td>Unknown</td>\n",
       "      <td>Yes</td>\n",
       "      <td>13</td>\n",
       "      <td>[{'id': 57, 'authors': 'Joshua G Smith, Christ...</td>\n",
       "    </tr>\n",
       "    <tr>\n",
       "      <th>79</th>\n",
       "      <td>Iceland</td>\n",
       "      <td>Unknown</td>\n",
       "      <td>Yes</td>\n",
       "      <td>1</td>\n",
       "      <td>[{'id': 236, 'authors': 'Not found', 'title': ...</td>\n",
       "    </tr>\n",
       "    <tr>\n",
       "      <th>81</th>\n",
       "      <td>Indonesia</td>\n",
       "      <td>Unknown</td>\n",
       "      <td>Yes</td>\n",
       "      <td>6</td>\n",
       "      <td>[{'id': 220, 'authors': nan, 'title': 'Global ...</td>\n",
       "    </tr>\n",
       "    <tr>\n",
       "      <th>82</th>\n",
       "      <td>Iran (Islamic Republic of)</td>\n",
       "      <td>Unknown</td>\n",
       "      <td>Yes</td>\n",
       "      <td>7</td>\n",
       "      <td>[{'id': 340, 'authors': 'Hamidreza Aghababaeia...</td>\n",
       "    </tr>\n",
       "    <tr>\n",
       "      <th>85</th>\n",
       "      <td>Israel</td>\n",
       "      <td>Unknown</td>\n",
       "      <td>Yes</td>\n",
       "      <td>6</td>\n",
       "      <td>[{'id': 232, 'authors': 'Amnon Cochavi, Madi A...</td>\n",
       "    </tr>\n",
       "    <tr>\n",
       "      <th>101</th>\n",
       "      <td>Lithuania</td>\n",
       "      <td>Unknown</td>\n",
       "      <td>Yes</td>\n",
       "      <td>1</td>\n",
       "      <td>[{'id': 230, 'authors': 'Not found', 'title': ...</td>\n",
       "    </tr>\n",
       "    <tr>\n",
       "      <th>102</th>\n",
       "      <td>Luxembourg</td>\n",
       "      <td>Unknown</td>\n",
       "      <td>Yes</td>\n",
       "      <td>5</td>\n",
       "      <td>[{'id': 155, 'authors': 'Not found', 'title': ...</td>\n",
       "    </tr>\n",
       "    <tr>\n",
       "      <th>125</th>\n",
       "      <td>New Zealand</td>\n",
       "      <td>Unknown</td>\n",
       "      <td>Yes</td>\n",
       "      <td>6</td>\n",
       "      <td>[{'id': 202, 'authors': nan, 'title': 'Global ...</td>\n",
       "    </tr>\n",
       "    <tr>\n",
       "      <th>132</th>\n",
       "      <td>Oman</td>\n",
       "      <td>Unknown</td>\n",
       "      <td>Yes</td>\n",
       "      <td>16</td>\n",
       "      <td>[{'id': 325, 'authors': nan, 'title': 'Global ...</td>\n",
       "    </tr>\n",
       "    <tr>\n",
       "      <th>133</th>\n",
       "      <td>Pakistan</td>\n",
       "      <td>Unknown</td>\n",
       "      <td>Yes</td>\n",
       "      <td>7</td>\n",
       "      <td>[{'id': 23, 'authors': nan, 'title': 'Global b...</td>\n",
       "    </tr>\n",
       "    <tr>\n",
       "      <th>140</th>\n",
       "      <td>Portugal</td>\n",
       "      <td>Unknown</td>\n",
       "      <td>Yes</td>\n",
       "      <td>16</td>\n",
       "      <td>[{'id': 260, 'authors': nan, 'title': 'Global ...</td>\n",
       "    </tr>\n",
       "    <tr>\n",
       "      <th>145</th>\n",
       "      <td>Russian Federation</td>\n",
       "      <td>Unknown</td>\n",
       "      <td>Yes</td>\n",
       "      <td>2</td>\n",
       "      <td>[{'id': 338, 'authors': 'Not found', 'title': ...</td>\n",
       "    </tr>\n",
       "    <tr>\n",
       "      <th>178</th>\n",
       "      <td>Turkey</td>\n",
       "      <td>Unknown</td>\n",
       "      <td>Yes</td>\n",
       "      <td>1</td>\n",
       "      <td>[{'id': 321, 'authors': 'Not found', 'title': ...</td>\n",
       "    </tr>\n",
       "  </tbody>\n",
       "</table>\n",
       "</div>"
      ],
      "text/plain": [
       "                   Country Name Heatwaves Warning Systems (WMO data)  \\\n",
       "15                      Belarus                              Unknown   \n",
       "43                         Cuba                              Unknown   \n",
       "67                      Georgia                              Unknown   \n",
       "79                      Iceland                              Unknown   \n",
       "81                    Indonesia                              Unknown   \n",
       "82   Iran (Islamic Republic of)                              Unknown   \n",
       "85                       Israel                              Unknown   \n",
       "101                   Lithuania                              Unknown   \n",
       "102                  Luxembourg                              Unknown   \n",
       "125                 New Zealand                              Unknown   \n",
       "132                        Oman                              Unknown   \n",
       "133                    Pakistan                              Unknown   \n",
       "140                    Portugal                              Unknown   \n",
       "145          Russian Federation                              Unknown   \n",
       "178                      Turkey                              Unknown   \n",
       "\n",
       "    Heatwaves Warning Systems other sources  publication_count  \\\n",
       "15                                      Yes                  1   \n",
       "43                                      Yes                  2   \n",
       "67                                      Yes                 13   \n",
       "79                                      Yes                  1   \n",
       "81                                      Yes                  6   \n",
       "82                                      Yes                  7   \n",
       "85                                      Yes                  6   \n",
       "101                                     Yes                  1   \n",
       "102                                     Yes                  5   \n",
       "125                                     Yes                  6   \n",
       "132                                     Yes                 16   \n",
       "133                                     Yes                  7   \n",
       "140                                     Yes                 16   \n",
       "145                                     Yes                  2   \n",
       "178                                     Yes                  1   \n",
       "\n",
       "                                           nested_data  \n",
       "15   [{'id': 295, 'authors': 'Not found', 'title': ...  \n",
       "43   [{'id': 233, 'authors': 'Not found', 'title': ...  \n",
       "67   [{'id': 57, 'authors': 'Joshua G Smith, Christ...  \n",
       "79   [{'id': 236, 'authors': 'Not found', 'title': ...  \n",
       "81   [{'id': 220, 'authors': nan, 'title': 'Global ...  \n",
       "82   [{'id': 340, 'authors': 'Hamidreza Aghababaeia...  \n",
       "85   [{'id': 232, 'authors': 'Amnon Cochavi, Madi A...  \n",
       "101  [{'id': 230, 'authors': 'Not found', 'title': ...  \n",
       "102  [{'id': 155, 'authors': 'Not found', 'title': ...  \n",
       "125  [{'id': 202, 'authors': nan, 'title': 'Global ...  \n",
       "132  [{'id': 325, 'authors': nan, 'title': 'Global ...  \n",
       "133  [{'id': 23, 'authors': nan, 'title': 'Global b...  \n",
       "140  [{'id': 260, 'authors': nan, 'title': 'Global ...  \n",
       "145  [{'id': 338, 'authors': 'Not found', 'title': ...  \n",
       "178  [{'id': 321, 'authors': 'Not found', 'title': ...  "
      ]
     },
     "execution_count": 13,
     "metadata": {},
     "output_type": "execute_result"
    }
   ],
   "source": [
    "final_df[(final_df['Heatwaves Warning Systems (WMO data)'] == 'Unknown') & (final_df['Heatwaves Warning Systems other sources'] == 'Yes')]"
   ]
  },
  {
   "cell_type": "markdown",
   "metadata": {},
   "source": [
    "## q4 Exploring the Role of Publications in Predictive Modeling:\n",
    "\n",
    "- Can the number of heatwave-related publications from a country serve as a valuable feature in enhancing the accuracy of our predictive model?\n",
    "\n",
    "- How does the inclusion of publication count influence the model's predictions, and what implications does it have for future data collection and modeling efforts?"
   ]
  },
  {
   "cell_type": "markdown",
   "metadata": {},
   "source": [
    "The fact that the correlation between the number of publications and the presence of a Heatwave Warning System (HWS) helped identify discrepancies in your data is significant. It underscores the importance of multifaceted analysis and the iterative nature of data projects."
   ]
  },
  {
   "cell_type": "markdown",
   "metadata": {},
   "source": [
    "Visualization with Boxplot:"
   ]
  },
  {
   "cell_type": "code",
   "execution_count": 28,
   "metadata": {},
   "outputs": [
    {
     "data": {
      "image/png": "[encoded data removed]",
      "text/plain": [
       "<Figure size 640x480 with 1 Axes>"
      ]
     },
     "metadata": {},
     "output_type": "display_data"
    },
    {
     "data": {
      "text/plain": [
       "Index(['Country Name', 'Heatwaves Warning Systems (WMO data)',\n",
       "       'Heatwaves Warning Systems other sources', 'publication_count',\n",
       "       'nested_data'],\n",
       "      dtype='object')"
      ]
     },
     "execution_count": 28,
     "metadata": {},
     "output_type": "execute_result"
    }
   ],
   "source": [
    "import matplotlib.pyplot as plt\n",
    "import seaborn as sns\n",
    "\n",
    "sns.boxplot(x='Heatwaves Warning Systems (WMO data)', y='publication_count', data=final_df)\n",
    "plt.show()\n",
    "final_df.columns"
   ]
  },
  {
   "cell_type": "markdown",
   "metadata": {},
   "source": [
    "**result of the Mann-Whitney U Test**:\n",
    "\n",
    "- **Statistics (U value)**: `2222.500`\n",
    "  - This is the test statistic for the Mann-Whitney U Test. It represents the sum of the ranks from one of the groups. The U value itself doesn't provide a direct interpretation in isolation, but it's used to determine the significance of the difference between the two groups.\n",
    "\n",
    "- **p-value**: `0.000`\n",
    "  - The p-value is a measure of the evidence against a null hypothesis. In the context of the Mann-Whitney U Test, the null hypothesis typically states that there's no difference between the distributions of the two groups.\n",
    "  - A p-value of `0.000` (often rounded) suggests that the test found a statistically significant difference between the two groups. In other words, the distributions of the numerical variable across the two categories of the categorical variable are significantly different.\n",
    "  - The threshold for significance is typically set at `0.05` (5%), but it can vary based on the context. If the p-value is less than this threshold, you reject the null hypothesis.\n",
    "\n",
    "In summary, based on the provided output, there's a statistically significant difference in the distribution of your numerical variable (likely the number of publications) between the two categories of your categorical variable (e.g., countries with and without a heatwave warning system).\n",
    "\n",
    "In other words, the number of publications related to heatwaves is not distributed the same way between countries that have a heatwave warning system and those that don't. This could mean that countries with a heatwave warning system might have more publications related to heatwaves (or vice versa, depending on the direction of the relationship).\n",
    "\n",
    "However, it's essential to note that correlation does not imply causation. While there's a statistically significant relationship between the two variables, it doesn't necessarily mean that having more publications causes a country to have a heatwave warning system, or vice versa. There could be other confounding factors at play."
   ]
  },
  {
   "cell_type": "code",
   "execution_count": 29,
   "metadata": {},
   "outputs": [
    {
     "name": "stdout",
     "output_type": "stream",
     "text": [
      "Statistics=2222.500, p=0.000\n"
     ]
    }
   ],
   "source": [
    "from scipy.stats import mannwhitneyu\n",
    "\n",
    "group1 = final_df[final_df['Heatwaves Warning Systems (WMO data)'] == 'Yes']['publication_count']\n",
    "group2 = final_df[final_df['Heatwaves Warning Systems (WMO data)'] == 'No']['publication_count']\n",
    "\n",
    "stat, p = mannwhitneyu(group1, group2)\n",
    "print('Statistics=%.3f, p=%.3f' % (stat, p))\n"
   ]
  },
  {
   "cell_type": "markdown",
   "metadata": {},
   "source": [
    "The results can be interpreted as follows:\n",
    "\n",
    "1. **Correlation (0.18226622732322217)**: \n",
    "   - The Point-Biserial Correlation Coefficient value of approximately 0.182 suggests a weak positive relationship between the presence of a heatwave warning system (HWS) and the number of publications for a country. \n",
    "   - A positive correlation means that countries with an HWS tend to have slightly more publications related to heatwaves than countries without an HWS. However, the strength of this relationship is weak.\n",
    "\n",
    "2. **P-value (0.011181917940052867)**:\n",
    "   - The p-value is a measure of the evidence against a null hypothesis. In this context, the null hypothesis would be that there's no relationship between the presence of an HWS and the number of publications.\n",
    "   - A p-value less than 0.05 (a common threshold) suggests that the observed correlation is statistically significant, meaning it's unlikely to have occurred by random chance.\n",
    "   - Your p-value of approximately 0.011 is less than 0.05, so the correlation is statistically significant, even if it's weak.\n",
    "\n",
    "In summary, there's a statistically significant, albeit weak, positive relationship between the presence of a heatwave warning system in a country and the number of publications related to heatwaves for that country. This suggests that countries with an HWS might be slightly more active in heatwave-related research, but the relationship isn't strong."
   ]
  },
  {
   "cell_type": "code",
   "execution_count": 30,
   "metadata": {},
   "outputs": [
    {
     "name": "stdout",
     "output_type": "stream",
     "text": [
      "Correlation: 0.18226622732322217\n",
      "P-value: 0.011181917940052867\n"
     ]
    }
   ],
   "source": [
    "from scipy.stats import pointbiserialr\n",
    "\n",
    "# Assuming your dataframe is named final_df\n",
    "# Convert the categorical variable to binary (0 and 1)\n",
    "final_df['binary_hws'] = final_df['Heatwaves Warning Systems (WMO data)'].apply(lambda x: 1 if x == 'Yes' else 0)\n",
    "\n",
    "# Calculate the Point-Biserial Correlation\n",
    "corr, p_value = pointbiserialr(final_df['binary_hws'], final_df['publication_count'])\n",
    "\n",
    "print(f\"Correlation: {corr}\")\n",
    "print(f\"P-value: {p_value}\")\n"
   ]
  },
  {
   "cell_type": "markdown",
   "metadata": {},
   "source": [
    "1. **Mann-Whitney U Test**:\n",
    "   - This is a non-parametric test used to determine if there are differences between two independent groups on a continuous or ordinal dependent variable.\n",
    "   - In your case, it was used to test if there's a difference in the distribution of the number of publications between countries with and without a heatwave warning system.\n",
    "   - The result you obtained (p-value < 0.05) suggests that there's a statistically significant difference in the number of publications between the two groups.\n",
    "\n",
    "2. **Point-Biserial Correlation Coefficient**:\n",
    "   - This measures the strength and direction of the association between a binary categorical variable and a continuous variable.\n",
    "   - In your case, it was used to determine the strength of the relationship between the presence of a heatwave warning system and the number of publications.\n",
    "   - The result you obtained (correlation coefficient ~0.182) suggests a weak positive relationship between the two variables.\n",
    "\n",
    "The two tests answer slightly different questions:\n",
    "\n",
    "- The Mann-Whitney U test tells you that there's a significant difference in the number of publications between countries with and without a heatwave warning system.\n",
    "  \n",
    "- The Point-Biserial Correlation Coefficient tells you about the strength and direction of the relationship between the presence of a heatwave warning system and the number of publications.\n",
    "\n",
    "Both results are valid, but they provide different perspectives on the relationship between the two variables. The Mann-Whitney U test doesn't tell you about the strength of the relationship, while the Point-Biserial Correlation Coefficient doesn't directly test for differences in distributions."
   ]
  },
  {
   "cell_type": "markdown",
   "metadata": {},
   "source": [
    "1. descriptive statistics"
   ]
  },
  {
   "cell_type": "markdown",
   "metadata": {},
   "source": [
    "The output you provided is a summary of descriptive statistics for the `publication_count` column in your dataset. Here's a breakdown of what each line means:\n",
    "\n",
    "- **count**: The number of non-missing values. In this case, there are 193 countries in your dataset.\n",
    "  \n",
    "- **mean**: The average number of publications across all countries. On average, each country has about 1.85 publications.\n",
    "\n",
    "- **std**: Standard deviation, which measures the amount of variation or dispersion in the publication counts. A higher standard deviation indicates that the publication counts vary more from the mean. Here, the standard deviation is approximately 3.89.\n",
    "\n",
    "- **min**: The minimum number of publications any country has. The minimum is 0, meaning at least one country has no publications.\n",
    "\n",
    "- **25% (First Quartile)**: 25% of countries have 0 or fewer publications. This is the value below which a given percentage of observations fall.\n",
    "\n",
    "- **50% (Median or Second Quartile)**: The median number of publications. Half of the countries have 0 publications, and the other half have more than 0.\n",
    "\n",
    "- **75% (Third Quartile)**: 75% of countries have 1 or fewer publications. This means that the top 25% of countries have more than 1 publication.\n",
    "\n",
    "- **max**: The maximum number of publications any country has. The maximum is 20, meaning at least one country has 20 publications.\n",
    "\n",
    "From this summary, you can infer that:\n",
    "- A significant number of countries (at least 50%) have no publications or very few.\n",
    "- There's a wide range in the number of publications, with a maximum of 20 and a mean of just 1.85. This suggests that a few countries might have a high number of publications, pulling the average up.\n",
    "- The data is right-skewed since the mean (1.85) is greater than the median (0)."
   ]
  },
  {
   "cell_type": "code",
   "execution_count": 15,
   "metadata": {},
   "outputs": [
    {
     "data": {
      "text/plain": [
       "count    193.000000\n",
       "mean       1.849741\n",
       "std        3.894870\n",
       "min        0.000000\n",
       "25%        0.000000\n",
       "50%        0.000000\n",
       "75%        1.000000\n",
       "max       20.000000\n",
       "Name: publication_count, dtype: float64"
      ]
     },
     "execution_count": 15,
     "metadata": {},
     "output_type": "execute_result"
    }
   ],
   "source": [
    "final_df['publication_count'].describe()"
   ]
  },
  {
   "cell_type": "markdown",
   "metadata": {},
   "source": [
    "2. Histogram:"
   ]
  },
  {
   "cell_type": "code",
   "execution_count": 16,
   "metadata": {},
   "outputs": [
    {
     "data": {
      "image/png": "[encoded data removed]",
      "text/plain": [
       "<Figure size 640x480 with 1 Axes>"
      ]
     },
     "metadata": {},
     "output_type": "display_data"
    }
   ],
   "source": [
    "import matplotlib.pyplot as plt\n",
    "\n",
    "plt.hist(final_df['publication_count'], bins=10, edgecolor='black')\n",
    "plt.title('Distribution of Publication Counts')\n",
    "plt.xlabel('Number of Publications')\n",
    "plt.ylabel('Number of Countries')\n",
    "plt.show()\n"
   ]
  },
  {
   "cell_type": "markdown",
   "metadata": {},
   "source": [
    "3. Bar Chart:\n",
    "\n",
    "Show the top 10 countries with the most publications."
   ]
  },
  {
   "cell_type": "code",
   "execution_count": 17,
   "metadata": {},
   "outputs": [
    {
     "data": {
      "text/plain": [
       "<Figure size 1200x600 with 0 Axes>"
      ]
     },
     "metadata": {},
     "output_type": "display_data"
    },
    {
     "data": {
      "image/png": "[encoded data removed]",
      "text/plain": [
       "<Figure size 640x480 with 1 Axes>"
      ]
     },
     "metadata": {},
     "output_type": "display_data"
    }
   ],
   "source": [
    "top_countries = final_df.sort_values(by='publication_count', ascending=False).head(10)\n",
    "\n",
    "plt.figure(figsize=(12,6))\n",
    "top_countries.plot(x='Country Name', y='publication_count', kind='bar', legend=False)\n",
    "plt.title('Top 10 Countries by Number of Publications')\n",
    "plt.ylabel('Number of Publications')\n",
    "plt.xlabel('Country Name')\n",
    "plt.xticks(rotation=45)\n",
    "plt.tight_layout()\n",
    "plt.show()\n"
   ]
  },
  {
   "cell_type": "markdown",
   "metadata": {},
   "source": [
    "4. Box Plot:\n",
    "\n",
    "Visualize the spread and skewness of the publication data."
   ]
  },
  {
   "cell_type": "code",
   "execution_count": 18,
   "metadata": {},
   "outputs": [
    {
     "data": {
      "image/png": "[encoded data removed]",
      "text/plain": [
       "<Figure size 640x480 with 1 Axes>"
      ]
     },
     "metadata": {},
     "output_type": "display_data"
    }
   ],
   "source": [
    "plt.boxplot(final_df['publication_count'])\n",
    "plt.title('Box Plot of Publication Counts')\n",
    "plt.ylabel('Number of Publications')\n",
    "plt.show()"
   ]
  },
  {
   "cell_type": "markdown",
   "metadata": {},
   "source": [
    "5. Analysis:\n",
    "\n",
    "Countries with High Publications: Identify countries with a high number of publications.\n",
    "\n",
    "Countries with Low or No Publications: Identify countries with low or no publications."
   ]
  },
  {
   "cell_type": "code",
   "execution_count": 19,
   "metadata": {},
   "outputs": [],
   "source": [
    "high_pub_countries = final_df[final_df['publication_count'] > final_df['publication_count'].quantile(0.75)]['Country Name']\n",
    "low_pub_countries = final_df[final_df['publication_count'] < final_df['publication_count'].quantile(0.25)]['Country Name']\n"
   ]
  },
  {
   "cell_type": "code",
   "execution_count": 20,
   "metadata": {},
   "outputs": [
    {
     "data": {
      "text/plain": [
       "8     Australia\n",
       "9       Austria\n",
       "16      Belgium\n",
       "23       Brazil\n",
       "32       Canada\n",
       "Name: Country Name, dtype: object"
      ]
     },
     "execution_count": 20,
     "metadata": {},
     "output_type": "execute_result"
    }
   ],
   "source": [
    "high_pub_countries.head()"
   ]
  },
  {
   "cell_type": "code",
   "execution_count": 21,
   "metadata": {},
   "outputs": [
    {
     "data": {
      "text/plain": [
       "Series([], Name: Country Name, dtype: object)"
      ]
     },
     "execution_count": 21,
     "metadata": {},
     "output_type": "execute_result"
    }
   ],
   "source": [
    "low_pub_countries"
   ]
  },
  {
   "cell_type": "markdown",
   "metadata": {},
   "source": [
    "Discrepancies: Are there countries with a high number of publications but no established heatwave warning system? This could indicate a gap between research and practical implementation."
   ]
  },
  {
   "cell_type": "markdown",
   "metadata": {},
   "source": [
    "we see in here that  Australia indeed has a heatwave warning system, as verified by their official website or other reliable sources, then this discrepancy underscores a few key points:\n",
    "\n",
    "http://www.bom.gov.au/australia/heatwave/knowledge-centre/heatwave-service.shtml\n",
    "\n",
    "\n",
    "1. **Data Completeness and Accuracy**: The WMO database and other global datasets might not always be up-to-date or comprehensive. This highlights the importance of cross-referencing with multiple sources, especially for critical data points.\n",
    "\n",
    "2. **Model Refinement**: If the machine learning model also predicted that Australia doesn't have a heatwave warning system, it suggests room for model improvement. It would be beneficial to understand why the model made such a prediction and adjust accordingly.\n",
    "\n",
    "3. **Value of Domain Knowledge**: This situation emphasizes the importance of domain knowledge and manual validation in data science projects. While automated systems and models can provide predictions and insights, human expertise and validation remain crucial, especially when results can have significant implications.\n",
    "\n",
    "4. **Feedback Loop**: Situations like this can be used to create a feedback loop for both the data source (like the WMO database) and the machine learning model. By identifying and rectifying inaccuracies, the system can be continuously improved.\n",
    "\n"
   ]
  },
  {
   "cell_type": "code",
   "execution_count": 22,
   "metadata": {},
   "outputs": [
    {
     "name": "stdout",
     "output_type": "stream",
     "text": [
      "                      Country Name  publication_count\n",
      "8                        Australia                 20\n",
      "122                          Nepal                  2\n",
      "181           United Arab Emirates                  1\n",
      "138                    Philippines                  1\n",
      "69                           Ghana                  1\n",
      "24   British Caribbean Territories                  1\n",
      "170                       Thailand                  1\n"
     ]
    }
   ],
   "source": [
    "# Filter countries with no established heatwave warning system\n",
    "no_hws_countries = final_df[final_df['Heatwaves Warning Systems (WMO data)'] == 'No']  # Adjust the condition based on the actual values in your dataframe\n",
    "\n",
    "# Sort these countries based on the number of publications in descending order\n",
    "sorted_no_hws_countries = no_hws_countries.sort_values(by='publication_count', ascending=False)\n",
    "\n",
    "# Display the top countries with the highest number of publications but no HWS\n",
    "print(sorted_no_hws_countries[['Country Name', 'publication_count']].head(7))  # Adjust the number inside head() based on how many top countries you want to display\n"
   ]
  },
  {
   "cell_type": "markdown",
   "metadata": {},
   "source": [
    "\n",
    "\n",
    "---\n",
    "\n",
    "### Investigating the Correlation Between Number of Publications and Heatwave Warning Systems\n",
    "\n",
    "#### **Introduction to the Correlation Analysis**:\n",
    "- **Background**: Recognizing the importance of research in driving policy and infrastructure decisions, we hypothesized that countries with a higher number of heatwave-related publications might be more likely to have established Heatwave Warning Systems (HWS).\n",
    "- **Objective**: To investigate the correlation between the number of heatwave-related publications and the presence of an HWS in various countries.\n",
    "\n",
    "#### **Findings**:\n",
    "- **Correlation Analysis**: Our analysis revealed a correlation between the number of publications and the presence of an HWS. However, the relationship, while statistically significant, was not very strong.\n",
    "- **Notable Discrepancies**: Despite the weak correlation, the analysis was instrumental in identifying discrepancies in our data. For instance, Australia, with a high number of publications, was initially not identified as having an HWS, prompting further investigation.\n",
    "\n",
    "#### **Value of the Analysis**:\n",
    "- **Highlighting Data Discrepancies**: The correlation analysis served as a valuable tool in our research process. Even though the correlation wasn't strong, it acted as a catalyst, prompting us to delve deeper and identify data discrepancies.\n",
    "- **Iterative Data Analysis**: This experience underscores the iterative nature of data projects. An analysis might not always yield expected results, but it can spotlight areas that require further investigation or validation.\n",
    "\n",
    "#### **Implications and Learnings**:\n",
    "- **Continuous Validation**: This exercise emphasized the importance of continuous validation in data projects. Using multiple data sources and analytical methods ensures the robustness of our findings.\n",
    "- **The Role of Research in Policy**: While the correlation wasn't very strong, the analysis reaffirmed the belief that research plays a pivotal role in shaping policies and infrastructure decisions, like the establishment of HWS.\n",
    "\n",
    "#### **Future Directions**:\n",
    "- **Deeper Investigation**: Further research could delve into understanding the nuances behind these discrepancies. Why do some countries with extensive research lack HWS? What barriers exist?\n",
    "- **Enhancing Predictive Capabilities**: The potential of integrating publication data or other similar metrics in future iterations of the model could enhance its predictive capabilities, making it a valuable tool for stakeholders.\n",
    "\n",
    "---"
   ]
  }
 ],
 "metadata": {
  "kernelspec": {
   "display_name": ".env",
   "language": "python",
   "name": "python3"
  },
  "language_info": {
   "codemirror_mode": {
    "name": "ipython",
    "version": 3
   },
   "file_extension": ".py",
   "mimetype": "text/x-python",
   "name": "python",
   "nbconvert_exporter": "python",
   "pygments_lexer": "ipython3",
   "version": "3.9.6"
  }
 },
 "nbformat": 4,
 "nbformat_minor": 2
}
