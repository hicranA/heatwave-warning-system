{
 "cells": [
  {
   "cell_type": "code",
   "execution_count": null,
   "id": "dbd54b41",
   "metadata": {},
   "outputs": [],
   "source": [
    "#pip install selenium"
   ]
  },
  {
   "cell_type": "code",
   "execution_count": 1,
   "id": "6caf706d",
   "metadata": {},
   "outputs": [],
   "source": [
    "from selenium import webdriver\n",
    "from selenium.webdriver.common.by import By\n",
    "from selenium.webdriver.support.ui import WebDriverWait\n",
    "from selenium.webdriver.support import expected_conditions as EC\n",
    "from selenium.webdriver.chrome.options import Options\n",
    "option = webdriver.ChromeOptions()\n",
    "driver = webdriver.Chrome(options = option)"
   ]
  },
  {
   "cell_type": "code",
   "execution_count": 7,
   "id": "faa16d25",
   "metadata": {},
   "outputs": [],
   "source": [
    "#driver=webdriver.Chrome()"
   ]
  },
  {
   "cell_type": "code",
   "execution_count": 1,
   "id": "4ec6b75a",
   "metadata": {},
   "outputs": [
    {
     "data": {
      "text/plain": [
       "'4.6.0'"
      ]
     },
     "execution_count": 1,
     "metadata": {},
     "output_type": "execute_result"
    }
   ],
   "source": [
    "#import selenium\n",
    "#selenium.__version__"
   ]
  },
  {
   "cell_type": "code",
   "execution_count": 4,
   "id": "b151b17e",
   "metadata": {},
   "outputs": [],
   "source": [
    "driver.get('https://app.powerbi.com/view?r=eyJrIjoiZjNhNzIzM2YtMjRkYS00ZjJjLWEzZmMtNmQzMGQzMDdiODU3IiwidCI6ImVhYTZiZTU0LTQ2ODctNDBjNC05ODI3LWMwNDRiZDhlOGQzYyIsImMiOjl9')"
   ]
  },
  {
   "cell_type": "code",
   "execution_count": null,
   "id": "9af904f6",
   "metadata": {},
   "outputs": [],
   "source": [
    "# //*[@id=\"pbiAppPlaceHolder\"]/report-embed/div\n",
    "\n",
    "\n"
   ]
  },
  {
   "cell_type": "code",
   "execution_count": 12,
   "id": "11e8502d",
   "metadata": {},
   "outputs": [
    {
     "name": "stdout",
     "output_type": "stream",
     "text": [
      "Member Profiles\n",
      "Select a Member\n",
      "Australia\n",
      "The information contained in these profiles have been provided by WMO Members. The information is based on a self-assessment exercise. The date displayed in each section corresponds with the date in which the information was provided to WMO. \n",
      "\n",
      "If you find any issue or inconsistency with the information displayed, please contact community@wmo.int.\n",
      "Summary\n",
      "Mandate, Strategic Plan, Staff and Budget\n",
      "Infrastructure\n",
      "Services\n",
      "Early Warning Services\n",
      "Research & Innovation\n",
      "Permanent Representative:\n",
      "Hydrological Adviser:\n",
      "National Meteorological Service:\n",
      "Responsible Ministry:\n",
      "Scroll up\n",
      "Scroll down\n",
      "Scroll left\n",
      "Scroll right\n",
      "Row Selection\n",
      "Mandate\n",
      " Status\n",
      "Details\n",
      "Select Row\n",
      "Legislative act regulating meteorology (or hydrometeorology)\n",
      "Law\n",
      "Select Row\n",
      "Role of NMS as authoritative voice of warning services\n",
      "Yes\n",
      "Scroll up\n",
      "Scroll down\n",
      "Scroll left\n",
      "Scroll right\n",
      "Row Selection\n",
      "Strategic Plan\n",
      " Status\n",
      "Details\n",
      "Select Row\n",
      "Approval of the Strategic Plan by the higher authority institution\n",
      "Yes\n",
      "Select Row\n",
      "Strategic plan in place in NMS, covering the next 2-5 years\n",
      "Yes\n",
      "Select Row\n",
      "workplan, action plan or an implementation plan that operationalizes the Strategic Plan, including the allocation of resources\n",
      "Yes\n",
      "Scroll up\n",
      "Scroll down\n",
      "Scroll left\n",
      "Scroll right\n",
      "Row Selection\n",
      "Infrastructure\n",
      " Status\n",
      "Details\n",
      "Select Row\n",
      "A National WIGOS Implementation Plan adopted/approved\n",
      "No\n",
      "Select Row\n",
      "Access to forecast products from WMCs/RSMCs.\n",
      "Yes\n",
      "Select Row\n",
      "Integrated system for analysis, weather forecasting and visualization\n",
      "Yes\n",
      "Select Row\n",
      "Level of WIS implementation\n",
      "3\n",
      "Select Row\n",
      "NMS access to products provided by WMO global and regional centres\n",
      "Highly reliable access\n",
      "Select Row\n",
      "NMS compliance with WMO No. 1131 Climate Data Management System Specifications\n",
      "Fully compliant\n",
      "Select Row\n",
      "NMS has observations that are not transmitted to GTS/WIS for own purpose\n",
      "Yes\n",
      "Select Row\n",
      "Post-processing of Numerical Weather Prediction, including Ensemble Prediction System products\n",
      "Yes\n",
      "Scroll up\n",
      "Scroll down\n",
      "Scroll left\n",
      "Scroll right\n",
      "Row Selection\n",
      "Services\n",
      "Status\n",
      " Details\n",
      "Select Row\n",
      "Impact-based forecast and warning services produced/provided\n",
      "Yes\n",
      "Select Row\n",
      "Quality Management System for the provision of meteorological services for international air navigation\n",
      "Yes, in full\n",
      "Select Row\n",
      "Tailored services\n",
      "Yes\n",
      "Select Row\n",
      "Quality Management System for the provision of meteorological, hydrological and climate warning service\n",
      "Yes, in part\n",
      "Scroll up\n",
      "Scroll down\n",
      "Scroll left\n",
      "Scroll right\n",
      "Row Selection\n",
      "Early Warning Services\n",
      "Status\n",
      " Details\n",
      "Select Row\n",
      "24/7 warning and alert service\n",
      "Yes\n",
      "Select Row\n",
      "Accessible, understandable, usable and relevant disaster risk information and assessment avail\n",
      "Yes\n",
      "Select Row\n",
      "Multi-Hazard Early Warning System (MHEWS) in place in the country\n",
      "No\n",
      "-\n",
      "+\n",
      "54%\n",
      "Microsoft Power BI\n",
      "1of6\n"
     ]
    }
   ],
   "source": [
    "# Wait for the report content to load \n",
    "wait = WebDriverWait(driver, 10)\n",
    "report_element = wait.until(EC.presence_of_element_located((By.XPATH, '//*[@id=\"pbiAppPlaceHolder\"]')))\n",
    "\n",
    "# Extract the content of the report element\n",
    "report_content = report_element.text\n",
    "\n",
    "# Print or process the scraped content as needed\n",
    "print(report_content)\n",
    "\n",
    "# Close the WebDriver\n",
    "#driver.quit()"
   ]
  },
  {
   "cell_type": "code",
   "execution_count": 15,
   "id": "d7bdcb0d",
   "metadata": {},
   "outputs": [
    {
     "name": "stdout",
     "output_type": "stream",
     "text": [
      "\n"
     ]
    }
   ],
   "source": [
    "# Wait for the report content to load \n",
    "wait = WebDriverWait(driver, 10)\n",
    "report_element = wait.until(EC.presence_of_element_located((By.XPATH, '//*[@id=\"radio_button_20_filled\"]')))\n",
    "\n",
    "# Extract the content of the report element\n",
    "report_content = report_element.text\n",
    "\n",
    "# Print or process the scraped content as needed\n",
    "print(report_content)\n",
    "\n",
    "# Close the WebDriver\n",
    "#driver.quit()"
   ]
  },
  {
   "cell_type": "code",
   "execution_count": null,
   "id": "a77c9873",
   "metadata": {},
   "outputs": [],
   "source": [
    "//*[@id=\"js-enlightenWorldFlagsE887F52F76244B1C927F80CF9724AEF6\"]/text()[7]"
   ]
  }
 ],
 "metadata": {
  "kernelspec": {
   "display_name": "Python 3 (ipykernel)",
   "language": "python",
   "name": "python3"
  },
  "language_info": {
   "codemirror_mode": {
    "name": "ipython",
    "version": 3
   },
   "file_extension": ".py",
   "mimetype": "text/x-python",
   "name": "python",
   "nbconvert_exporter": "python",
   "pygments_lexer": "ipython3",
   "version": "3.9.7"
  }
 },
 "nbformat": 4,
 "nbformat_minor": 5
}
